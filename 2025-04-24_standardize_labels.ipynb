{
 "cells": [
  {
   "cell_type": "code",
   "execution_count": 1,
   "id": "d91ba426",
   "metadata": {},
   "outputs": [],
   "source": [
    "import pandas as pd\n",
    "import boto3\n",
    "import json\n",
    "import io\n",
    "import os"
   ]
  },
  {
   "cell_type": "markdown",
   "id": "90936bbe",
   "metadata": {},
   "source": [
    "# S3 Connection"
   ]
  },
  {
   "cell_type": "code",
   "execution_count": 2,
   "id": "ab8a6e62",
   "metadata": {},
   "outputs": [],
   "source": [
    "with open(\"aws_credential.txt\", 'r') as file:\n",
    "    aws_credential=json.load(file)\n",
    "s3=boto3.Session(\n",
    "    profile_name = None, \n",
    "    region_name = 'us-east-2').client(\n",
    "    's3',\n",
    "    aws_access_key_id=aws_credential['access_key'],\n",
    "    aws_secret_access_key=aws_credential['secret_key'])"
   ]
  },
  {
   "cell_type": "code",
   "execution_count": 3,
   "id": "4de0ccb2",
   "metadata": {},
   "outputs": [
    {
     "data": {
      "text/plain": [
       "['visa_output/country_code_matches.csv',\n",
       " 'visa_output/country_list.txt',\n",
       " 'visa_output/df_iv.csv',\n",
       " 'visa_output/df_niv.csv',\n",
       " 'visa_output/iv_alltime.csv',\n",
       " 'visa_output/niv_alltime.csv',\n",
       " 'visa_output/time_iv.txt',\n",
       " 'visa_output/time_niv.txt']"
      ]
     },
     "execution_count": 3,
     "metadata": {},
     "output_type": "execute_result"
    }
   ],
   "source": [
    "content_list=s3.list_objects(Bucket = aws_credential['bucket'], Prefix ='visa_output/')['Contents']\n",
    "# if size = 0, it's the folder resource/ itself\n",
    "[d['Key'] for d in content_list if d['Size']>0] "
   ]
  },
  {
   "cell_type": "code",
   "execution_count": 4,
   "id": "e30677cd",
   "metadata": {},
   "outputs": [],
   "source": [
    "country_codes_bytes=s3.get_object(Bucket = aws_credential['bucket'], \n",
    "              Key = 'visa_output/country_code_matches.csv')['Body'].read()"
   ]
  },
  {
   "cell_type": "code",
   "execution_count": 5,
   "id": "3020f7f4",
   "metadata": {},
   "outputs": [],
   "source": [
    "# read-in well-built .csv files, set delimiter to \",\", and then the first row as header\n",
    "# set data type of country codes to string object, since none start w/ 0 so no need to zfill()\n",
    "country_codes=pd.read_csv(io.BytesIO(country_codes_bytes), \n",
    "                          delimiter = \",\", \n",
    "                          header = 0, \n",
    "                          dtype={'code':str})"
   ]
  },
  {
   "cell_type": "code",
   "execution_count": 10,
   "id": "ed5f4aef",
   "metadata": {},
   "outputs": [
    {
     "data": {
      "text/html": [
       "<div>\n",
       "<style scoped>\n",
       "    .dataframe tbody tr th:only-of-type {\n",
       "        vertical-align: middle;\n",
       "    }\n",
       "\n",
       "    .dataframe tbody tr th {\n",
       "        vertical-align: top;\n",
       "    }\n",
       "\n",
       "    .dataframe thead th {\n",
       "        text-align: right;\n",
       "    }\n",
       "</style>\n",
       "<table border=\"1\" class=\"dataframe\">\n",
       "  <thead>\n",
       "    <tr style=\"text-align: right;\">\n",
       "      <th></th>\n",
       "      <th>query</th>\n",
       "      <th>match</th>\n",
       "      <th>code</th>\n",
       "      <th>iso</th>\n",
       "    </tr>\n",
       "  </thead>\n",
       "  <tbody>\n",
       "    <tr>\n",
       "      <th>0</th>\n",
       "      <td>AFGHANISTAN</td>\n",
       "      <td>Afghanistan</td>\n",
       "      <td>5310</td>\n",
       "      <td>AF</td>\n",
       "    </tr>\n",
       "    <tr>\n",
       "      <th>1</th>\n",
       "      <td>ALBANIA</td>\n",
       "      <td>Albania</td>\n",
       "      <td>4810</td>\n",
       "      <td>AL</td>\n",
       "    </tr>\n",
       "    <tr>\n",
       "      <th>2</th>\n",
       "      <td>ALGERIA</td>\n",
       "      <td>Algeria</td>\n",
       "      <td>7210</td>\n",
       "      <td>DZ</td>\n",
       "    </tr>\n",
       "  </tbody>\n",
       "</table>\n",
       "</div>"
      ],
      "text/plain": [
       "         query        match  code iso\n",
       "0  AFGHANISTAN  Afghanistan  5310  AF\n",
       "1      ALBANIA      Albania  4810  AL\n",
       "2      ALGERIA      Algeria  7210  DZ"
      ]
     },
     "execution_count": 10,
     "metadata": {},
     "output_type": "execute_result"
    }
   ],
   "source": [
    "country_codes.head(3)"
   ]
  },
  {
   "cell_type": "code",
   "execution_count": null,
   "id": "c3de7dc8",
   "metadata": {},
   "outputs": [],
   "source": [
    "df_iv_bytes = s3.get_object(Bucket=aws_credential['bucket'],\n",
    "                           Key='visa_output/df_iv.csv')['Body'].read()\n",
    "df_niv_bytes = s3.get_object(Bucket=aws_credential['bucket'],\n",
    "                           Key='visa_output/df_niv.csv')['Body'].read()\n",
    "df_iv=pd.read_csv(io.BytesIO(df_iv_bytes), decimal=\",\", header=0)\n",
    "df_niv=pd.read_csv(io.BytesIO(df_niv_bytes), decimal=\",\", header=0)"
   ]
  },
  {
   "cell_type": "code",
   "execution_count": 8,
   "id": "96b54960",
   "metadata": {},
   "outputs": [
    {
     "data": {
      "text/html": [
       "<div>\n",
       "<style scoped>\n",
       "    .dataframe tbody tr th:only-of-type {\n",
       "        vertical-align: middle;\n",
       "    }\n",
       "\n",
       "    .dataframe tbody tr th {\n",
       "        vertical-align: top;\n",
       "    }\n",
       "\n",
       "    .dataframe thead th {\n",
       "        text-align: right;\n",
       "    }\n",
       "</style>\n",
       "<table border=\"1\" class=\"dataframe\">\n",
       "  <thead>\n",
       "    <tr style=\"text-align: right;\">\n",
       "      <th></th>\n",
       "      <th>nationality</th>\n",
       "      <th>visa</th>\n",
       "      <th>count</th>\n",
       "      <th>time</th>\n",
       "    </tr>\n",
       "  </thead>\n",
       "  <tbody>\n",
       "    <tr>\n",
       "      <th>0</th>\n",
       "      <td>AFGHANISTAN</td>\n",
       "      <td>CR1</td>\n",
       "      <td>11</td>\n",
       "      <td>2017-03-31</td>\n",
       "    </tr>\n",
       "    <tr>\n",
       "      <th>1</th>\n",
       "      <td>AFGHANISTAN</td>\n",
       "      <td>DV1</td>\n",
       "      <td>2</td>\n",
       "      <td>2017-03-31</td>\n",
       "    </tr>\n",
       "    <tr>\n",
       "      <th>2</th>\n",
       "      <td>AFGHANISTAN</td>\n",
       "      <td>DV2</td>\n",
       "      <td>1</td>\n",
       "      <td>2017-03-31</td>\n",
       "    </tr>\n",
       "  </tbody>\n",
       "</table>\n",
       "</div>"
      ],
      "text/plain": [
       "   nationality visa  count        time\n",
       "0  AFGHANISTAN  CR1     11  2017-03-31\n",
       "1  AFGHANISTAN  DV1      2  2017-03-31\n",
       "2  AFGHANISTAN  DV2      1  2017-03-31"
      ]
     },
     "execution_count": 8,
     "metadata": {},
     "output_type": "execute_result"
    }
   ],
   "source": [
    "df_iv.head(3)"
   ]
  },
  {
   "cell_type": "code",
   "execution_count": 9,
   "id": "1d169690",
   "metadata": {},
   "outputs": [
    {
     "data": {
      "text/html": [
       "<div>\n",
       "<style scoped>\n",
       "    .dataframe tbody tr th:only-of-type {\n",
       "        vertical-align: middle;\n",
       "    }\n",
       "\n",
       "    .dataframe tbody tr th {\n",
       "        vertical-align: top;\n",
       "    }\n",
       "\n",
       "    .dataframe thead th {\n",
       "        text-align: right;\n",
       "    }\n",
       "</style>\n",
       "<table border=\"1\" class=\"dataframe\">\n",
       "  <thead>\n",
       "    <tr style=\"text-align: right;\">\n",
       "      <th></th>\n",
       "      <th>nationality</th>\n",
       "      <th>visa</th>\n",
       "      <th>count</th>\n",
       "      <th>time</th>\n",
       "    </tr>\n",
       "  </thead>\n",
       "  <tbody>\n",
       "    <tr>\n",
       "      <th>0</th>\n",
       "      <td>NON NATIONALITY BASED ISSUANCES</td>\n",
       "      <td>A2</td>\n",
       "      <td>1</td>\n",
       "      <td>2017-03-31</td>\n",
       "    </tr>\n",
       "    <tr>\n",
       "      <th>1</th>\n",
       "      <td>NON NATIONALITY BASED ISSUANCES</td>\n",
       "      <td>B1</td>\n",
       "      <td>1</td>\n",
       "      <td>2017-03-31</td>\n",
       "    </tr>\n",
       "    <tr>\n",
       "      <th>2</th>\n",
       "      <td>NON NATIONALITY BASED ISSUANCES</td>\n",
       "      <td>B1/B2</td>\n",
       "      <td>163</td>\n",
       "      <td>2017-03-31</td>\n",
       "    </tr>\n",
       "  </tbody>\n",
       "</table>\n",
       "</div>"
      ],
      "text/plain": [
       "                       nationality   visa  count        time\n",
       "0  NON NATIONALITY BASED ISSUANCES     A2      1  2017-03-31\n",
       "1  NON NATIONALITY BASED ISSUANCES     B1      1  2017-03-31\n",
       "2  NON NATIONALITY BASED ISSUANCES  B1/B2    163  2017-03-31"
      ]
     },
     "execution_count": 9,
     "metadata": {},
     "output_type": "execute_result"
    }
   ],
   "source": [
    "df_niv.head(3)"
   ]
  },
  {
   "cell_type": "markdown",
   "id": "f581ee52",
   "metadata": {},
   "source": [
    "# Apply Labels"
   ]
  },
  {
   "cell_type": "code",
   "execution_count": 15,
   "id": "077b30d6",
   "metadata": {},
   "outputs": [],
   "source": [
    "iv_alltime_raw=df_iv.merge(country_codes, \n",
    "            left_on='nationality', \n",
    "            right_on = 'query', \n",
    "            how = 'left')#.drop(columns=['query'])"
   ]
  },
  {
   "cell_type": "code",
   "execution_count": 23,
   "id": "40444881",
   "metadata": {},
   "outputs": [],
   "source": [
    "niv_alltime_raw=df_niv.merge(country_codes, \n",
    "            left_on='nationality', \n",
    "            right_on = 'query', \n",
    "            how = 'left')#.drop(columns=['query'])"
   ]
  },
  {
   "cell_type": "code",
   "execution_count": 22,
   "id": "a844960d",
   "metadata": {},
   "outputs": [
    {
     "data": {
      "text/plain": [
       "array(['NAMIBIA', 'WESTERN SAHARA', 'JERUSALEM', 'OTHER',\n",
       "       'PALESTINIAN AUTHORITY TRAVEL DOCUMENT', 'NO NATIONALITY'],\n",
       "      dtype=object)"
      ]
     },
     "execution_count": 22,
     "metadata": {},
     "output_type": "execute_result"
    }
   ],
   "source": [
    "iv_na_rows=iv_alltime_raw.loc[iv_alltime_raw.isnull().any(axis=1)] # don't omit axis=1\n",
    "iv_na_rows['nationality'].unique()"
   ]
  },
  {
   "cell_type": "code",
   "execution_count": 24,
   "id": "45cdcaf2",
   "metadata": {},
   "outputs": [
    {
     "data": {
      "text/plain": [
       "array(['NON NATIONALITY BASED ISSUANCES', 'NAMIBIA',\n",
       "       'PALESTINIAN AUTHORITY TRAVEL DOCUMENT', 'WESTERN SAHARA',\n",
       "       'NON NATIONLITY BASED ISSUANCES', 'UNKNOWN'], dtype=object)"
      ]
     },
     "execution_count": 24,
     "metadata": {},
     "output_type": "execute_result"
    }
   ],
   "source": [
    "niv_na_rows=niv_alltime_raw.loc[niv_alltime_raw.isnull().any(axis=1)] # don't omit axis=1\n",
    "niv_na_rows['nationality'].unique()"
   ]
  },
  {
   "cell_type": "code",
   "execution_count": 16,
   "id": "7a2f4d60",
   "metadata": {},
   "outputs": [
    {
     "data": {
      "text/plain": [
       "nationality      0\n",
       "visa             0\n",
       "count            0\n",
       "time             0\n",
       "query            9\n",
       "match            9\n",
       "code             9\n",
       "iso            115\n",
       "dtype: int64"
      ]
     },
     "execution_count": 16,
     "metadata": {},
     "output_type": "execute_result"
    }
   ],
   "source": [
    "iv_alltime_raw.isnull().sum()"
   ]
  },
  {
   "cell_type": "code",
   "execution_count": 25,
   "id": "078da404",
   "metadata": {},
   "outputs": [
    {
     "data": {
      "text/html": [
       "<div>\n",
       "<style scoped>\n",
       "    .dataframe tbody tr th:only-of-type {\n",
       "        vertical-align: middle;\n",
       "    }\n",
       "\n",
       "    .dataframe tbody tr th {\n",
       "        vertical-align: top;\n",
       "    }\n",
       "\n",
       "    .dataframe thead th {\n",
       "        text-align: right;\n",
       "    }\n",
       "</style>\n",
       "<table border=\"1\" class=\"dataframe\">\n",
       "  <thead>\n",
       "    <tr style=\"text-align: right;\">\n",
       "      <th></th>\n",
       "      <th>nationality</th>\n",
       "      <th>visa</th>\n",
       "      <th>count</th>\n",
       "      <th>time</th>\n",
       "      <th>query</th>\n",
       "      <th>match</th>\n",
       "      <th>code</th>\n",
       "      <th>iso</th>\n",
       "    </tr>\n",
       "  </thead>\n",
       "  <tbody>\n",
       "    <tr>\n",
       "      <th>0</th>\n",
       "      <td>NON NATIONALITY BASED ISSUANCES</td>\n",
       "      <td>A2</td>\n",
       "      <td>1</td>\n",
       "      <td>2017-03-31</td>\n",
       "      <td>NaN</td>\n",
       "      <td>NaN</td>\n",
       "      <td>NaN</td>\n",
       "      <td>NaN</td>\n",
       "    </tr>\n",
       "    <tr>\n",
       "      <th>1</th>\n",
       "      <td>NON NATIONALITY BASED ISSUANCES</td>\n",
       "      <td>B1</td>\n",
       "      <td>1</td>\n",
       "      <td>2017-03-31</td>\n",
       "      <td>NaN</td>\n",
       "      <td>NaN</td>\n",
       "      <td>NaN</td>\n",
       "      <td>NaN</td>\n",
       "    </tr>\n",
       "    <tr>\n",
       "      <th>2</th>\n",
       "      <td>NON NATIONALITY BASED ISSUANCES</td>\n",
       "      <td>B1/B2</td>\n",
       "      <td>163</td>\n",
       "      <td>2017-03-31</td>\n",
       "      <td>NaN</td>\n",
       "      <td>NaN</td>\n",
       "      <td>NaN</td>\n",
       "      <td>NaN</td>\n",
       "    </tr>\n",
       "  </tbody>\n",
       "</table>\n",
       "</div>"
      ],
      "text/plain": [
       "                       nationality   visa  count        time query match code  \\\n",
       "0  NON NATIONALITY BASED ISSUANCES     A2      1  2017-03-31   NaN   NaN  NaN   \n",
       "1  NON NATIONALITY BASED ISSUANCES     B1      1  2017-03-31   NaN   NaN  NaN   \n",
       "2  NON NATIONALITY BASED ISSUANCES  B1/B2    163  2017-03-31   NaN   NaN  NaN   \n",
       "\n",
       "   iso  \n",
       "0  NaN  \n",
       "1  NaN  \n",
       "2  NaN  "
      ]
     },
     "execution_count": 25,
     "metadata": {},
     "output_type": "execute_result"
    }
   ],
   "source": [
    "niv_alltime_raw.head(3)"
   ]
  },
  {
   "cell_type": "code",
   "execution_count": 27,
   "id": "70f438f7",
   "metadata": {},
   "outputs": [
    {
     "data": {
      "text/plain": [
       "0               NON NATIONALITY BASED ISSUANCES\n",
       "1               NON NATIONALITY BASED ISSUANCES\n",
       "2               NON NATIONALITY BASED ISSUANCES\n",
       "3               NON NATIONALITY BASED ISSUANCES\n",
       "4               NON NATIONALITY BASED ISSUANCES\n",
       "                          ...                  \n",
       "320398    PALESTINIAN AUTHORITY TRAVEL DOCUMENT\n",
       "320399    PALESTINIAN AUTHORITY TRAVEL DOCUMENT\n",
       "320400    PALESTINIAN AUTHORITY TRAVEL DOCUMENT\n",
       "320401    PALESTINIAN AUTHORITY TRAVEL DOCUMENT\n",
       "320402    PALESTINIAN AUTHORITY TRAVEL DOCUMENT\n",
       "Name: query, Length: 2893, dtype: object"
      ]
     },
     "execution_count": 27,
     "metadata": {},
     "output_type": "execute_result"
    }
   ],
   "source": [
    "niv_na_rows['query'].fillna(niv_na_rows['nationality'])"
   ]
  },
  {
   "cell_type": "code",
   "execution_count": 29,
   "id": "81497723",
   "metadata": {},
   "outputs": [],
   "source": [
    "niv_alltime_raw['nationality_new']=niv_alltime_raw['query'].fillna(niv_alltime_raw['nationality'])"
   ]
  },
  {
   "cell_type": "code",
   "execution_count": 30,
   "id": "a6a1607b",
   "metadata": {},
   "outputs": [],
   "source": [
    "iv_alltime_raw['nationality_new']=iv_alltime_raw['query'].fillna(iv_alltime_raw['nationality'])"
   ]
  },
  {
   "cell_type": "code",
   "execution_count": 31,
   "id": "584bd04e",
   "metadata": {},
   "outputs": [
    {
     "data": {
      "text/html": [
       "<div>\n",
       "<style scoped>\n",
       "    .dataframe tbody tr th:only-of-type {\n",
       "        vertical-align: middle;\n",
       "    }\n",
       "\n",
       "    .dataframe tbody tr th {\n",
       "        vertical-align: top;\n",
       "    }\n",
       "\n",
       "    .dataframe thead th {\n",
       "        text-align: right;\n",
       "    }\n",
       "</style>\n",
       "<table border=\"1\" class=\"dataframe\">\n",
       "  <thead>\n",
       "    <tr style=\"text-align: right;\">\n",
       "      <th></th>\n",
       "      <th>nationality</th>\n",
       "      <th>visa</th>\n",
       "      <th>count</th>\n",
       "      <th>time</th>\n",
       "      <th>query</th>\n",
       "      <th>match</th>\n",
       "      <th>code</th>\n",
       "      <th>iso</th>\n",
       "      <th>nationality_new</th>\n",
       "    </tr>\n",
       "  </thead>\n",
       "  <tbody>\n",
       "    <tr>\n",
       "      <th>0</th>\n",
       "      <td>NON NATIONALITY BASED ISSUANCES</td>\n",
       "      <td>A2</td>\n",
       "      <td>1</td>\n",
       "      <td>2017-03-31</td>\n",
       "      <td>NaN</td>\n",
       "      <td>NaN</td>\n",
       "      <td>NaN</td>\n",
       "      <td>NaN</td>\n",
       "      <td>NON NATIONALITY BASED ISSUANCES</td>\n",
       "    </tr>\n",
       "    <tr>\n",
       "      <th>1</th>\n",
       "      <td>NON NATIONALITY BASED ISSUANCES</td>\n",
       "      <td>B1</td>\n",
       "      <td>1</td>\n",
       "      <td>2017-03-31</td>\n",
       "      <td>NaN</td>\n",
       "      <td>NaN</td>\n",
       "      <td>NaN</td>\n",
       "      <td>NaN</td>\n",
       "      <td>NON NATIONALITY BASED ISSUANCES</td>\n",
       "    </tr>\n",
       "    <tr>\n",
       "      <th>2</th>\n",
       "      <td>NON NATIONALITY BASED ISSUANCES</td>\n",
       "      <td>B1/B2</td>\n",
       "      <td>163</td>\n",
       "      <td>2017-03-31</td>\n",
       "      <td>NaN</td>\n",
       "      <td>NaN</td>\n",
       "      <td>NaN</td>\n",
       "      <td>NaN</td>\n",
       "      <td>NON NATIONALITY BASED ISSUANCES</td>\n",
       "    </tr>\n",
       "    <tr>\n",
       "      <th>3</th>\n",
       "      <td>NON NATIONALITY BASED ISSUANCES</td>\n",
       "      <td>B2</td>\n",
       "      <td>1</td>\n",
       "      <td>2017-03-31</td>\n",
       "      <td>NaN</td>\n",
       "      <td>NaN</td>\n",
       "      <td>NaN</td>\n",
       "      <td>NaN</td>\n",
       "      <td>NON NATIONALITY BASED ISSUANCES</td>\n",
       "    </tr>\n",
       "    <tr>\n",
       "      <th>4</th>\n",
       "      <td>NON NATIONALITY BASED ISSUANCES</td>\n",
       "      <td>C1/D</td>\n",
       "      <td>42</td>\n",
       "      <td>2017-03-31</td>\n",
       "      <td>NaN</td>\n",
       "      <td>NaN</td>\n",
       "      <td>NaN</td>\n",
       "      <td>NaN</td>\n",
       "      <td>NON NATIONALITY BASED ISSUANCES</td>\n",
       "    </tr>\n",
       "  </tbody>\n",
       "</table>\n",
       "</div>"
      ],
      "text/plain": [
       "                       nationality   visa  count        time query match code  \\\n",
       "0  NON NATIONALITY BASED ISSUANCES     A2      1  2017-03-31   NaN   NaN  NaN   \n",
       "1  NON NATIONALITY BASED ISSUANCES     B1      1  2017-03-31   NaN   NaN  NaN   \n",
       "2  NON NATIONALITY BASED ISSUANCES  B1/B2    163  2017-03-31   NaN   NaN  NaN   \n",
       "3  NON NATIONALITY BASED ISSUANCES     B2      1  2017-03-31   NaN   NaN  NaN   \n",
       "4  NON NATIONALITY BASED ISSUANCES   C1/D     42  2017-03-31   NaN   NaN  NaN   \n",
       "\n",
       "   iso                  nationality_new  \n",
       "0  NaN  NON NATIONALITY BASED ISSUANCES  \n",
       "1  NaN  NON NATIONALITY BASED ISSUANCES  \n",
       "2  NaN  NON NATIONALITY BASED ISSUANCES  \n",
       "3  NaN  NON NATIONALITY BASED ISSUANCES  \n",
       "4  NaN  NON NATIONALITY BASED ISSUANCES  "
      ]
     },
     "execution_count": 31,
     "metadata": {},
     "output_type": "execute_result"
    }
   ],
   "source": [
    "niv_alltime_raw.head()"
   ]
  },
  {
   "cell_type": "code",
   "execution_count": 35,
   "id": "cb0bbbda",
   "metadata": {},
   "outputs": [],
   "source": [
    "niv_alltime=niv_alltime_raw.\\\n",
    "drop(columns=['nationality','query','match','code','iso']).\\\n",
    "rename(columns={'nationality_new':'nationality'})\n",
    "niv_alltime = niv_alltime[['nationality','visa','count','time']]"
   ]
  },
  {
   "cell_type": "code",
   "execution_count": 37,
   "id": "a654cfe5",
   "metadata": {},
   "outputs": [
    {
     "data": {
      "text/html": [
       "<div>\n",
       "<style scoped>\n",
       "    .dataframe tbody tr th:only-of-type {\n",
       "        vertical-align: middle;\n",
       "    }\n",
       "\n",
       "    .dataframe tbody tr th {\n",
       "        vertical-align: top;\n",
       "    }\n",
       "\n",
       "    .dataframe thead th {\n",
       "        text-align: right;\n",
       "    }\n",
       "</style>\n",
       "<table border=\"1\" class=\"dataframe\">\n",
       "  <thead>\n",
       "    <tr style=\"text-align: right;\">\n",
       "      <th></th>\n",
       "      <th>nationality</th>\n",
       "      <th>visa</th>\n",
       "      <th>count</th>\n",
       "      <th>time</th>\n",
       "    </tr>\n",
       "  </thead>\n",
       "  <tbody>\n",
       "    <tr>\n",
       "      <th>0</th>\n",
       "      <td>NON NATIONALITY BASED ISSUANCES</td>\n",
       "      <td>A2</td>\n",
       "      <td>1</td>\n",
       "      <td>2017-03-31</td>\n",
       "    </tr>\n",
       "    <tr>\n",
       "      <th>1</th>\n",
       "      <td>NON NATIONALITY BASED ISSUANCES</td>\n",
       "      <td>B1</td>\n",
       "      <td>1</td>\n",
       "      <td>2017-03-31</td>\n",
       "    </tr>\n",
       "    <tr>\n",
       "      <th>2</th>\n",
       "      <td>NON NATIONALITY BASED ISSUANCES</td>\n",
       "      <td>B1/B2</td>\n",
       "      <td>163</td>\n",
       "      <td>2017-03-31</td>\n",
       "    </tr>\n",
       "  </tbody>\n",
       "</table>\n",
       "</div>"
      ],
      "text/plain": [
       "                       nationality   visa  count        time\n",
       "0  NON NATIONALITY BASED ISSUANCES     A2      1  2017-03-31\n",
       "1  NON NATIONALITY BASED ISSUANCES     B1      1  2017-03-31\n",
       "2  NON NATIONALITY BASED ISSUANCES  B1/B2    163  2017-03-31"
      ]
     },
     "execution_count": 37,
     "metadata": {},
     "output_type": "execute_result"
    }
   ],
   "source": [
    "niv_alltime.head(3)"
   ]
  },
  {
   "cell_type": "code",
   "execution_count": 38,
   "id": "38894cc3",
   "metadata": {},
   "outputs": [
    {
     "data": {
      "text/html": [
       "<div>\n",
       "<style scoped>\n",
       "    .dataframe tbody tr th:only-of-type {\n",
       "        vertical-align: middle;\n",
       "    }\n",
       "\n",
       "    .dataframe tbody tr th {\n",
       "        vertical-align: top;\n",
       "    }\n",
       "\n",
       "    .dataframe thead th {\n",
       "        text-align: right;\n",
       "    }\n",
       "</style>\n",
       "<table border=\"1\" class=\"dataframe\">\n",
       "  <thead>\n",
       "    <tr style=\"text-align: right;\">\n",
       "      <th></th>\n",
       "      <th>nationality</th>\n",
       "      <th>visa</th>\n",
       "      <th>count</th>\n",
       "      <th>time</th>\n",
       "      <th>query</th>\n",
       "      <th>match</th>\n",
       "      <th>code</th>\n",
       "      <th>iso</th>\n",
       "      <th>nationality_new</th>\n",
       "    </tr>\n",
       "  </thead>\n",
       "  <tbody>\n",
       "    <tr>\n",
       "      <th>0</th>\n",
       "      <td>AFGHANISTAN</td>\n",
       "      <td>CR1</td>\n",
       "      <td>11</td>\n",
       "      <td>2017-03-31</td>\n",
       "      <td>AFGHANISTAN</td>\n",
       "      <td>Afghanistan</td>\n",
       "      <td>5310</td>\n",
       "      <td>AF</td>\n",
       "      <td>AFGHANISTAN</td>\n",
       "    </tr>\n",
       "    <tr>\n",
       "      <th>1</th>\n",
       "      <td>AFGHANISTAN</td>\n",
       "      <td>DV1</td>\n",
       "      <td>2</td>\n",
       "      <td>2017-03-31</td>\n",
       "      <td>AFGHANISTAN</td>\n",
       "      <td>Afghanistan</td>\n",
       "      <td>5310</td>\n",
       "      <td>AF</td>\n",
       "      <td>AFGHANISTAN</td>\n",
       "    </tr>\n",
       "    <tr>\n",
       "      <th>2</th>\n",
       "      <td>AFGHANISTAN</td>\n",
       "      <td>DV2</td>\n",
       "      <td>1</td>\n",
       "      <td>2017-03-31</td>\n",
       "      <td>AFGHANISTAN</td>\n",
       "      <td>Afghanistan</td>\n",
       "      <td>5310</td>\n",
       "      <td>AF</td>\n",
       "      <td>AFGHANISTAN</td>\n",
       "    </tr>\n",
       "  </tbody>\n",
       "</table>\n",
       "</div>"
      ],
      "text/plain": [
       "   nationality visa  count        time        query        match  code iso  \\\n",
       "0  AFGHANISTAN  CR1     11  2017-03-31  AFGHANISTAN  Afghanistan  5310  AF   \n",
       "1  AFGHANISTAN  DV1      2  2017-03-31  AFGHANISTAN  Afghanistan  5310  AF   \n",
       "2  AFGHANISTAN  DV2      1  2017-03-31  AFGHANISTAN  Afghanistan  5310  AF   \n",
       "\n",
       "  nationality_new  \n",
       "0     AFGHANISTAN  \n",
       "1     AFGHANISTAN  \n",
       "2     AFGHANISTAN  "
      ]
     },
     "execution_count": 38,
     "metadata": {},
     "output_type": "execute_result"
    }
   ],
   "source": [
    "iv_alltime_raw.head(3)"
   ]
  },
  {
   "cell_type": "code",
   "execution_count": 36,
   "id": "b257a78d",
   "metadata": {},
   "outputs": [],
   "source": [
    "iv_alltime=iv_alltime_raw.\\\n",
    "drop(columns=['nationality','query','match','code','iso']).\\\n",
    "rename(columns={'nationality_new':'nationality'})\n",
    "iv_alltime = iv_alltime[['nationality','visa','count','time']]"
   ]
  },
  {
   "cell_type": "code",
   "execution_count": 39,
   "id": "581fdf0d",
   "metadata": {},
   "outputs": [
    {
     "data": {
      "text/html": [
       "<div>\n",
       "<style scoped>\n",
       "    .dataframe tbody tr th:only-of-type {\n",
       "        vertical-align: middle;\n",
       "    }\n",
       "\n",
       "    .dataframe tbody tr th {\n",
       "        vertical-align: top;\n",
       "    }\n",
       "\n",
       "    .dataframe thead th {\n",
       "        text-align: right;\n",
       "    }\n",
       "</style>\n",
       "<table border=\"1\" class=\"dataframe\">\n",
       "  <thead>\n",
       "    <tr style=\"text-align: right;\">\n",
       "      <th></th>\n",
       "      <th>nationality</th>\n",
       "      <th>visa</th>\n",
       "      <th>count</th>\n",
       "      <th>time</th>\n",
       "    </tr>\n",
       "  </thead>\n",
       "  <tbody>\n",
       "    <tr>\n",
       "      <th>0</th>\n",
       "      <td>AFGHANISTAN</td>\n",
       "      <td>CR1</td>\n",
       "      <td>11</td>\n",
       "      <td>2017-03-31</td>\n",
       "    </tr>\n",
       "    <tr>\n",
       "      <th>1</th>\n",
       "      <td>AFGHANISTAN</td>\n",
       "      <td>DV1</td>\n",
       "      <td>2</td>\n",
       "      <td>2017-03-31</td>\n",
       "    </tr>\n",
       "    <tr>\n",
       "      <th>2</th>\n",
       "      <td>AFGHANISTAN</td>\n",
       "      <td>DV2</td>\n",
       "      <td>1</td>\n",
       "      <td>2017-03-31</td>\n",
       "    </tr>\n",
       "  </tbody>\n",
       "</table>\n",
       "</div>"
      ],
      "text/plain": [
       "   nationality visa  count        time\n",
       "0  AFGHANISTAN  CR1     11  2017-03-31\n",
       "1  AFGHANISTAN  DV1      2  2017-03-31\n",
       "2  AFGHANISTAN  DV2      1  2017-03-31"
      ]
     },
     "execution_count": 39,
     "metadata": {},
     "output_type": "execute_result"
    }
   ],
   "source": [
    "iv_alltime.head(3)"
   ]
  },
  {
   "cell_type": "markdown",
   "id": "c07dfe9f",
   "metadata": {},
   "source": [
    "# Export data w/ standard labels"
   ]
  },
  {
   "cell_type": "code",
   "execution_count": null,
   "id": "750a2c68",
   "metadata": {},
   "outputs": [],
   "source": []
  }
 ],
 "metadata": {
  "hide_input": false,
  "kernelspec": {
   "display_name": "py-3-12-3-preview",
   "language": "python",
   "name": "python-312-preview"
  },
  "language_info": {
   "codemirror_mode": {
    "name": "ipython",
    "version": 3
   },
   "file_extension": ".py",
   "mimetype": "text/x-python",
   "name": "python",
   "nbconvert_exporter": "python",
   "pygments_lexer": "ipython3",
   "version": "3.12.3"
  },
  "toc": {
   "base_numbering": 1,
   "nav_menu": {},
   "number_sections": true,
   "sideBar": true,
   "skip_h1_title": false,
   "title_cell": "Table of Contents",
   "title_sidebar": "Contents",
   "toc_cell": false,
   "toc_position": {},
   "toc_section_display": true,
   "toc_window_display": false
  },
  "varInspector": {
   "cols": {
    "lenName": 16,
    "lenType": 16,
    "lenVar": 40
   },
   "kernels_config": {
    "python": {
     "delete_cmd_postfix": "",
     "delete_cmd_prefix": "del ",
     "library": "var_list.py",
     "varRefreshCmd": "print(var_dic_list())"
    },
    "r": {
     "delete_cmd_postfix": ") ",
     "delete_cmd_prefix": "rm(",
     "library": "var_list.r",
     "varRefreshCmd": "cat(var_dic_list()) "
    }
   },
   "types_to_exclude": [
    "module",
    "function",
    "builtin_function_or_method",
    "instance",
    "_Feature"
   ],
   "window_display": false
  }
 },
 "nbformat": 4,
 "nbformat_minor": 5
}
