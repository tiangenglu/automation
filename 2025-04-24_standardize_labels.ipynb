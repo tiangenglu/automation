{
 "cells": [
  {
   "cell_type": "code",
   "execution_count": 1,
   "id": "d91ba426",
   "metadata": {},
   "outputs": [],
   "source": [
    "import pandas as pd\n",
    "import boto3\n",
    "import json\n",
    "import io\n",
    "import os"
   ]
  },
  {
   "cell_type": "markdown",
   "id": "b4b64c00",
   "metadata": {},
   "source": [
    "# S3 Connection"
   ]
  },
  {
   "cell_type": "code",
   "execution_count": 2,
   "id": "ab8a6e62",
   "metadata": {},
   "outputs": [],
   "source": [
    "with open(\"aws_credential.txt\", 'r') as file:\n",
    "    aws_credential=json.load(file)\n",
    "s3=boto3.Session(\n",
    "    profile_name = None, \n",
    "    region_name = 'us-east-2').client(\n",
    "    's3',\n",
    "    aws_access_key_id=aws_credential['access_key'],\n",
    "    aws_secret_access_key=aws_credential['secret_key'])"
   ]
  },
  {
   "cell_type": "code",
   "execution_count": 3,
   "id": "4de0ccb2",
   "metadata": {},
   "outputs": [
    {
     "data": {
      "text/plain": [
       "['visa_output/country_code_matches.csv',\n",
       " 'visa_output/country_list.txt',\n",
       " 'visa_output/df_iv.csv',\n",
       " 'visa_output/df_niv.csv',\n",
       " 'visa_output/iv_alltime.csv',\n",
       " 'visa_output/niv_alltime.csv',\n",
       " 'visa_output/time_iv.txt',\n",
       " 'visa_output/time_niv.txt']"
      ]
     },
     "execution_count": 3,
     "metadata": {},
     "output_type": "execute_result"
    }
   ],
   "source": [
    "content_list=s3.list_objects(Bucket = aws_credential['bucket'], Prefix ='visa_output/')['Contents']\n",
    "# if size = 0, it's the folder resource/ itself\n",
    "[d['Key'] for d in content_list if d['Size']>0] "
   ]
  },
  {
   "cell_type": "code",
   "execution_count": 4,
   "id": "e30677cd",
   "metadata": {},
   "outputs": [],
   "source": [
    "country_codes_bytes=s3.get_object(Bucket = aws_credential['bucket'], \n",
    "              Key = 'visa_output/country_code_matches.csv')['Body'].read()"
   ]
  },
  {
   "cell_type": "code",
   "execution_count": 5,
   "id": "3020f7f4",
   "metadata": {},
   "outputs": [],
   "source": [
    "# read-in well-built .csv files, set delimiter to \",\", and then the first row as header\n",
    "# set data type of country codes to string object, since none start w/ 0 so no need to zfill()\n",
    "country_codes=pd.read_csv(io.BytesIO(country_codes_bytes), \n",
    "                          delimiter = \",\", \n",
    "                          header = 0, \n",
    "                          dtype={'code':str})"
   ]
  },
  {
   "cell_type": "code",
   "execution_count": 6,
   "id": "ed5f4aef",
   "metadata": {},
   "outputs": [
    {
     "data": {
      "text/html": [
       "<div>\n",
       "<style scoped>\n",
       "    .dataframe tbody tr th:only-of-type {\n",
       "        vertical-align: middle;\n",
       "    }\n",
       "\n",
       "    .dataframe tbody tr th {\n",
       "        vertical-align: top;\n",
       "    }\n",
       "\n",
       "    .dataframe thead th {\n",
       "        text-align: right;\n",
       "    }\n",
       "</style>\n",
       "<table border=\"1\" class=\"dataframe\">\n",
       "  <thead>\n",
       "    <tr style=\"text-align: right;\">\n",
       "      <th></th>\n",
       "      <th>query</th>\n",
       "      <th>match</th>\n",
       "      <th>code</th>\n",
       "      <th>iso</th>\n",
       "    </tr>\n",
       "  </thead>\n",
       "  <tbody>\n",
       "    <tr>\n",
       "      <th>0</th>\n",
       "      <td>AFGHANISTAN</td>\n",
       "      <td>Afghanistan</td>\n",
       "      <td>5310</td>\n",
       "      <td>AF</td>\n",
       "    </tr>\n",
       "    <tr>\n",
       "      <th>1</th>\n",
       "      <td>ALBANIA</td>\n",
       "      <td>Albania</td>\n",
       "      <td>4810</td>\n",
       "      <td>AL</td>\n",
       "    </tr>\n",
       "    <tr>\n",
       "      <th>2</th>\n",
       "      <td>ALGERIA</td>\n",
       "      <td>Algeria</td>\n",
       "      <td>7210</td>\n",
       "      <td>DZ</td>\n",
       "    </tr>\n",
       "  </tbody>\n",
       "</table>\n",
       "</div>"
      ],
      "text/plain": [
       "         query        match  code iso\n",
       "0  AFGHANISTAN  Afghanistan  5310  AF\n",
       "1      ALBANIA      Albania  4810  AL\n",
       "2      ALGERIA      Algeria  7210  DZ"
      ]
     },
     "execution_count": 6,
     "metadata": {},
     "output_type": "execute_result"
    }
   ],
   "source": [
    "country_codes.head(3)"
   ]
  },
  {
   "cell_type": "markdown",
   "id": "cc890b28",
   "metadata": {},
   "source": [
    "df_iv_bytes = s3.get_object(Bucket=aws_credential['bucket'],\n",
    "                           Key='visa_output/df_iv.csv')['Body'].read()\n",
    "df_niv_bytes = s3.get_object(Bucket=aws_credential['bucket'],\n",
    "                           Key='visa_output/df_niv.csv')['Body'].read()\n",
    "df_iv=pd.read_csv(io.BytesIO(df_iv_bytes), decimal=\",\", header=0)\n",
    "df_niv=pd.read_csv(io.BytesIO(df_niv_bytes), decimal=\",\", header=0)"
   ]
  },
  {
   "cell_type": "code",
   "execution_count": 8,
   "id": "4f7f8b1f",
   "metadata": {},
   "outputs": [
    {
     "data": {
      "text/html": [
       "<div>\n",
       "<style scoped>\n",
       "    .dataframe tbody tr th:only-of-type {\n",
       "        vertical-align: middle;\n",
       "    }\n",
       "\n",
       "    .dataframe tbody tr th {\n",
       "        vertical-align: top;\n",
       "    }\n",
       "\n",
       "    .dataframe thead th {\n",
       "        text-align: right;\n",
       "    }\n",
       "</style>\n",
       "<table border=\"1\" class=\"dataframe\">\n",
       "  <thead>\n",
       "    <tr style=\"text-align: right;\">\n",
       "      <th></th>\n",
       "      <th>nationality</th>\n",
       "      <th>visa</th>\n",
       "      <th>count</th>\n",
       "      <th>time</th>\n",
       "    </tr>\n",
       "  </thead>\n",
       "  <tbody>\n",
       "    <tr>\n",
       "      <th>0</th>\n",
       "      <td>AFGHANISTAN</td>\n",
       "      <td>CR1</td>\n",
       "      <td>11</td>\n",
       "      <td>2017-03-31</td>\n",
       "    </tr>\n",
       "    <tr>\n",
       "      <th>1</th>\n",
       "      <td>AFGHANISTAN</td>\n",
       "      <td>DV1</td>\n",
       "      <td>2</td>\n",
       "      <td>2017-03-31</td>\n",
       "    </tr>\n",
       "    <tr>\n",
       "      <th>2</th>\n",
       "      <td>AFGHANISTAN</td>\n",
       "      <td>DV2</td>\n",
       "      <td>1</td>\n",
       "      <td>2017-03-31</td>\n",
       "    </tr>\n",
       "  </tbody>\n",
       "</table>\n",
       "</div>"
      ],
      "text/plain": [
       "   nationality visa  count        time\n",
       "0  AFGHANISTAN  CR1     11  2017-03-31\n",
       "1  AFGHANISTAN  DV1      2  2017-03-31\n",
       "2  AFGHANISTAN  DV2      1  2017-03-31"
      ]
     },
     "execution_count": 8,
     "metadata": {},
     "output_type": "execute_result"
    }
   ],
   "source": [
    "df_iv.head(3)"
   ]
  },
  {
   "cell_type": "code",
   "execution_count": 9,
   "id": "4386e1a5",
   "metadata": {},
   "outputs": [
    {
     "data": {
      "text/html": [
       "<div>\n",
       "<style scoped>\n",
       "    .dataframe tbody tr th:only-of-type {\n",
       "        vertical-align: middle;\n",
       "    }\n",
       "\n",
       "    .dataframe tbody tr th {\n",
       "        vertical-align: top;\n",
       "    }\n",
       "\n",
       "    .dataframe thead th {\n",
       "        text-align: right;\n",
       "    }\n",
       "</style>\n",
       "<table border=\"1\" class=\"dataframe\">\n",
       "  <thead>\n",
       "    <tr style=\"text-align: right;\">\n",
       "      <th></th>\n",
       "      <th>nationality</th>\n",
       "      <th>visa</th>\n",
       "      <th>count</th>\n",
       "      <th>time</th>\n",
       "    </tr>\n",
       "  </thead>\n",
       "  <tbody>\n",
       "    <tr>\n",
       "      <th>0</th>\n",
       "      <td>NON NATIONALITY BASED ISSUANCES</td>\n",
       "      <td>A2</td>\n",
       "      <td>1</td>\n",
       "      <td>2017-03-31</td>\n",
       "    </tr>\n",
       "    <tr>\n",
       "      <th>1</th>\n",
       "      <td>NON NATIONALITY BASED ISSUANCES</td>\n",
       "      <td>B1</td>\n",
       "      <td>1</td>\n",
       "      <td>2017-03-31</td>\n",
       "    </tr>\n",
       "    <tr>\n",
       "      <th>2</th>\n",
       "      <td>NON NATIONALITY BASED ISSUANCES</td>\n",
       "      <td>B1/B2</td>\n",
       "      <td>163</td>\n",
       "      <td>2017-03-31</td>\n",
       "    </tr>\n",
       "  </tbody>\n",
       "</table>\n",
       "</div>"
      ],
      "text/plain": [
       "                       nationality   visa  count        time\n",
       "0  NON NATIONALITY BASED ISSUANCES     A2      1  2017-03-31\n",
       "1  NON NATIONALITY BASED ISSUANCES     B1      1  2017-03-31\n",
       "2  NON NATIONALITY BASED ISSUANCES  B1/B2    163  2017-03-31"
      ]
     },
     "execution_count": 9,
     "metadata": {},
     "output_type": "execute_result"
    }
   ],
   "source": [
    "df_niv.head(3)"
   ]
  },
  {
   "cell_type": "markdown",
   "id": "a5d3c36f",
   "metadata": {},
   "source": [
    "# Apply Labels"
   ]
  },
  {
   "cell_type": "code",
   "execution_count": null,
   "id": "c54b1f33",
   "metadata": {},
   "outputs": [],
   "source": []
  }
 ],
 "metadata": {
  "hide_input": false,
  "kernelspec": {
   "display_name": "py-3-12-3-preview",
   "language": "python",
   "name": "python-312-preview"
  },
  "language_info": {
   "codemirror_mode": {
    "name": "ipython",
    "version": 3
   },
   "file_extension": ".py",
   "mimetype": "text/x-python",
   "name": "python",
   "nbconvert_exporter": "python",
   "pygments_lexer": "ipython3",
   "version": "3.12.3"
  },
  "toc": {
   "base_numbering": 1,
   "nav_menu": {},
   "number_sections": true,
   "sideBar": true,
   "skip_h1_title": false,
   "title_cell": "Table of Contents",
   "title_sidebar": "Contents",
   "toc_cell": false,
   "toc_position": {},
   "toc_section_display": true,
   "toc_window_display": false
  },
  "varInspector": {
   "cols": {
    "lenName": 16,
    "lenType": 16,
    "lenVar": 40
   },
   "kernels_config": {
    "python": {
     "delete_cmd_postfix": "",
     "delete_cmd_prefix": "del ",
     "library": "var_list.py",
     "varRefreshCmd": "print(var_dic_list())"
    },
    "r": {
     "delete_cmd_postfix": ") ",
     "delete_cmd_prefix": "rm(",
     "library": "var_list.r",
     "varRefreshCmd": "cat(var_dic_list()) "
    }
   },
   "types_to_exclude": [
    "module",
    "function",
    "builtin_function_or_method",
    "instance",
    "_Feature"
   ],
   "window_display": false
  }
 },
 "nbformat": 4,
 "nbformat_minor": 5
}
