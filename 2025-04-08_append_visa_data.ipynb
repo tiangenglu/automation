{
 "cells": [
  {
   "cell_type": "markdown",
   "id": "400e2cca",
   "metadata": {
    "toc": true
   },
   "source": [
    "<h1>Table of Contents<span class=\"tocSkip\"></span></h1>\n",
    "<div class=\"toc\"><ul class=\"toc-item\"><li><span><a href=\"#Objectives\" data-toc-modified-id=\"Objectives-1\"><span class=\"toc-item-num\">1&nbsp;&nbsp;</span>Objectives</a></span></li><li><span><a href=\"#Accessing-scraped-raw-data-in-AWS-S3\" data-toc-modified-id=\"Accessing-scraped-raw-data-in-AWS-S3-2\"><span class=\"toc-item-num\">2&nbsp;&nbsp;</span>Accessing scraped raw data in AWS S3</a></span></li><li><span><a href=\"#How-many-months-(raw-data)-need-processing?\" data-toc-modified-id=\"How-many-months-(raw-data)-need-processing?-3\"><span class=\"toc-item-num\">3&nbsp;&nbsp;</span>How many months (raw data) need processing?</a></span></li><li><span><a href=\"#Read-in-raw-data-from-S3\" data-toc-modified-id=\"Read-in-raw-data-from-S3-4\"><span class=\"toc-item-num\">4&nbsp;&nbsp;</span>Read in raw data from S3</a></span><ul class=\"toc-item\"><li><span><a href=\"#Non-immigrant-data\" data-toc-modified-id=\"Non-immigrant-data-4.1\"><span class=\"toc-item-num\">4.1&nbsp;&nbsp;</span>Non-immigrant data</a></span></li><li><span><a href=\"#Immigrant-visa-data\" data-toc-modified-id=\"Immigrant-visa-data-4.2\"><span class=\"toc-item-num\">4.2&nbsp;&nbsp;</span>Immigrant visa data</a></span></li></ul></li><li><span><a href=\"#Cleaning\" data-toc-modified-id=\"Cleaning-5\"><span class=\"toc-item-num\">5&nbsp;&nbsp;</span>Cleaning</a></span><ul class=\"toc-item\"><li><span><a href=\"#A-list-of-raw-dataframes\" data-toc-modified-id=\"A-list-of-raw-dataframes-5.1\"><span class=\"toc-item-num\">5.1&nbsp;&nbsp;</span>A list of raw dataframes</a></span></li><li><span><a href=\"#Concatenated-one-long-dataframe\" data-toc-modified-id=\"Concatenated-one-long-dataframe-5.2\"><span class=\"toc-item-num\">5.2&nbsp;&nbsp;</span>Concatenated one long dataframe</a></span></li><li><span><a href=\"#Remove-non-data-rows\" data-toc-modified-id=\"Remove-non-data-rows-5.3\"><span class=\"toc-item-num\">5.3&nbsp;&nbsp;</span>Remove non-data rows</a></span><ul class=\"toc-item\"><li><span><a href=\"#NIV\" data-toc-modified-id=\"NIV-5.3.1\"><span class=\"toc-item-num\">5.3.1&nbsp;&nbsp;</span>NIV</a></span></li><li><span><a href=\"#IV\" data-toc-modified-id=\"IV-5.3.2\"><span class=\"toc-item-num\">5.3.2&nbsp;&nbsp;</span>IV</a></span></li></ul></li><li><span><a href=\"#Split-all-in-one-column\" data-toc-modified-id=\"Split-all-in-one-column-5.4\"><span class=\"toc-item-num\">5.4&nbsp;&nbsp;</span>Split all-in-one column</a></span><ul class=\"toc-item\"><li><span><a href=\"#NIV\" data-toc-modified-id=\"NIV-5.4.1\"><span class=\"toc-item-num\">5.4.1&nbsp;&nbsp;</span>NIV</a></span></li><li><span><a href=\"#IV\" data-toc-modified-id=\"IV-5.4.2\"><span class=\"toc-item-num\">5.4.2&nbsp;&nbsp;</span>IV</a></span></li></ul></li></ul></li><li><span><a href=\"#Validation\" data-toc-modified-id=\"Validation-6\"><span class=\"toc-item-num\">6&nbsp;&nbsp;</span>Validation</a></span><ul class=\"toc-item\"><li><span><a href=\"#Data-type\" data-toc-modified-id=\"Data-type-6.1\"><span class=\"toc-item-num\">6.1&nbsp;&nbsp;</span>Data type</a></span></li><li><span><a href=\"#Restoring-rows-when-data-got-mixed-with-headers\" data-toc-modified-id=\"Restoring-rows-when-data-got-mixed-with-headers-6.2\"><span class=\"toc-item-num\">6.2&nbsp;&nbsp;</span>Restoring rows when data got mixed with headers</a></span><ul class=\"toc-item\"><li><span><a href=\"#NIV\" data-toc-modified-id=\"NIV-6.2.1\"><span class=\"toc-item-num\">6.2.1&nbsp;&nbsp;</span>NIV</a></span></li><li><span><a href=\"#IV\" data-toc-modified-id=\"IV-6.2.2\"><span class=\"toc-item-num\">6.2.2&nbsp;&nbsp;</span>IV</a></span></li></ul></li><li><span><a href=\"#Concatenating\" data-toc-modified-id=\"Concatenating-6.3\"><span class=\"toc-item-num\">6.3&nbsp;&nbsp;</span>Concatenating</a></span></li></ul></li><li><span><a href=\"#Appending-to-existing-data\" data-toc-modified-id=\"Appending-to-existing-data-7\"><span class=\"toc-item-num\">7&nbsp;&nbsp;</span>Appending to existing data</a></span></li><li><span><a href=\"#Removing-special-characters\" data-toc-modified-id=\"Removing-special-characters-8\"><span class=\"toc-item-num\">8&nbsp;&nbsp;</span>Removing special characters</a></span></li><li><span><a href=\"#Output\" data-toc-modified-id=\"Output-9\"><span class=\"toc-item-num\">9&nbsp;&nbsp;</span>Output</a></span><ul class=\"toc-item\"><li><span><a href=\"#Local\" data-toc-modified-id=\"Local-9.1\"><span class=\"toc-item-num\">9.1&nbsp;&nbsp;</span>Local</a></span></li><li><span><a href=\"#S3\" data-toc-modified-id=\"S3-9.2\"><span class=\"toc-item-num\">9.2&nbsp;&nbsp;</span>S3</a></span></li></ul></li></ul></div>"
   ]
  },
  {
   "cell_type": "markdown",
   "id": "a4280167",
   "metadata": {},
   "source": [
    "# Objectives\n",
    "\n",
    "- Built upon previous work [2023-06-30_cleaning_df_bothdata.py](https://github.com/tiangenglu/WebScrape/blob/main/06302023_cleaning_df_bothdata.py)\n",
    "- Detect new raw data and ONLY process the newly scraped data\n",
    "- After cleaning, append to the existing all-time visa data"
   ]
  },
  {
   "cell_type": "code",
   "execution_count": 1,
   "id": "a22c7fcd",
   "metadata": {},
   "outputs": [],
   "source": [
    "import os\n",
    "import pandas as pd\n",
    "import boto3\n",
    "import json\n",
    "import io\n",
    "import sys"
   ]
  },
  {
   "cell_type": "code",
   "execution_count": 2,
   "id": "170ee15c",
   "metadata": {},
   "outputs": [
    {
     "name": "stdout",
     "output_type": "stream",
     "text": [
      "CPU times: user 132 ms, sys: 23 ms, total: 155 ms\n",
      "Wall time: 155 ms\n"
     ]
    }
   ],
   "source": [
    "%%time\n",
    "old_data = pd.read_csv(\"visa_alltime.csv\")"
   ]
  },
  {
   "cell_type": "code",
   "execution_count": 3,
   "id": "c52626e1",
   "metadata": {},
   "outputs": [
    {
     "name": "stdout",
     "output_type": "stream",
     "text": [
      "<class 'pandas.core.frame.DataFrame'>\n",
      "RangeIndex: 488523 entries, 0 to 488522\n",
      "Data columns (total 5 columns):\n",
      " #   Column       Non-Null Count   Dtype \n",
      "---  ------       --------------   ----- \n",
      " 0   nationality  488523 non-null  object\n",
      " 1   visa         488523 non-null  object\n",
      " 2   count        488523 non-null  int64 \n",
      " 3   time         488523 non-null  object\n",
      " 4   type         488523 non-null  object\n",
      "dtypes: int64(1), object(4)\n",
      "memory usage: 18.6+ MB\n"
     ]
    }
   ],
   "source": [
    "old_data.info()"
   ]
  },
  {
   "cell_type": "markdown",
   "id": "8b781567",
   "metadata": {},
   "source": [
    "# Accessing scraped raw data in AWS S3"
   ]
  },
  {
   "cell_type": "code",
   "execution_count": 4,
   "id": "5e394a88",
   "metadata": {},
   "outputs": [],
   "source": [
    "with open(\"aws_credential.txt\", 'r') as file:\n",
    "    aws_credential=json.load(file)\n",
    "s3=boto3.Session(\n",
    "    profile_name = None, \n",
    "    region_name = 'us-east-2').client(\n",
    "    's3',\n",
    "    aws_access_key_id=aws_credential['access_key'],\n",
    "    aws_secret_access_key=aws_credential['secret_key'])"
   ]
  },
  {
   "cell_type": "code",
   "execution_count": 5,
   "id": "f1ad0d62",
   "metadata": {},
   "outputs": [],
   "source": [
    "bucket_niv_content=s3.list_objects(Bucket = aws_credential['bucket'], Prefix ='messy_data/visa_scraped/niv/')['Contents']\n",
    "bucket_iv_content=s3.list_objects(Bucket = aws_credential['bucket'], Prefix ='messy_data/visa_scraped/iv/')['Contents']"
   ]
  },
  {
   "cell_type": "code",
   "execution_count": 6,
   "id": "dc8c9e20",
   "metadata": {},
   "outputs": [],
   "source": [
    "bucket_niv_items=[d['Key'].split('/')[-1] for d in bucket_niv_content]\n",
    "bucket_iv_items=[d['Key'].split('/')[-1] for d in bucket_iv_content] "
   ]
  },
  {
   "cell_type": "code",
   "execution_count": 7,
   "id": "d4b0f089",
   "metadata": {},
   "outputs": [],
   "source": [
    "bucket_iv_date=[f.split('.')[0].split('_')[-1] for f in bucket_iv_items]\n",
    "bucket_niv_date=[f.split('.')[0].split('_')[-1] for f in bucket_niv_items]"
   ]
  },
  {
   "cell_type": "markdown",
   "id": "07a6dab9",
   "metadata": {},
   "source": [
    "# How many months (raw data) need processing? "
   ]
  },
  {
   "cell_type": "code",
   "execution_count": 8,
   "id": "8b4b00c6",
   "metadata": {},
   "outputs": [
    {
     "name": "stdout",
     "output_type": "stream",
     "text": [
      "Need to append 1 month(s) to existing NIV data.\n"
     ]
    }
   ],
   "source": [
    "# better to use a list of unique time stamps\n",
    "len_diff=len(bucket_niv_items) - len(old_data.time.unique())\n",
    "if len_diff > 0:\n",
    "    print(f'Need to append {len_diff} month(s) to existing NIV data.')\n",
    "else: print(\"No actions required, compiled NIV data is up to date.\")"
   ]
  },
  {
   "cell_type": "code",
   "execution_count": 9,
   "id": "411edefa",
   "metadata": {},
   "outputs": [
    {
     "name": "stdout",
     "output_type": "stream",
     "text": [
      "Need to append 1 month(s) to existing IV data.\n"
     ]
    }
   ],
   "source": [
    "# better to use a list of unique time stamps\n",
    "len_diff=len(bucket_iv_items) - len(old_data.time.unique())\n",
    "if len_diff > 0:\n",
    "    print(f'Need to append {len_diff} month(s) to existing IV data.')\n",
    "else: \n",
    "    print(\"No actions required, compiled IV data is up to date.\")\n",
    "    sys.exit(0) # exit(0) with grace"
   ]
  },
  {
   "cell_type": "code",
   "execution_count": 10,
   "id": "f520baba",
   "metadata": {},
   "outputs": [
    {
     "data": {
      "text/plain": [
       "'2025-01-31'"
      ]
     },
     "execution_count": 10,
     "metadata": {},
     "output_type": "execute_result"
    }
   ],
   "source": [
    "old_data.time.max()"
   ]
  },
  {
   "cell_type": "code",
   "execution_count": 11,
   "id": "acc4d310",
   "metadata": {},
   "outputs": [
    {
     "data": {
      "text/plain": [
       "'2025-02-28'"
      ]
     },
     "execution_count": 11,
     "metadata": {},
     "output_type": "execute_result"
    }
   ],
   "source": [
    "max(bucket_niv_date)"
   ]
  },
  {
   "cell_type": "code",
   "execution_count": 12,
   "id": "77f96cb3",
   "metadata": {},
   "outputs": [
    {
     "data": {
      "text/plain": [
       "True"
      ]
     },
     "execution_count": 12,
     "metadata": {},
     "output_type": "execute_result"
    }
   ],
   "source": [
    "# last item minus the difference in length\n",
    "bucket_niv_date[-len_diff-1] == old_data.time.max()"
   ]
  },
  {
   "cell_type": "code",
   "execution_count": 13,
   "id": "a1d7ea15",
   "metadata": {},
   "outputs": [
    {
     "name": "stdout",
     "output_type": "stream",
     "text": [
      "Needs the following month(s): ['2025-02-28']\n"
     ]
    }
   ],
   "source": [
    "niv_date_to_add=bucket_niv_date[-len_diff:]\n",
    "print(f'Needs the following month(s): {niv_date_to_add}')"
   ]
  },
  {
   "cell_type": "code",
   "execution_count": 14,
   "id": "98efa3e3",
   "metadata": {},
   "outputs": [
    {
     "data": {
      "text/plain": [
       "['2025-01-31', '2025-02-28']"
      ]
     },
     "execution_count": 14,
     "metadata": {},
     "output_type": "execute_result"
    }
   ],
   "source": [
    "bucket_niv_date[-2:]"
   ]
  },
  {
   "cell_type": "code",
   "execution_count": 15,
   "id": "c725577e",
   "metadata": {},
   "outputs": [
    {
     "name": "stdout",
     "output_type": "stream",
     "text": [
      "Needs the following month(s): ['2025-02-28'] for IV.\n"
     ]
    }
   ],
   "source": [
    "iv_date_to_add = bucket_iv_date[-len_diff:]\n",
    "print(f'Needs the following month(s): {iv_date_to_add} for IV.')"
   ]
  },
  {
   "cell_type": "markdown",
   "id": "561c1cba",
   "metadata": {},
   "source": [
    "# Read in raw data from S3"
   ]
  },
  {
   "cell_type": "markdown",
   "id": "f8de40b2",
   "metadata": {},
   "source": [
    "## Non-immigrant data"
   ]
  },
  {
   "cell_type": "code",
   "execution_count": 16,
   "id": "c72b494f",
   "metadata": {},
   "outputs": [],
   "source": [
    "niv_df_raw = [None] * len_diff"
   ]
  },
  {
   "cell_type": "code",
   "execution_count": 17,
   "id": "e0d91074",
   "metadata": {},
   "outputs": [
    {
     "data": {
      "text/plain": [
       "'niv_2025-02-28.txt'"
      ]
     },
     "execution_count": 17,
     "metadata": {},
     "output_type": "execute_result"
    }
   ],
   "source": [
    "bucket_niv_items[-(0+1)]"
   ]
  },
  {
   "cell_type": "code",
   "execution_count": 18,
   "id": "ad2618fe",
   "metadata": {},
   "outputs": [
    {
     "name": "stdout",
     "output_type": "stream",
     "text": [
      "Getting the -1 item from the .txt folder:\n"
     ]
    }
   ],
   "source": [
    "for i in range(len_diff):\n",
    "    print(f'Getting the {-(i+1)} item from the .txt folder:')\n",
    "    file = s3.get_object(Bucket = aws_credential['bucket'],\n",
    "              # offset zero indexing: -(i+1), start from most recent (last in)\n",
    "              Key = 'messy_data/visa_scraped/niv/'+bucket_niv_items[-(i+1)])['Body'].read()\n",
    "    #niv_df_raw[i] = pd.DataFrame(file.decode(\"utf-8\").split('\\n')) # this works\n",
    "    niv_df_raw[i] = pd.read_csv(io.BytesIO(file), delimiter = \"\\t\", header = None) # also works"
   ]
  },
  {
   "cell_type": "code",
   "execution_count": 19,
   "id": "ceed7e53",
   "metadata": {},
   "outputs": [],
   "source": [
    "test_object=s3.get_object(Bucket = aws_credential['bucket'], \n",
    "              Key = 'messy_data/visa_scraped/niv/' + bucket_niv_items[-len_diff])['Body'].read()"
   ]
  },
  {
   "cell_type": "code",
   "execution_count": 20,
   "id": "b823febf",
   "metadata": {},
   "outputs": [
    {
     "data": {
      "text/plain": [
       "bytes"
      ]
     },
     "execution_count": 20,
     "metadata": {},
     "output_type": "execute_result"
    }
   ],
   "source": [
    "type(test_object)"
   ]
  },
  {
   "cell_type": "code",
   "execution_count": 21,
   "id": "64001a0c",
   "metadata": {},
   "outputs": [
    {
     "data": {
      "text/plain": [
       "['Nationality Visa Class Issuances',\n",
       " 'Afghanistan A2 1',\n",
       " 'Afghanistan B1/B2 127',\n",
       " 'Afghanistan F1 18',\n",
       " 'Afghanistan F2 1']"
      ]
     },
     "execution_count": 21,
     "metadata": {},
     "output_type": "execute_result"
    }
   ],
   "source": [
    "test_object.decode(\"utf-8\").split('\\n')[:5]"
   ]
  },
  {
   "cell_type": "code",
   "execution_count": 22,
   "id": "8df003be",
   "metadata": {},
   "outputs": [
    {
     "data": {
      "text/html": [
       "<div>\n",
       "<style scoped>\n",
       "    .dataframe tbody tr th:only-of-type {\n",
       "        vertical-align: middle;\n",
       "    }\n",
       "\n",
       "    .dataframe tbody tr th {\n",
       "        vertical-align: top;\n",
       "    }\n",
       "\n",
       "    .dataframe thead th {\n",
       "        text-align: right;\n",
       "    }\n",
       "</style>\n",
       "<table border=\"1\" class=\"dataframe\">\n",
       "  <thead>\n",
       "    <tr style=\"text-align: right;\">\n",
       "      <th></th>\n",
       "      <th>0</th>\n",
       "    </tr>\n",
       "  </thead>\n",
       "  <tbody>\n",
       "    <tr>\n",
       "      <th>0</th>\n",
       "      <td>Nationality Visa Class Issuances</td>\n",
       "    </tr>\n",
       "    <tr>\n",
       "      <th>1</th>\n",
       "      <td>Afghanistan A2 1</td>\n",
       "    </tr>\n",
       "    <tr>\n",
       "      <th>2</th>\n",
       "      <td>Afghanistan B1/B2 127</td>\n",
       "    </tr>\n",
       "    <tr>\n",
       "      <th>3</th>\n",
       "      <td>Afghanistan F1 18</td>\n",
       "    </tr>\n",
       "    <tr>\n",
       "      <th>4</th>\n",
       "      <td>Afghanistan F2 1</td>\n",
       "    </tr>\n",
       "  </tbody>\n",
       "</table>\n",
       "</div>"
      ],
      "text/plain": [
       "                                  0\n",
       "0  Nationality Visa Class Issuances\n",
       "1                  Afghanistan A2 1\n",
       "2             Afghanistan B1/B2 127\n",
       "3                 Afghanistan F1 18\n",
       "4                  Afghanistan F2 1"
      ]
     },
     "execution_count": 22,
     "metadata": {},
     "output_type": "execute_result"
    }
   ],
   "source": [
    "pd.DataFrame(test_object.decode(\"utf-8\").split('\\n')).iloc[:5]"
   ]
  },
  {
   "cell_type": "code",
   "execution_count": 23,
   "id": "2363dbd1",
   "metadata": {},
   "outputs": [
    {
     "data": {
      "text/html": [
       "<div>\n",
       "<style scoped>\n",
       "    .dataframe tbody tr th:only-of-type {\n",
       "        vertical-align: middle;\n",
       "    }\n",
       "\n",
       "    .dataframe tbody tr th {\n",
       "        vertical-align: top;\n",
       "    }\n",
       "\n",
       "    .dataframe thead th {\n",
       "        text-align: right;\n",
       "    }\n",
       "</style>\n",
       "<table border=\"1\" class=\"dataframe\">\n",
       "  <thead>\n",
       "    <tr style=\"text-align: right;\">\n",
       "      <th></th>\n",
       "      <th>0</th>\n",
       "    </tr>\n",
       "  </thead>\n",
       "  <tbody>\n",
       "    <tr>\n",
       "      <th>0</th>\n",
       "      <td>Nationality Visa Class Issuances</td>\n",
       "    </tr>\n",
       "    <tr>\n",
       "      <th>1</th>\n",
       "      <td>Afghanistan A2 1</td>\n",
       "    </tr>\n",
       "    <tr>\n",
       "      <th>2</th>\n",
       "      <td>Afghanistan B1/B2 127</td>\n",
       "    </tr>\n",
       "    <tr>\n",
       "      <th>3</th>\n",
       "      <td>Afghanistan F1 18</td>\n",
       "    </tr>\n",
       "    <tr>\n",
       "      <th>4</th>\n",
       "      <td>Afghanistan F2 1</td>\n",
       "    </tr>\n",
       "  </tbody>\n",
       "</table>\n",
       "</div>"
      ],
      "text/plain": [
       "                                  0\n",
       "0  Nationality Visa Class Issuances\n",
       "1                  Afghanistan A2 1\n",
       "2             Afghanistan B1/B2 127\n",
       "3                 Afghanistan F1 18\n",
       "4                  Afghanistan F2 1"
      ]
     },
     "execution_count": 23,
     "metadata": {},
     "output_type": "execute_result"
    }
   ],
   "source": [
    "pd.read_csv(io.BytesIO(test_object), delimiter = \"\\t\", header = None).iloc[:5]"
   ]
  },
  {
   "cell_type": "markdown",
   "id": "cd925509",
   "metadata": {},
   "source": [
    "## Immigrant visa data"
   ]
  },
  {
   "cell_type": "code",
   "execution_count": 24,
   "id": "4ea74460",
   "metadata": {},
   "outputs": [],
   "source": [
    "iv_df_raw = [None] * len_diff"
   ]
  },
  {
   "cell_type": "code",
   "execution_count": 25,
   "id": "043dfb27",
   "metadata": {},
   "outputs": [
    {
     "name": "stdout",
     "output_type": "stream",
     "text": [
      "Getting the -1 item from the .txt folder:\n"
     ]
    }
   ],
   "source": [
    "for i in range(len_diff):\n",
    "    print(f'Getting the {-(i+1)} item from the .txt folder:')\n",
    "    file = s3.get_object(Bucket = aws_credential['bucket'],\n",
    "              # offset zero indexing: -(i+1), start from most recent (last in)\n",
    "              Key = 'messy_data/visa_scraped/iv/'+bucket_iv_items[-(i+1)])['Body'].read()\n",
    "    #niv_df_raw[i] = pd.DataFrame(file.decode(\"utf-8\").split('\\n')) # this works\n",
    "    iv_df_raw[i] = pd.read_csv(io.BytesIO(file), delimiter = \"\\t\", header = None) # also works"
   ]
  },
  {
   "cell_type": "code",
   "execution_count": 26,
   "id": "20de83d1",
   "metadata": {},
   "outputs": [
    {
     "name": "stdout",
     "output_type": "stream",
     "text": [
      "1\n"
     ]
    }
   ],
   "source": [
    "print(len(iv_df_raw))"
   ]
  },
  {
   "cell_type": "markdown",
   "id": "5f3f771c",
   "metadata": {},
   "source": [
    "# Cleaning"
   ]
  },
  {
   "cell_type": "markdown",
   "id": "5b63ab64",
   "metadata": {},
   "source": [
    "## A list of raw dataframes"
   ]
  },
  {
   "cell_type": "code",
   "execution_count": 27,
   "id": "13be0e87",
   "metadata": {},
   "outputs": [
    {
     "name": "stdout",
     "output_type": "stream",
     "text": [
      "[V    GRAND TOTAL 914,989\n",
      "Name: 3692, dtype: object]\n"
     ]
    }
   ],
   "source": [
    "grand_total = []\n",
    "for i in range(len(niv_df_raw)):\n",
    "    niv_df_raw[i].columns = ['V'] # more robust than .rename\n",
    "    # or use .apply(lambda x: x.strip()), but the following is simple\n",
    "    niv_df_raw[i]['V']=niv_df_raw[i]['V'].str.strip().str.upper()\n",
    "    # insert an iterrows() loop to get the index of the grand total row\n",
    "    for idx,row in niv_df_raw[i].iterrows():\n",
    "        if 'grand total'.upper() in row['V']:\n",
    "            grand_total.append(row)\n",
    "            idx_rm_below = idx\n",
    "    niv_df_raw[i]=niv_df_raw[i].iloc[:idx_rm_below]\n",
    "    # offset zero indexing: -(i+1), start from most recent\n",
    "    niv_df_raw[i]['time'] = niv_date_to_add[-(i+1)]\n",
    "print(grand_total)"
   ]
  },
  {
   "cell_type": "code",
   "execution_count": 28,
   "id": "acb7703f",
   "metadata": {},
   "outputs": [
    {
     "name": "stdout",
     "output_type": "stream",
     "text": [
      "[V    GRAND TOTAL 51,058\n",
      "Name: 2010, dtype: object]\n"
     ]
    }
   ],
   "source": [
    "iv_grand_total = []\n",
    "for i in range(len(iv_df_raw)):\n",
    "    iv_df_raw[i].columns = ['V']\n",
    "    iv_df_raw[i]['V']=iv_df_raw[i]['V'].str.strip().str.upper()\n",
    "    for idx,row in iv_df_raw[i].iterrows():\n",
    "        if 'grand total'.upper() in row['V']:\n",
    "            iv_grand_total.append(row)\n",
    "            idx_rm_below = idx\n",
    "    iv_df_raw[i] = iv_df_raw[i].iloc[:idx_rm_below]\n",
    "    iv_df_raw[i]['time'] = iv_date_to_add[-(i+1)]\n",
    "print(iv_grand_total)"
   ]
  },
  {
   "cell_type": "markdown",
   "id": "21d5f5b6",
   "metadata": {},
   "source": [
    "## Concatenated one long dataframe"
   ]
  },
  {
   "cell_type": "code",
   "execution_count": 29,
   "id": "1994ead3",
   "metadata": {},
   "outputs": [],
   "source": [
    "df_raw_niv=pd.concat([df for df in niv_df_raw])\n",
    "df_niv = df_raw_niv.copy(deep = True)"
   ]
  },
  {
   "cell_type": "code",
   "execution_count": 30,
   "id": "c4e57404",
   "metadata": {},
   "outputs": [],
   "source": [
    "df_raw_iv=pd.concat([df for df in iv_df_raw])\n",
    "df_iv=df_raw_iv.copy(deep=True)"
   ]
  },
  {
   "cell_type": "markdown",
   "id": "0067e963",
   "metadata": {},
   "source": [
    "## Remove non-data rows"
   ]
  },
  {
   "cell_type": "markdown",
   "id": "9ffa8677",
   "metadata": {},
   "source": [
    "### NIV"
   ]
  },
  {
   "cell_type": "code",
   "execution_count": 31,
   "id": "d1541072",
   "metadata": {},
   "outputs": [
    {
     "data": {
      "text/plain": [
       "'NONIMMIGRANT|NATIONALITY VISA|\\\\(FY|\\\\#SBU|PAGE|SENSITIVE'"
      ]
     },
     "execution_count": 31,
     "metadata": {},
     "output_type": "execute_result"
    }
   ],
   "source": [
    "niv_headers = ['NONIMMIGRANT','NATIONALITY VISA','\\\\(FY', '\\\\#SBU','PAGE','SENSITIVE']\n",
    "'|'.join([h for h in niv_headers])"
   ]
  },
  {
   "cell_type": "code",
   "execution_count": 32,
   "id": "1914ee6c",
   "metadata": {},
   "outputs": [],
   "source": [
    "# df_niv[df_niv['V'].str.len() <=1]\n",
    "df_niv_headers=df_niv[df_niv['V'].str.contains('|'.join(niv_headers))]"
   ]
  },
  {
   "cell_type": "code",
   "execution_count": 33,
   "id": "0dd5bb0e",
   "metadata": {},
   "outputs": [
    {
     "data": {
      "text/plain": [
       "Index([   0,   42,   43,   44,   45,   46,   89,   90,   91,  134,\n",
       "       ...\n",
       "       3556, 3599, 3600, 3601, 3644, 3645, 3646, 3689, 3690, 3691],\n",
       "      dtype='int64', length=249)"
      ]
     },
     "execution_count": 33,
     "metadata": {},
     "output_type": "execute_result"
    }
   ],
   "source": [
    "df_niv_headers.index"
   ]
  },
  {
   "cell_type": "code",
   "execution_count": 34,
   "id": "b9b27ac8",
   "metadata": {},
   "outputs": [],
   "source": [
    "# remove rows that were headers & footers, not final yet\n",
    "df_niv=df_niv.iloc[~df_niv.index.isin(df_niv_headers.index)]"
   ]
  },
  {
   "cell_type": "markdown",
   "id": "d0e865b2",
   "metadata": {},
   "source": [
    "### IV"
   ]
  },
  {
   "cell_type": "code",
   "execution_count": 35,
   "id": "bcf7fa7c",
   "metadata": {},
   "outputs": [],
   "source": [
    "df_iv['V'] = df_iv['V'].str.strip()\n",
    "df_iv = df_iv[df_iv['V'].str.len() > 1]\n",
    "iv_headers = ['PAGE ', 'FOREIGN STATE OF', 'CHARGEABILITY', \n",
    "              'PLACE OF BIRTH', '\\\\(FY 20', '\\\\(FY20',\n",
    "              'IMMIGRANT VISA', 'SENSITIVE']\n",
    "df_iv_headers = df_iv.loc[df_iv['V'].str.contains('|'.join(iv_headers))]\n",
    "df_iv = df_iv.iloc[~df_iv.index.isin(df_iv_headers.index)]"
   ]
  },
  {
   "cell_type": "code",
   "execution_count": 36,
   "id": "f2638bb1",
   "metadata": {},
   "outputs": [
    {
     "data": {
      "text/plain": [
       "(270, 2)"
      ]
     },
     "execution_count": 36,
     "metadata": {},
     "output_type": "execute_result"
    }
   ],
   "source": [
    "df_iv_headers.shape"
   ]
  },
  {
   "cell_type": "code",
   "execution_count": 37,
   "id": "a56e4b06",
   "metadata": {},
   "outputs": [
    {
     "data": {
      "text/plain": [
       "(1740, 2)"
      ]
     },
     "execution_count": 37,
     "metadata": {},
     "output_type": "execute_result"
    }
   ],
   "source": [
    "df_iv.shape"
   ]
  },
  {
   "cell_type": "markdown",
   "id": "23cff598",
   "metadata": {},
   "source": [
    "## Split all-in-one column"
   ]
  },
  {
   "cell_type": "markdown",
   "id": "071c72bc",
   "metadata": {},
   "source": [
    "### NIV"
   ]
  },
  {
   "cell_type": "code",
   "execution_count": 38,
   "id": "827d8440",
   "metadata": {},
   "outputs": [
    {
     "data": {
      "text/html": [
       "<div>\n",
       "<style scoped>\n",
       "    .dataframe tbody tr th:only-of-type {\n",
       "        vertical-align: middle;\n",
       "    }\n",
       "\n",
       "    .dataframe tbody tr th {\n",
       "        vertical-align: top;\n",
       "    }\n",
       "\n",
       "    .dataframe thead th {\n",
       "        text-align: right;\n",
       "    }\n",
       "</style>\n",
       "<table border=\"1\" class=\"dataframe\">\n",
       "  <thead>\n",
       "    <tr style=\"text-align: right;\">\n",
       "      <th></th>\n",
       "      <th>V</th>\n",
       "      <th>time</th>\n",
       "    </tr>\n",
       "  </thead>\n",
       "  <tbody>\n",
       "    <tr>\n",
       "      <th>1</th>\n",
       "      <td>AFGHANISTAN A2 1</td>\n",
       "      <td>2025-02-28</td>\n",
       "    </tr>\n",
       "    <tr>\n",
       "      <th>2</th>\n",
       "      <td>AFGHANISTAN B1/B2 127</td>\n",
       "      <td>2025-02-28</td>\n",
       "    </tr>\n",
       "  </tbody>\n",
       "</table>\n",
       "</div>"
      ],
      "text/plain": [
       "                       V        time\n",
       "1       AFGHANISTAN A2 1  2025-02-28\n",
       "2  AFGHANISTAN B1/B2 127  2025-02-28"
      ]
     },
     "execution_count": 38,
     "metadata": {},
     "output_type": "execute_result"
    }
   ],
   "source": [
    "df_niv.head(2)"
   ]
  },
  {
   "cell_type": "code",
   "execution_count": 39,
   "id": "3a2ffa39",
   "metadata": {},
   "outputs": [],
   "source": [
    "# get rid of the warning messages\n",
    "pd.options.mode.copy_on_write = True\n",
    "df_niv['nationality']=[' '.join(row.split(' ')[:-2]).strip() for row in df_niv['V']]\n",
    "# visa class\n",
    "df_niv['visa']=[row.split(' ')[-2].strip() for row in df_niv['V']]\n",
    "# remove thousand separator , from numbers\n",
    "df_niv['issue']=[row.split(' ')[-1].replace(',','').strip() for row in df_niv['V']]"
   ]
  },
  {
   "cell_type": "code",
   "execution_count": 40,
   "id": "2a63d5d8",
   "metadata": {},
   "outputs": [
    {
     "data": {
      "text/html": [
       "<div>\n",
       "<style scoped>\n",
       "    .dataframe tbody tr th:only-of-type {\n",
       "        vertical-align: middle;\n",
       "    }\n",
       "\n",
       "    .dataframe tbody tr th {\n",
       "        vertical-align: top;\n",
       "    }\n",
       "\n",
       "    .dataframe thead th {\n",
       "        text-align: right;\n",
       "    }\n",
       "</style>\n",
       "<table border=\"1\" class=\"dataframe\">\n",
       "  <thead>\n",
       "    <tr style=\"text-align: right;\">\n",
       "      <th></th>\n",
       "      <th>V</th>\n",
       "      <th>time</th>\n",
       "      <th>nationality</th>\n",
       "      <th>visa</th>\n",
       "      <th>issue</th>\n",
       "    </tr>\n",
       "  </thead>\n",
       "  <tbody>\n",
       "    <tr>\n",
       "      <th>1</th>\n",
       "      <td>AFGHANISTAN A2 1</td>\n",
       "      <td>2025-02-28</td>\n",
       "      <td>AFGHANISTAN</td>\n",
       "      <td>A2</td>\n",
       "      <td>1</td>\n",
       "    </tr>\n",
       "    <tr>\n",
       "      <th>2</th>\n",
       "      <td>AFGHANISTAN B1/B2 127</td>\n",
       "      <td>2025-02-28</td>\n",
       "      <td>AFGHANISTAN</td>\n",
       "      <td>B1/B2</td>\n",
       "      <td>127</td>\n",
       "    </tr>\n",
       "  </tbody>\n",
       "</table>\n",
       "</div>"
      ],
      "text/plain": [
       "                       V        time  nationality   visa issue\n",
       "1       AFGHANISTAN A2 1  2025-02-28  AFGHANISTAN     A2     1\n",
       "2  AFGHANISTAN B1/B2 127  2025-02-28  AFGHANISTAN  B1/B2   127"
      ]
     },
     "execution_count": 40,
     "metadata": {},
     "output_type": "execute_result"
    }
   ],
   "source": [
    "df_niv.head(2)"
   ]
  },
  {
   "cell_type": "markdown",
   "id": "d3596003",
   "metadata": {},
   "source": [
    "### IV"
   ]
  },
  {
   "cell_type": "code",
   "execution_count": 41,
   "id": "e6d23b50",
   "metadata": {},
   "outputs": [],
   "source": [
    "df_iv['nationality']=[' '.join(row.split(' ')[:-2]).strip() for row in df_iv['V']]\n",
    "df_iv['visa']=[row.split(' ')[-2].strip() for row in df_iv['V']]\n",
    "df_iv['issue']=[row.split(' ')[-1].replace(',','').strip() for row in df_iv['V']]"
   ]
  },
  {
   "cell_type": "code",
   "execution_count": 42,
   "id": "39da499b",
   "metadata": {},
   "outputs": [
    {
     "data": {
      "text/html": [
       "<div>\n",
       "<style scoped>\n",
       "    .dataframe tbody tr th:only-of-type {\n",
       "        vertical-align: middle;\n",
       "    }\n",
       "\n",
       "    .dataframe tbody tr th {\n",
       "        vertical-align: top;\n",
       "    }\n",
       "\n",
       "    .dataframe thead th {\n",
       "        text-align: right;\n",
       "    }\n",
       "</style>\n",
       "<table border=\"1\" class=\"dataframe\">\n",
       "  <thead>\n",
       "    <tr style=\"text-align: right;\">\n",
       "      <th></th>\n",
       "      <th>V</th>\n",
       "      <th>time</th>\n",
       "      <th>nationality</th>\n",
       "      <th>visa</th>\n",
       "      <th>issue</th>\n",
       "    </tr>\n",
       "  </thead>\n",
       "  <tbody>\n",
       "    <tr>\n",
       "      <th>2</th>\n",
       "      <td>AFGHANISTAN CR1 25</td>\n",
       "      <td>2025-02-28</td>\n",
       "      <td>AFGHANISTAN</td>\n",
       "      <td>CR1</td>\n",
       "      <td>25</td>\n",
       "    </tr>\n",
       "    <tr>\n",
       "      <th>3</th>\n",
       "      <td>AFGHANISTAN DV 109</td>\n",
       "      <td>2025-02-28</td>\n",
       "      <td>AFGHANISTAN</td>\n",
       "      <td>DV</td>\n",
       "      <td>109</td>\n",
       "    </tr>\n",
       "  </tbody>\n",
       "</table>\n",
       "</div>"
      ],
      "text/plain": [
       "                    V        time  nationality visa issue\n",
       "2  AFGHANISTAN CR1 25  2025-02-28  AFGHANISTAN  CR1    25\n",
       "3  AFGHANISTAN DV 109  2025-02-28  AFGHANISTAN   DV   109"
      ]
     },
     "execution_count": 42,
     "metadata": {},
     "output_type": "execute_result"
    }
   ],
   "source": [
    "df_iv.head(2)"
   ]
  },
  {
   "cell_type": "markdown",
   "id": "53445ebb",
   "metadata": {},
   "source": [
    "# Validation"
   ]
  },
  {
   "cell_type": "markdown",
   "id": "85fee94b",
   "metadata": {},
   "source": [
    "## Data type"
   ]
  },
  {
   "cell_type": "code",
   "execution_count": 43,
   "id": "d098f4bb",
   "metadata": {},
   "outputs": [
    {
     "data": {
      "text/plain": [
       "['a1', 'b ']"
      ]
     },
     "execution_count": 43,
     "metadata": {},
     "output_type": "execute_result"
    }
   ],
   "source": [
    "# test list comprehension with a short and simple list\n",
    "[s for s in ['34',23,'a1','20','b '] if not str(s).isdigit()]"
   ]
  },
  {
   "cell_type": "code",
   "execution_count": 44,
   "id": "d2d38179",
   "metadata": {},
   "outputs": [
    {
     "name": "stdout",
     "output_type": "stream",
     "text": [
      "No non-numeric values were detected in the NIV issuance column. Good to proceed.\n"
     ]
    }
   ],
   "source": [
    "# Are there non-numeric values in the visa issuance count column?\n",
    "check_numeric=[s for s in df_niv['issue'] if not str(s).isdigit()]\n",
    "if len(check_numeric)>0:\n",
    "    print(\"At least one row has non-numeric values in the NIV issuance column. Go back and check.\")\n",
    "    print(check_numeric)\n",
    "    sys.exit()\n",
    "else:\n",
    "    print(\"No non-numeric values were detected in the NIV issuance column. Good to proceed.\")\n",
    "    df_niv['issue'] = df_niv['issue'].astype(int)"
   ]
  },
  {
   "cell_type": "code",
   "execution_count": 45,
   "id": "5cdf511e",
   "metadata": {},
   "outputs": [
    {
     "name": "stdout",
     "output_type": "stream",
     "text": [
      "No non-numeric values were detected in the IV issuance column. Good to proceed.\n"
     ]
    }
   ],
   "source": [
    "# Are there non-numeric values in the visa issuance count column?\n",
    "check_numeric=[s for s in df_iv['issue'] if not str(s).isdigit()]\n",
    "if len(check_numeric)>0:\n",
    "    print(\"At least one row has non-numeric values in the IV issuance column. Go back and check.\")\n",
    "    print(check_numeric)\n",
    "    sys.exit()\n",
    "else:\n",
    "    print(\"No non-numeric values were detected in the IV issuance column. Good to proceed.\")\n",
    "    df_iv['issue'] = df_iv['issue'].astype(int)"
   ]
  },
  {
   "cell_type": "markdown",
   "id": "11d2bb20",
   "metadata": {},
   "source": [
    "## Restoring rows when data got mixed with headers\n",
    "\n",
    "- This is the most challenging part of cleaning this dataset.\n",
    "- `if any(pattern in input_text for pattern in pattern_list):`"
   ]
  },
  {
   "cell_type": "markdown",
   "id": "39efcc15",
   "metadata": {},
   "source": [
    "### NIV"
   ]
  },
  {
   "cell_type": "code",
   "execution_count": 46,
   "id": "c6b621e1",
   "metadata": {},
   "outputs": [
    {
     "name": "stdout",
     "output_type": "stream",
     "text": [
      "42 V       ALGERIA G2 11NONIMMIGRANT VISA ISSUANCES BY NA...\n",
      "time                                           2025-02-28\n",
      "Name: 42, dtype: object\n"
     ]
    }
   ],
   "source": [
    "restore_idx = []\n",
    "# here's how any() works\n",
    "for idx,row in df_niv_headers.iterrows():\n",
    "    if any(c in row['V'] for c in df_niv.nationality.unique()):\n",
    "        print(idx, row)\n",
    "        restore_idx.append(idx)"
   ]
  },
  {
   "cell_type": "code",
   "execution_count": 47,
   "id": "2ecdaf85",
   "metadata": {},
   "outputs": [],
   "source": [
    "df_restore=df_niv_headers.loc[restore_idx]"
   ]
  },
  {
   "cell_type": "code",
   "execution_count": 48,
   "id": "cf93f4cd",
   "metadata": {},
   "outputs": [
    {
     "data": {
      "text/html": [
       "<div>\n",
       "<style scoped>\n",
       "    .dataframe tbody tr th:only-of-type {\n",
       "        vertical-align: middle;\n",
       "    }\n",
       "\n",
       "    .dataframe tbody tr th {\n",
       "        vertical-align: top;\n",
       "    }\n",
       "\n",
       "    .dataframe thead th {\n",
       "        text-align: right;\n",
       "    }\n",
       "</style>\n",
       "<table border=\"1\" class=\"dataframe\">\n",
       "  <thead>\n",
       "    <tr style=\"text-align: right;\">\n",
       "      <th></th>\n",
       "      <th>V</th>\n",
       "      <th>time</th>\n",
       "    </tr>\n",
       "  </thead>\n",
       "  <tbody>\n",
       "    <tr>\n",
       "      <th>42</th>\n",
       "      <td>ALGERIA G2 11NONIMMIGRANT VISA ISSUANCES BY NA...</td>\n",
       "      <td>2025-02-28</td>\n",
       "    </tr>\n",
       "  </tbody>\n",
       "</table>\n",
       "</div>"
      ],
      "text/plain": [
       "                                                    V        time\n",
       "42  ALGERIA G2 11NONIMMIGRANT VISA ISSUANCES BY NA...  2025-02-28"
      ]
     },
     "execution_count": 48,
     "metadata": {},
     "output_type": "execute_result"
    }
   ],
   "source": [
    "df_restore"
   ]
  },
  {
   "cell_type": "code",
   "execution_count": 49,
   "id": "150ff794",
   "metadata": {},
   "outputs": [],
   "source": [
    "df_restore['nationality']=[' '.join(row.split('NONIMMIGRANT')[0].strip().split(' ')[:-2]).strip() for row in df_restore['V']]\n",
    "df_restore['visa'] = [row.split('NONIMMIGRANT')[0].strip().split(' ')[-2].strip() for row in df_restore['V']]\n",
    "df_restore['issue'] = [row.split('NONIMMIGRANT')[0].strip().split(' ')[-1].strip().replace(',','') for row in df_restore['V']]\n",
    "df_restore['issue'] = df_restore['issue'].astype(int)"
   ]
  },
  {
   "cell_type": "code",
   "execution_count": 50,
   "id": "7b80d2ca",
   "metadata": {
    "scrolled": true
   },
   "outputs": [
    {
     "data": {
      "text/html": [
       "<div>\n",
       "<style scoped>\n",
       "    .dataframe tbody tr th:only-of-type {\n",
       "        vertical-align: middle;\n",
       "    }\n",
       "\n",
       "    .dataframe tbody tr th {\n",
       "        vertical-align: top;\n",
       "    }\n",
       "\n",
       "    .dataframe thead th {\n",
       "        text-align: right;\n",
       "    }\n",
       "</style>\n",
       "<table border=\"1\" class=\"dataframe\">\n",
       "  <thead>\n",
       "    <tr style=\"text-align: right;\">\n",
       "      <th></th>\n",
       "      <th>V</th>\n",
       "      <th>time</th>\n",
       "      <th>nationality</th>\n",
       "      <th>visa</th>\n",
       "      <th>issue</th>\n",
       "    </tr>\n",
       "  </thead>\n",
       "  <tbody>\n",
       "    <tr>\n",
       "      <th>42</th>\n",
       "      <td>ALGERIA G2 11NONIMMIGRANT VISA ISSUANCES BY NA...</td>\n",
       "      <td>2025-02-28</td>\n",
       "      <td>ALGERIA</td>\n",
       "      <td>G2</td>\n",
       "      <td>11</td>\n",
       "    </tr>\n",
       "  </tbody>\n",
       "</table>\n",
       "</div>"
      ],
      "text/plain": [
       "                                                    V        time nationality  \\\n",
       "42  ALGERIA G2 11NONIMMIGRANT VISA ISSUANCES BY NA...  2025-02-28     ALGERIA   \n",
       "\n",
       "   visa  issue  \n",
       "42   G2     11  "
      ]
     },
     "execution_count": 50,
     "metadata": {},
     "output_type": "execute_result"
    }
   ],
   "source": [
    "df_restore"
   ]
  },
  {
   "cell_type": "markdown",
   "id": "f373f928",
   "metadata": {},
   "source": [
    "### IV"
   ]
  },
  {
   "cell_type": "code",
   "execution_count": 51,
   "id": "88e3524c",
   "metadata": {},
   "outputs": [
    {
     "name": "stdout",
     "output_type": "stream",
     "text": [
      "40 V       ANGOLA IR5 3                           IMMIGRA...\n",
      "time                                           2025-02-28\n",
      "Name: 40, dtype: object\n"
     ]
    }
   ],
   "source": [
    "restore_idx_iv = []\n",
    "# here's how any() works\n",
    "for idx,row in df_iv_headers.iterrows():\n",
    "    if any(c in row['V'] for c in df_iv.nationality.unique()):\n",
    "        print(idx, row)\n",
    "        restore_idx_iv.append(idx)"
   ]
  },
  {
   "cell_type": "code",
   "execution_count": 52,
   "id": "855a4777",
   "metadata": {},
   "outputs": [
    {
     "data": {
      "text/html": [
       "<div>\n",
       "<style scoped>\n",
       "    .dataframe tbody tr th:only-of-type {\n",
       "        vertical-align: middle;\n",
       "    }\n",
       "\n",
       "    .dataframe tbody tr th {\n",
       "        vertical-align: top;\n",
       "    }\n",
       "\n",
       "    .dataframe thead th {\n",
       "        text-align: right;\n",
       "    }\n",
       "</style>\n",
       "<table border=\"1\" class=\"dataframe\">\n",
       "  <thead>\n",
       "    <tr style=\"text-align: right;\">\n",
       "      <th></th>\n",
       "      <th>V</th>\n",
       "      <th>time</th>\n",
       "      <th>nationality</th>\n",
       "      <th>visa</th>\n",
       "      <th>issue</th>\n",
       "    </tr>\n",
       "  </thead>\n",
       "  <tbody>\n",
       "    <tr>\n",
       "      <th>40</th>\n",
       "      <td>ANGOLA IR5 3                           IMMIGRA...</td>\n",
       "      <td>2025-02-28</td>\n",
       "      <td>ANGOLA</td>\n",
       "      <td>IR5</td>\n",
       "      <td>3</td>\n",
       "    </tr>\n",
       "  </tbody>\n",
       "</table>\n",
       "</div>"
      ],
      "text/plain": [
       "                                                    V        time nationality  \\\n",
       "40  ANGOLA IR5 3                           IMMIGRA...  2025-02-28      ANGOLA   \n",
       "\n",
       "   visa  issue  \n",
       "40  IR5      3  "
      ]
     },
     "execution_count": 52,
     "metadata": {},
     "output_type": "execute_result"
    }
   ],
   "source": [
    "df_restore_iv=df_iv_headers.loc[restore_idx_iv]\n",
    "df_restore_iv['nationality']=[' '.join(row.split('IMMIGRANT')[0].strip().split(' ')[:-2]).strip() for row in df_restore_iv['V']]\n",
    "df_restore_iv['visa'] = [row.split('IMMIGRANT')[0].strip().split(' ')[-2].strip() for row in df_restore_iv['V']]\n",
    "df_restore_iv['issue'] = [row.split('IMMIGRANT')[0].strip().split(' ')[-1].strip().replace(',','') for row in df_restore_iv['V']]\n",
    "df_restore_iv['issue'] = df_restore_iv['issue'].astype(int)\n",
    "df_restore_iv"
   ]
  },
  {
   "cell_type": "markdown",
   "id": "89d47d0c",
   "metadata": {},
   "source": [
    "## Concatenating"
   ]
  },
  {
   "cell_type": "code",
   "execution_count": 53,
   "id": "37cd354b",
   "metadata": {},
   "outputs": [],
   "source": [
    "col_order = ['nationality', 'visa', 'issue','time']"
   ]
  },
  {
   "cell_type": "code",
   "execution_count": 54,
   "id": "e2bc96a0",
   "metadata": {},
   "outputs": [],
   "source": [
    "df_niv=pd.concat([df_niv, df_restore]).sort_index().drop(columns = ['V'])[col_order].drop_duplicates()"
   ]
  },
  {
   "cell_type": "code",
   "execution_count": 55,
   "id": "98760228",
   "metadata": {},
   "outputs": [
    {
     "data": {
      "text/html": [
       "<div>\n",
       "<style scoped>\n",
       "    .dataframe tbody tr th:only-of-type {\n",
       "        vertical-align: middle;\n",
       "    }\n",
       "\n",
       "    .dataframe tbody tr th {\n",
       "        vertical-align: top;\n",
       "    }\n",
       "\n",
       "    .dataframe thead th {\n",
       "        text-align: right;\n",
       "    }\n",
       "</style>\n",
       "<table border=\"1\" class=\"dataframe\">\n",
       "  <thead>\n",
       "    <tr style=\"text-align: right;\">\n",
       "      <th></th>\n",
       "      <th>V</th>\n",
       "    </tr>\n",
       "  </thead>\n",
       "  <tbody>\n",
       "    <tr>\n",
       "      <th>3692</th>\n",
       "      <td>GRAND TOTAL 914,989</td>\n",
       "    </tr>\n",
       "  </tbody>\n",
       "</table>\n",
       "</div>"
      ],
      "text/plain": [
       "                        V\n",
       "3692  GRAND TOTAL 914,989"
      ]
     },
     "execution_count": 55,
     "metadata": {},
     "output_type": "execute_result"
    }
   ],
   "source": [
    "pd.DataFrame(grand_total)"
   ]
  },
  {
   "cell_type": "code",
   "execution_count": 56,
   "id": "9c0e69a6",
   "metadata": {},
   "outputs": [
    {
     "data": {
      "text/plain": [
       "914989"
      ]
     },
     "execution_count": 56,
     "metadata": {},
     "output_type": "execute_result"
    }
   ],
   "source": [
    "df_niv['issue'].sum()"
   ]
  },
  {
   "cell_type": "code",
   "execution_count": 57,
   "id": "8b1d0a5b",
   "metadata": {},
   "outputs": [],
   "source": [
    "df_iv=pd.concat([df_iv, df_restore_iv]).sort_index().drop(columns=['V'])[col_order].drop_duplicates()"
   ]
  },
  {
   "cell_type": "code",
   "execution_count": 58,
   "id": "5b174427",
   "metadata": {},
   "outputs": [
    {
     "data": {
      "text/plain": [
       "51058"
      ]
     },
     "execution_count": 58,
     "metadata": {},
     "output_type": "execute_result"
    }
   ],
   "source": [
    "df_iv['issue'].sum()"
   ]
  },
  {
   "cell_type": "code",
   "execution_count": 59,
   "id": "a3af44fa",
   "metadata": {},
   "outputs": [],
   "source": [
    "df_niv = df_niv.rename(columns={'issue':'count'})\n",
    "df_iv = df_iv.rename(columns={'issue':'count'})"
   ]
  },
  {
   "cell_type": "markdown",
   "id": "eb533a71",
   "metadata": {},
   "source": [
    "# Appending to existing data"
   ]
  },
  {
   "cell_type": "code",
   "execution_count": 60,
   "id": "92935a18",
   "metadata": {},
   "outputs": [],
   "source": [
    "niv_alltime=s3.get_object(Bucket = aws_credential['bucket'], \n",
    "              Key = 'visa_output/niv_alltime.csv')['Body'].read()\n",
    "df_niv_alltime = pd.read_csv(io.BytesIO(niv_alltime),low_memory=True)"
   ]
  },
  {
   "cell_type": "code",
   "execution_count": 61,
   "id": "edb2aeef",
   "metadata": {},
   "outputs": [],
   "source": [
    "iv_alltime=s3.get_object(Bucket = aws_credential['bucket'], \n",
    "              Key = 'visa_output/iv_alltime.csv')['Body'].read()\n",
    "df_iv_alltime = pd.read_csv(io.BytesIO(iv_alltime),low_memory=True)"
   ]
  },
  {
   "cell_type": "code",
   "execution_count": 62,
   "id": "e237fd3d",
   "metadata": {},
   "outputs": [
    {
     "data": {
      "text/plain": [
       "(317965, 4)"
      ]
     },
     "execution_count": 62,
     "metadata": {},
     "output_type": "execute_result"
    }
   ],
   "source": [
    "df_niv_alltime.shape"
   ]
  },
  {
   "cell_type": "code",
   "execution_count": 63,
   "id": "dead0086",
   "metadata": {},
   "outputs": [
    {
     "data": {
      "text/plain": [
       "(170558, 4)"
      ]
     },
     "execution_count": 63,
     "metadata": {},
     "output_type": "execute_result"
    }
   ],
   "source": [
    "df_iv_alltime.shape"
   ]
  },
  {
   "cell_type": "code",
   "execution_count": 64,
   "id": "edefcf68",
   "metadata": {},
   "outputs": [],
   "source": [
    "df_niv_alltime_new=pd.concat([df_niv_alltime, df_niv]).reset_index(drop=True).drop_duplicates()"
   ]
  },
  {
   "cell_type": "code",
   "execution_count": 65,
   "id": "9b7289ff",
   "metadata": {},
   "outputs": [],
   "source": [
    "df_iv_alltime_new=pd.concat([df_iv_alltime, df_iv]).reset_index(drop=True).drop_duplicates()"
   ]
  },
  {
   "cell_type": "markdown",
   "id": "9efab8df",
   "metadata": {},
   "source": [
    "# Removing special characters"
   ]
  },
  {
   "cell_type": "code",
   "execution_count": 66,
   "id": "ee653f01",
   "metadata": {},
   "outputs": [
    {
     "name": "stdout",
     "output_type": "stream",
     "text": [
      "Total unique country/nationality labels before cleaning:  270\n"
     ]
    }
   ],
   "source": [
    "country_list=list(set(list(df_iv_alltime_new['nationality'].unique()) + \n",
    "                      list(df_niv_alltime_new['nationality'].unique()\n",
    "                          )\n",
    "                     )\n",
    "                 )\n",
    "print(\"Total unique country/nationality labels before cleaning: \",len(country_list))"
   ]
  },
  {
   "cell_type": "code",
   "execution_count": 67,
   "id": "62ebb1e3",
   "metadata": {},
   "outputs": [
    {
     "name": "stdout",
     "output_type": "stream",
     "text": [
      "' COTE D'IVOIRE\n",
      "- HONG KONG-BNO\n",
      ", CONGO, DEMOCRATIC REPUBLIC OF THE\n",
      ". MACAU S. A. R.\n",
      "* ESWATINI*\n",
      "& GREAT BRITAIN & NORTHERN IRELAND\n",
      "( NORTHERN IRELAND (DV ONLY)\n",
      ") NORTHERN IRELAND (DV ONLY)\n",
      "– CHINA – MAINLAND BORN\n"
     ]
    }
   ],
   "source": [
    "special_chars = []\n",
    "# instead of iterrows, can also work on a list of unique nationalities\n",
    "for country in country_list:\n",
    "    for char in country:\n",
    "        if not (char.isalpha() or char == ' '):\n",
    "            if char not in special_chars:\n",
    "                special_chars.append(char)\n",
    "                print(char, country)"
   ]
  },
  {
   "cell_type": "code",
   "execution_count": 68,
   "id": "7779daf4",
   "metadata": {},
   "outputs": [
    {
     "data": {
      "text/plain": [
       "['-', '.', '*', '&', '(', ')', '–']"
      ]
     },
     "execution_count": 68,
     "metadata": {},
     "output_type": "execute_result"
    }
   ],
   "source": [
    "special_chars.remove(',') # potential legit\n",
    "special_chars.remove(\"'\") # potential legit\n",
    "special_chars"
   ]
  },
  {
   "cell_type": "code",
   "execution_count": 69,
   "id": "0727a982",
   "metadata": {},
   "outputs": [
    {
     "name": "stdout",
     "output_type": "stream",
     "text": [
      "\n",
      "old:  HONG KONG-BNO \n",
      "new:  HONG KONG BNO\n",
      "\n",
      "old:  CHINA - TAIWAN BORN \n",
      "new:  CHINA TAIWAN\n",
      "\n",
      "old:  MACAU S. A. R. \n",
      "new:  MACAU S A R\n",
      "\n",
      "old:  ESWATINI* \n",
      "new:  ESWATINI\n",
      "\n",
      "old:  GUINEA-BISSAU \n",
      "new:  GUINEA BISSAU\n",
      "\n",
      "old:  CHINA-TAIWAN \n",
      "new:  CHINA TAIWAN\n",
      "\n",
      "old:  *NON-NATIONALITY BASED ISSUANCES \n",
      "new:  NON NATIONALITY BASED ISSUANCES\n",
      "\n",
      "old:  ST. VINCENT AND THE GRENADINES \n",
      "new:  ST VINCENT AND THE GRENADINES\n",
      "\n",
      "old:  GREAT BRITAIN & NORTHERN IRELAND \n",
      "new:  GREAT BRITAIN NORTHERN IRELAND\n",
      "\n",
      "old:  CHINA-MAINLAND BORN \n",
      "new:  CHINA MAINLAND\n",
      "\n",
      "old:  NORTHERN IRELAND (DV ONLY) \n",
      "new:  NORTHERN IRELAND DV ONLY\n",
      "\n",
      "old:  HONG KONG S.A.R \n",
      "new:  HONG KONG S A R\n",
      "\n",
      "old:  ST. PIERRE AND MIQUELON \n",
      "new:  ST PIERRE AND MIQUELON\n",
      "\n",
      "old:  ST. HELENA \n",
      "new:  ST HELENA\n",
      "\n",
      "old:  CHINA-TAIWAN BORN \n",
      "new:  CHINA TAIWAN\n",
      "\n",
      "old:  COCOS (KEELING) ISLANDS \n",
      "new:  COCOS KEELING ISLANDS\n",
      "\n",
      "old:  NON-NATIONALITY BASED ISSUANCES \n",
      "new:  NON NATIONALITY BASED ISSUANCES\n",
      "\n",
      "old:  HONG KONG S.A.R. \n",
      "new:  HONG KONG S A R\n",
      "\n",
      "old:  BURKINA-FASO \n",
      "new:  BURKINA FASO\n",
      "\n",
      "old:  BOSNIA-HERZEGOVINA \n",
      "new:  BOSNIA HERZEGOVINA\n",
      "\n",
      "old:  CHINA - MAINLAND BORN \n",
      "new:  CHINA MAINLAND\n",
      "\n",
      "old:  HONG KONG S. A. R. \n",
      "new:  HONG KONG S A R\n",
      "\n",
      "old:  CHINA - MAINLAND \n",
      "new:  CHINA MAINLAND\n",
      "\n",
      "old:  MACAU S.A.R. \n",
      "new:  MACAU S A R\n",
      "\n",
      "old:  ST. KITTS AND NEVIS \n",
      "new:  ST KITTS AND NEVIS\n",
      "\n",
      "old:  CHINA – MAINLAND BORN \n",
      "new:  CHINA MAINLAND\n",
      "\n",
      "old:  NON-NATIONLITY BASED ISSUANCES \n",
      "new:  NON NATIONLITY BASED ISSUANCES\n",
      "\n",
      "old:  CHINA-MAINLAND \n",
      "new:  CHINA MAINLAND\n",
      "\n",
      "old:  TIMOR-LESTE \n",
      "new:  TIMOR LESTE\n",
      "\n",
      "old:  BRITISH NATIONAL OVERSEAS (HONG KONG) PASSPORT \n",
      "new:  BRITISH NATIONAL OVERSEAS HONG KONG PASSPORT\n"
     ]
    }
   ],
   "source": [
    "old_country_label = []\n",
    "new_country_label = []\n",
    "for country in country_list:\n",
    "    # the following covers the case when one string contains multiple special characters: e.g., '(' and ')'\n",
    "    if any(char in country for char in special_chars):\n",
    "        # if it's a letter or a space, join as usual, then replace special character with a space\n",
    "        new_country = ''.join([char if (char.isalpha() or char == ' ') \n",
    "                               else char.replace(char,' ') \n",
    "                               for char in country]) # replace special character with space\n",
    "        new_country = ' '.join(new_country.split()).replace('BORN','').strip() # split() to remove excessive space\n",
    "        old_country_label.append(country)\n",
    "        new_country_label.append(new_country)\n",
    "        print(\"\\nold: \",country,'\\nnew: ', new_country)"
   ]
  },
  {
   "cell_type": "code",
   "execution_count": 70,
   "id": "65231b61",
   "metadata": {},
   "outputs": [],
   "source": [
    "no_sp_char_label=dict(zip(old_country_label,new_country_label))"
   ]
  },
  {
   "cell_type": "code",
   "execution_count": 71,
   "id": "d6ba074c",
   "metadata": {},
   "outputs": [],
   "source": [
    "# map new country labels to a new column nationality2, then replace it with original nationality\n",
    "df_niv_alltime_new['nationality2'] = df_niv_alltime_new['nationality'].map(\n",
    "    no_sp_char_label).fillna(\n",
    "    df_niv_alltime_new['nationality'])\n",
    "df_iv_alltime_new['nationality2'] = df_iv_alltime_new['nationality'].map(\n",
    "    no_sp_char_label).fillna(\n",
    "    df_iv_alltime_new['nationality'])\n",
    "df_niv_alltime_new = df_niv_alltime_new.drop(\n",
    "    columns=['nationality']).rename(\n",
    "    columns={'nationality2':'nationality'})\n",
    "df_iv_alltime_new = df_iv_alltime_new.drop(\n",
    "    columns=['nationality']).rename(\n",
    "    columns={'nationality2':'nationality'})"
   ]
  },
  {
   "cell_type": "code",
   "execution_count": 72,
   "id": "c381d855",
   "metadata": {},
   "outputs": [
    {
     "name": "stdout",
     "output_type": "stream",
     "text": [
      "Total unique country/nationality labels after cleaning:  258\n",
      "After removing special characters, 12 labels were reduced.\n"
     ]
    }
   ],
   "source": [
    "country_list_new=list(set(list(df_iv_alltime_new['nationality'].unique()) + \n",
    "                      list(df_niv_alltime_new['nationality'].unique()\n",
    "                          )\n",
    "                     )\n",
    "                 )\n",
    "print(\"Total unique country/nationality labels after cleaning: \",len(country_list_new))\n",
    "print(f'After removing special characters, {len(country_list) - len(country_list_new)} labels were reduced.')"
   ]
  },
  {
   "cell_type": "markdown",
   "id": "f3bb3feb",
   "metadata": {},
   "source": [
    "# Output"
   ]
  },
  {
   "cell_type": "markdown",
   "id": "5a3caad2",
   "metadata": {},
   "source": [
    "## Local"
   ]
  },
  {
   "cell_type": "code",
   "execution_count": 73,
   "id": "e0f763ab",
   "metadata": {},
   "outputs": [],
   "source": [
    "with open('country_list.txt','w') as file:\n",
    "    file.write('\\n'.join(country_list_new))"
   ]
  },
  {
   "cell_type": "code",
   "execution_count": 74,
   "id": "b881403d",
   "metadata": {},
   "outputs": [],
   "source": [
    "new_col_order = ['nationality','visa', 'count', 'time']\n",
    "df_niv_alltime_new = df_niv_alltime_new[new_col_order]\n",
    "df_iv_alltime_new = df_iv_alltime_new[new_col_order]"
   ]
  },
  {
   "cell_type": "code",
   "execution_count": 75,
   "id": "90c10dfe",
   "metadata": {},
   "outputs": [],
   "source": [
    "time_niv=list(df_niv_alltime_new['time'].unique())\n",
    "time_iv=list(df_iv_alltime_new['time'].unique())"
   ]
  },
  {
   "cell_type": "code",
   "execution_count": 76,
   "id": "9712cab6",
   "metadata": {},
   "outputs": [],
   "source": [
    "# output a list of time stamps\n",
    "with open('time_niv.txt', 'w') as file:\n",
    "    file.write('\\n'.join(time_niv))\n",
    "with open('time_iv.txt', 'w') as file:\n",
    "    file.write('\\n'.join(time_iv))"
   ]
  },
  {
   "cell_type": "markdown",
   "id": "826d6568",
   "metadata": {},
   "source": [
    "## S3"
   ]
  },
  {
   "cell_type": "code",
   "execution_count": 77,
   "id": "3ac4094f",
   "metadata": {},
   "outputs": [
    {
     "data": {
      "text/plain": [
       "['visa_output/country_list.txt',\n",
       " 'visa_output/time_iv.txt',\n",
       " 'visa_output/time_niv.txt']"
      ]
     },
     "execution_count": 77,
     "metadata": {},
     "output_type": "execute_result"
    }
   ],
   "source": [
    "# make list a string to upload\n",
    "s3.put_object(Body = \"\\n\".join([c for c in country_list_new]), \n",
    "              Bucket = aws_credential['bucket'], \n",
    "              Key = 'visa_output/country_list.txt')\n",
    "s3.put_object(Body = \"\\n\".join([t for t in time_niv]), \n",
    "              Bucket = aws_credential['bucket'], \n",
    "              Key = 'visa_output/time_niv.txt')\n",
    "s3.put_object(Body = \"\\n\".join([t for t in time_iv]), \n",
    "              Bucket = aws_credential['bucket'], \n",
    "              Key = 'visa_output/time_iv.txt')\n",
    "# list objects after upload\n",
    "output_folder_items=s3.list_objects(Bucket = aws_credential['bucket'], Prefix = 'visa_output')['Contents']\n",
    "item_names=[d['Key'] for d in output_folder_items]\n",
    "[item for item in item_names if item.endswith('.txt')]"
   ]
  },
  {
   "cell_type": "code",
   "execution_count": 78,
   "id": "fffec44c",
   "metadata": {},
   "outputs": [
    {
     "data": {
      "text/plain": [
       "['visa_output/df_iv.csv',\n",
       " 'visa_output/df_niv.csv',\n",
       " 'visa_output/iv_alltime.csv',\n",
       " 'visa_output/niv_alltime.csv']"
      ]
     },
     "execution_count": 78,
     "metadata": {},
     "output_type": "execute_result"
    }
   ],
   "source": [
    "# upload pandas dataframe to s3\n",
    "csv_buffer = io.StringIO()\n",
    "df_niv_alltime_new.to_csv(csv_buffer, index=False)\n",
    "s3.put_object(Body = csv_buffer.getvalue(), \n",
    "              Bucket = aws_credential['bucket'], \n",
    "              Key = 'visa_output/df_niv.csv')\n",
    "# create a new csv buffer object to upload a different data frame\n",
    "csv_buffer = io.StringIO()\n",
    "df_iv_alltime_new.to_csv(csv_buffer, index=False)\n",
    "s3.put_object(Body = csv_buffer.getvalue(), \n",
    "              Bucket = aws_credential['bucket'], \n",
    "              Key = 'visa_output/df_iv.csv')\n",
    "# list objects after upload\n",
    "output_folder_items=s3.list_objects(Bucket = aws_credential['bucket'], Prefix = 'visa_output')['Contents']\n",
    "item_names=[d['Key'] for d in output_folder_items]\n",
    "[item for item in item_names if item.endswith('.csv')]"
   ]
  }
 ],
 "metadata": {
  "hide_input": false,
  "kernelspec": {
   "display_name": "py-3-12-3-preview",
   "language": "python",
   "name": "python-312-preview"
  },
  "language_info": {
   "codemirror_mode": {
    "name": "ipython",
    "version": 3
   },
   "file_extension": ".py",
   "mimetype": "text/x-python",
   "name": "python",
   "nbconvert_exporter": "python",
   "pygments_lexer": "ipython3",
   "version": "3.12.3"
  },
  "toc": {
   "base_numbering": 1,
   "nav_menu": {},
   "number_sections": true,
   "sideBar": true,
   "skip_h1_title": false,
   "title_cell": "Table of Contents",
   "title_sidebar": "Contents",
   "toc_cell": true,
   "toc_position": {
    "height": "calc(100% - 180px)",
    "left": "10px",
    "top": "150px",
    "width": "284px"
   },
   "toc_section_display": true,
   "toc_window_display": true
  },
  "varInspector": {
   "cols": {
    "lenName": 16,
    "lenType": 16,
    "lenVar": 40
   },
   "kernels_config": {
    "python": {
     "delete_cmd_postfix": "",
     "delete_cmd_prefix": "del ",
     "library": "var_list.py",
     "varRefreshCmd": "print(var_dic_list())"
    },
    "r": {
     "delete_cmd_postfix": ") ",
     "delete_cmd_prefix": "rm(",
     "library": "var_list.r",
     "varRefreshCmd": "cat(var_dic_list()) "
    }
   },
   "types_to_exclude": [
    "module",
    "function",
    "builtin_function_or_method",
    "instance",
    "_Feature"
   ],
   "window_display": false
  }
 },
 "nbformat": 4,
 "nbformat_minor": 5
}
