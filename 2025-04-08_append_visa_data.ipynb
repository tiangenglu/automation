{
 "cells": [
  {
   "cell_type": "code",
   "execution_count": 52,
   "id": "f3ce4997",
   "metadata": {},
   "outputs": [],
   "source": [
    "import os\n",
    "import pandas as pd\n",
    "import boto3\n",
    "import json\n",
    "import io"
   ]
  },
  {
   "cell_type": "code",
   "execution_count": 2,
   "id": "0f28aecb",
   "metadata": {},
   "outputs": [
    {
     "name": "stdout",
     "output_type": "stream",
     "text": [
      "CPU times: user 183 ms, sys: 32.3 ms, total: 215 ms\n",
      "Wall time: 242 ms\n"
     ]
    }
   ],
   "source": [
    "%%time\n",
    "old_data = pd.read_csv(\"visa_alltime.csv\")"
   ]
  },
  {
   "cell_type": "code",
   "execution_count": 3,
   "id": "60f0e7d3",
   "metadata": {},
   "outputs": [
    {
     "name": "stdout",
     "output_type": "stream",
     "text": [
      "<class 'pandas.core.frame.DataFrame'>\n",
      "RangeIndex: 488523 entries, 0 to 488522\n",
      "Data columns (total 5 columns):\n",
      " #   Column       Non-Null Count   Dtype \n",
      "---  ------       --------------   ----- \n",
      " 0   nationality  488523 non-null  object\n",
      " 1   visa         488523 non-null  object\n",
      " 2   count        488523 non-null  int64 \n",
      " 3   time         488523 non-null  object\n",
      " 4   type         488523 non-null  object\n",
      "dtypes: int64(1), object(4)\n",
      "memory usage: 18.6+ MB\n"
     ]
    }
   ],
   "source": [
    "old_data.info()"
   ]
  },
  {
   "cell_type": "code",
   "execution_count": 4,
   "id": "5e0831c2",
   "metadata": {},
   "outputs": [],
   "source": [
    "niv_catalog = pd.read_csv('niv_catalog.csv')\n",
    "iv_catalog = pd.read_csv('iv_catalog.csv')"
   ]
  },
  {
   "cell_type": "code",
   "execution_count": 8,
   "id": "76de53d3",
   "metadata": {},
   "outputs": [],
   "source": [
    "with open(\"aws_credential.txt\", 'r') as file:\n",
    "    aws_credential=json.load(file)\n",
    "s3=boto3.Session(\n",
    "    profile_name = None, \n",
    "    region_name = 'us-east-2').client(\n",
    "    's3',\n",
    "    aws_access_key_id=aws_credential['access_key'],\n",
    "    aws_secret_access_key=aws_credential['secret_key'])"
   ]
  },
  {
   "cell_type": "code",
   "execution_count": 17,
   "id": "a3ef565a",
   "metadata": {},
   "outputs": [],
   "source": [
    "bucket_niv_content=s3.list_objects(Bucket = aws_credential['bucket'], Prefix ='messy_data/visa_scraped/niv/')['Contents']\n",
    "bucket_iv_content=s3.list_objects(Bucket = aws_credential['bucket'], Prefix ='messy_data/visa_scraped/iv/')['Contents']"
   ]
  },
  {
   "cell_type": "code",
   "execution_count": 22,
   "id": "d34ade24",
   "metadata": {},
   "outputs": [],
   "source": [
    "bucket_niv_items=[d['Key'].split('/')[-1] for d in bucket_niv_content]\n",
    "bucket_iv_items=[d['Key'].split('/')[-1] for d in bucket_iv_content] "
   ]
  },
  {
   "cell_type": "code",
   "execution_count": 37,
   "id": "bf5cef86",
   "metadata": {},
   "outputs": [],
   "source": [
    "bucket_iv_date=[f.split('.')[0].split('_')[-1] for f in bucket_iv_items]\n",
    "bucket_niv_date=[f.split('.')[0].split('_')[-1] for f in bucket_niv_items]"
   ]
  },
  {
   "cell_type": "code",
   "execution_count": 33,
   "id": "de510ee5",
   "metadata": {},
   "outputs": [
    {
     "name": "stdout",
     "output_type": "stream",
     "text": [
      "Need to append 1 month(s) to existing data.\n"
     ]
    }
   ],
   "source": [
    "len_diff=len(bucket_iv_items) - len(old_data.time.unique())\n",
    "if len_diff > 0:\n",
    "    print(f'Need to append {len_diff} month(s) to existing data.')\n",
    "else: print(\"No actions required, compiled visa data is up to date.\")"
   ]
  },
  {
   "cell_type": "code",
   "execution_count": 32,
   "id": "5dc1b88b",
   "metadata": {},
   "outputs": [
    {
     "data": {
      "text/plain": [
       "'2025-01-31'"
      ]
     },
     "execution_count": 32,
     "metadata": {},
     "output_type": "execute_result"
    }
   ],
   "source": [
    "old_data.time.max()"
   ]
  },
  {
   "cell_type": "code",
   "execution_count": 38,
   "id": "f4d635dc",
   "metadata": {},
   "outputs": [
    {
     "data": {
      "text/plain": [
       "'2025-02-28'"
      ]
     },
     "execution_count": 38,
     "metadata": {},
     "output_type": "execute_result"
    }
   ],
   "source": [
    "max(bucket_niv_date)"
   ]
  },
  {
   "cell_type": "code",
   "execution_count": 41,
   "id": "563c2b7d",
   "metadata": {},
   "outputs": [
    {
     "data": {
      "text/plain": [
       "True"
      ]
     },
     "execution_count": 41,
     "metadata": {},
     "output_type": "execute_result"
    }
   ],
   "source": [
    "# last item minus the difference in length\n",
    "bucket_niv_date[-len_diff-1] == old_data.time.max()"
   ]
  },
  {
   "cell_type": "code",
   "execution_count": 51,
   "id": "2a1801b0",
   "metadata": {},
   "outputs": [],
   "source": [
    "niv_df_raw = [None] * len_diff"
   ]
  },
  {
   "cell_type": "code",
   "execution_count": 80,
   "id": "c2f81b2d",
   "metadata": {},
   "outputs": [
    {
     "name": "stdout",
     "output_type": "stream",
     "text": [
      "0\n"
     ]
    }
   ],
   "source": [
    "for i in range(len_diff):\n",
    "    print(i)\n",
    "    file = s3.get_object(Bucket = aws_credential['bucket'],\n",
    "              Key = 'messy_data/visa_scraped/niv/'+bucket_niv_items[-i])['Body'].read()\n",
    "    #niv_df_raw[i] = pd.DataFrame(file.decode(\"utf-8\").split('\\n')) # this works\n",
    "    niv_df_raw[i] = pd.read_csv(io.BytesIO(file), delimiter = \"\\t\", header = None) # also works"
   ]
  },
  {
   "cell_type": "code",
   "execution_count": 60,
   "id": "4478c647",
   "metadata": {},
   "outputs": [],
   "source": [
    "test_object=s3.get_object(Bucket = aws_credential['bucket'], \n",
    "              Key = 'messy_data/visa_scraped/niv/' + bucket_niv_items[-len_diff])['Body'].read()"
   ]
  },
  {
   "cell_type": "code",
   "execution_count": 61,
   "id": "ac3ebe64",
   "metadata": {},
   "outputs": [
    {
     "data": {
      "text/plain": [
       "bytes"
      ]
     },
     "execution_count": 61,
     "metadata": {},
     "output_type": "execute_result"
    }
   ],
   "source": [
    "type(test_object)"
   ]
  },
  {
   "cell_type": "code",
   "execution_count": 81,
   "id": "e47af0da",
   "metadata": {},
   "outputs": [
    {
     "data": {
      "text/plain": [
       "['Nationality Visa Class Issuances',\n",
       " 'Afghanistan A2 1',\n",
       " 'Afghanistan B1/B2 127',\n",
       " 'Afghanistan F1 18',\n",
       " 'Afghanistan F2 1']"
      ]
     },
     "execution_count": 81,
     "metadata": {},
     "output_type": "execute_result"
    }
   ],
   "source": [
    "test_object.decode(\"utf-8\").split('\\n')[:5]"
   ]
  },
  {
   "cell_type": "code",
   "execution_count": 82,
   "id": "c1012406",
   "metadata": {},
   "outputs": [
    {
     "data": {
      "text/html": [
       "<div>\n",
       "<style scoped>\n",
       "    .dataframe tbody tr th:only-of-type {\n",
       "        vertical-align: middle;\n",
       "    }\n",
       "\n",
       "    .dataframe tbody tr th {\n",
       "        vertical-align: top;\n",
       "    }\n",
       "\n",
       "    .dataframe thead th {\n",
       "        text-align: right;\n",
       "    }\n",
       "</style>\n",
       "<table border=\"1\" class=\"dataframe\">\n",
       "  <thead>\n",
       "    <tr style=\"text-align: right;\">\n",
       "      <th></th>\n",
       "      <th>0</th>\n",
       "    </tr>\n",
       "  </thead>\n",
       "  <tbody>\n",
       "    <tr>\n",
       "      <th>0</th>\n",
       "      <td>Nationality Visa Class Issuances</td>\n",
       "    </tr>\n",
       "    <tr>\n",
       "      <th>1</th>\n",
       "      <td>Afghanistan A2 1</td>\n",
       "    </tr>\n",
       "    <tr>\n",
       "      <th>2</th>\n",
       "      <td>Afghanistan B1/B2 127</td>\n",
       "    </tr>\n",
       "    <tr>\n",
       "      <th>3</th>\n",
       "      <td>Afghanistan F1 18</td>\n",
       "    </tr>\n",
       "    <tr>\n",
       "      <th>4</th>\n",
       "      <td>Afghanistan F2 1</td>\n",
       "    </tr>\n",
       "  </tbody>\n",
       "</table>\n",
       "</div>"
      ],
      "text/plain": [
       "                                  0\n",
       "0  Nationality Visa Class Issuances\n",
       "1                  Afghanistan A2 1\n",
       "2             Afghanistan B1/B2 127\n",
       "3                 Afghanistan F1 18\n",
       "4                  Afghanistan F2 1"
      ]
     },
     "execution_count": 82,
     "metadata": {},
     "output_type": "execute_result"
    }
   ],
   "source": [
    "pd.DataFrame(test_object.decode(\"utf-8\").split('\\n')).iloc[:5]"
   ]
  },
  {
   "cell_type": "code",
   "execution_count": 83,
   "id": "134b52a7",
   "metadata": {},
   "outputs": [
    {
     "data": {
      "text/html": [
       "<div>\n",
       "<style scoped>\n",
       "    .dataframe tbody tr th:only-of-type {\n",
       "        vertical-align: middle;\n",
       "    }\n",
       "\n",
       "    .dataframe tbody tr th {\n",
       "        vertical-align: top;\n",
       "    }\n",
       "\n",
       "    .dataframe thead th {\n",
       "        text-align: right;\n",
       "    }\n",
       "</style>\n",
       "<table border=\"1\" class=\"dataframe\">\n",
       "  <thead>\n",
       "    <tr style=\"text-align: right;\">\n",
       "      <th></th>\n",
       "      <th>0</th>\n",
       "    </tr>\n",
       "  </thead>\n",
       "  <tbody>\n",
       "    <tr>\n",
       "      <th>0</th>\n",
       "      <td>Nationality Visa Class Issuances</td>\n",
       "    </tr>\n",
       "    <tr>\n",
       "      <th>1</th>\n",
       "      <td>Afghanistan A2 1</td>\n",
       "    </tr>\n",
       "    <tr>\n",
       "      <th>2</th>\n",
       "      <td>Afghanistan B1/B2 127</td>\n",
       "    </tr>\n",
       "    <tr>\n",
       "      <th>3</th>\n",
       "      <td>Afghanistan F1 18</td>\n",
       "    </tr>\n",
       "    <tr>\n",
       "      <th>4</th>\n",
       "      <td>Afghanistan F2 1</td>\n",
       "    </tr>\n",
       "  </tbody>\n",
       "</table>\n",
       "</div>"
      ],
      "text/plain": [
       "                                  0\n",
       "0  Nationality Visa Class Issuances\n",
       "1                  Afghanistan A2 1\n",
       "2             Afghanistan B1/B2 127\n",
       "3                 Afghanistan F1 18\n",
       "4                  Afghanistan F2 1"
      ]
     },
     "execution_count": 83,
     "metadata": {},
     "output_type": "execute_result"
    }
   ],
   "source": [
    "pd.read_csv(io.BytesIO(test_object), delimiter = \"\\t\", header = None).iloc[:5]"
   ]
  }
 ],
 "metadata": {
  "hide_input": false,
  "kernelspec": {
   "display_name": "py-3-12-3-preview",
   "language": "python",
   "name": "python-312-preview"
  },
  "language_info": {
   "codemirror_mode": {
    "name": "ipython",
    "version": 3
   },
   "file_extension": ".py",
   "mimetype": "text/x-python",
   "name": "python",
   "nbconvert_exporter": "python",
   "pygments_lexer": "ipython3",
   "version": "3.12.3"
  },
  "toc": {
   "base_numbering": 1,
   "nav_menu": {},
   "number_sections": true,
   "sideBar": true,
   "skip_h1_title": false,
   "title_cell": "Table of Contents",
   "title_sidebar": "Contents",
   "toc_cell": false,
   "toc_position": {},
   "toc_section_display": true,
   "toc_window_display": false
  },
  "varInspector": {
   "cols": {
    "lenName": 16,
    "lenType": 16,
    "lenVar": 40
   },
   "kernels_config": {
    "python": {
     "delete_cmd_postfix": "",
     "delete_cmd_prefix": "del ",
     "library": "var_list.py",
     "varRefreshCmd": "print(var_dic_list())"
    },
    "r": {
     "delete_cmd_postfix": ") ",
     "delete_cmd_prefix": "rm(",
     "library": "var_list.r",
     "varRefreshCmd": "cat(var_dic_list()) "
    }
   },
   "types_to_exclude": [
    "module",
    "function",
    "builtin_function_or_method",
    "instance",
    "_Feature"
   ],
   "window_display": false
  }
 },
 "nbformat": 4,
 "nbformat_minor": 5
}
