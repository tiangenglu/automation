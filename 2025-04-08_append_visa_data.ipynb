{
 "cells": [
  {
   "cell_type": "markdown",
   "id": "a4280167",
   "metadata": {},
   "source": [
    "# Objectives\n",
    "\n",
    "- Built upon previous work [2023-06-30_cleaning_df_bothdata.py](https://github.com/tiangenglu/WebScrape/blob/main/06302023_cleaning_df_bothdata.py)\n",
    "- Detect new raw data and ONLY process the newly scraped data\n",
    "- After cleaning, append to the existing all-time visa data"
   ]
  },
  {
   "cell_type": "code",
   "execution_count": 1,
   "id": "a22c7fcd",
   "metadata": {},
   "outputs": [],
   "source": [
    "import os\n",
    "import pandas as pd\n",
    "import boto3\n",
    "import json\n",
    "import io\n",
    "import sys"
   ]
  },
  {
   "cell_type": "code",
   "execution_count": 2,
   "id": "170ee15c",
   "metadata": {},
   "outputs": [
    {
     "name": "stdout",
     "output_type": "stream",
     "text": [
      "CPU times: user 184 ms, sys: 22.5 ms, total: 207 ms\n",
      "Wall time: 207 ms\n"
     ]
    }
   ],
   "source": [
    "%%time\n",
    "old_data = pd.read_csv(\"visa_alltime.csv\")"
   ]
  },
  {
   "cell_type": "code",
   "execution_count": 3,
   "id": "c52626e1",
   "metadata": {},
   "outputs": [
    {
     "name": "stdout",
     "output_type": "stream",
     "text": [
      "<class 'pandas.core.frame.DataFrame'>\n",
      "RangeIndex: 488523 entries, 0 to 488522\n",
      "Data columns (total 5 columns):\n",
      " #   Column       Non-Null Count   Dtype \n",
      "---  ------       --------------   ----- \n",
      " 0   nationality  488523 non-null  object\n",
      " 1   visa         488523 non-null  object\n",
      " 2   count        488523 non-null  int64 \n",
      " 3   time         488523 non-null  object\n",
      " 4   type         488523 non-null  object\n",
      "dtypes: int64(1), object(4)\n",
      "memory usage: 18.6+ MB\n"
     ]
    }
   ],
   "source": [
    "old_data.info()"
   ]
  },
  {
   "cell_type": "code",
   "execution_count": 4,
   "id": "3a955e8e",
   "metadata": {},
   "outputs": [],
   "source": [
    "niv_catalog = pd.read_csv('niv_catalog.csv')\n",
    "iv_catalog = pd.read_csv('iv_catalog.csv')"
   ]
  },
  {
   "cell_type": "markdown",
   "id": "8b781567",
   "metadata": {},
   "source": [
    "# Accessing scraped raw data in AWS S3"
   ]
  },
  {
   "cell_type": "code",
   "execution_count": 5,
   "id": "5e394a88",
   "metadata": {},
   "outputs": [],
   "source": [
    "with open(\"aws_credential.txt\", 'r') as file:\n",
    "    aws_credential=json.load(file)\n",
    "s3=boto3.Session(\n",
    "    profile_name = None, \n",
    "    region_name = 'us-east-2').client(\n",
    "    's3',\n",
    "    aws_access_key_id=aws_credential['access_key'],\n",
    "    aws_secret_access_key=aws_credential['secret_key'])"
   ]
  },
  {
   "cell_type": "code",
   "execution_count": 6,
   "id": "f1ad0d62",
   "metadata": {},
   "outputs": [],
   "source": [
    "bucket_niv_content=s3.list_objects(Bucket = aws_credential['bucket'], Prefix ='messy_data/visa_scraped/niv/')['Contents']\n",
    "bucket_iv_content=s3.list_objects(Bucket = aws_credential['bucket'], Prefix ='messy_data/visa_scraped/iv/')['Contents']"
   ]
  },
  {
   "cell_type": "code",
   "execution_count": 7,
   "id": "dc8c9e20",
   "metadata": {},
   "outputs": [],
   "source": [
    "bucket_niv_items=[d['Key'].split('/')[-1] for d in bucket_niv_content]\n",
    "bucket_iv_items=[d['Key'].split('/')[-1] for d in bucket_iv_content] "
   ]
  },
  {
   "cell_type": "code",
   "execution_count": 8,
   "id": "d4b0f089",
   "metadata": {},
   "outputs": [],
   "source": [
    "bucket_iv_date=[f.split('.')[0].split('_')[-1] for f in bucket_iv_items]\n",
    "bucket_niv_date=[f.split('.')[0].split('_')[-1] for f in bucket_niv_items]"
   ]
  },
  {
   "cell_type": "markdown",
   "id": "07a6dab9",
   "metadata": {},
   "source": [
    "# How many months (raw data) need processing? "
   ]
  },
  {
   "cell_type": "code",
   "execution_count": 9,
   "id": "411edefa",
   "metadata": {},
   "outputs": [
    {
     "name": "stdout",
     "output_type": "stream",
     "text": [
      "Need to append 1 month(s) to existing data.\n"
     ]
    }
   ],
   "source": [
    "len_diff=len(bucket_iv_items) - len(old_data.time.unique())\n",
    "if len_diff > 0:\n",
    "    print(f'Need to append {len_diff} month(s) to existing data.')\n",
    "else: print(\"No actions required, compiled visa data is up to date.\")"
   ]
  },
  {
   "cell_type": "code",
   "execution_count": 10,
   "id": "f520baba",
   "metadata": {},
   "outputs": [
    {
     "data": {
      "text/plain": [
       "'2025-01-31'"
      ]
     },
     "execution_count": 10,
     "metadata": {},
     "output_type": "execute_result"
    }
   ],
   "source": [
    "old_data.time.max()"
   ]
  },
  {
   "cell_type": "code",
   "execution_count": 11,
   "id": "acc4d310",
   "metadata": {},
   "outputs": [
    {
     "data": {
      "text/plain": [
       "'2025-02-28'"
      ]
     },
     "execution_count": 11,
     "metadata": {},
     "output_type": "execute_result"
    }
   ],
   "source": [
    "max(bucket_niv_date)"
   ]
  },
  {
   "cell_type": "code",
   "execution_count": 12,
   "id": "77f96cb3",
   "metadata": {},
   "outputs": [
    {
     "data": {
      "text/plain": [
       "True"
      ]
     },
     "execution_count": 12,
     "metadata": {},
     "output_type": "execute_result"
    }
   ],
   "source": [
    "# last item minus the difference in length\n",
    "bucket_niv_date[-len_diff-1] == old_data.time.max()"
   ]
  },
  {
   "cell_type": "code",
   "execution_count": 13,
   "id": "a1d7ea15",
   "metadata": {},
   "outputs": [
    {
     "name": "stdout",
     "output_type": "stream",
     "text": [
      "Needs the following month(s): ['2025-02-28']\n"
     ]
    }
   ],
   "source": [
    "niv_date_to_add=bucket_niv_date[-len_diff:]\n",
    "print(f'Needs the following month(s): {niv_date_to_add}')"
   ]
  },
  {
   "cell_type": "code",
   "execution_count": 14,
   "id": "98efa3e3",
   "metadata": {},
   "outputs": [
    {
     "data": {
      "text/plain": [
       "['2025-01-31', '2025-02-28']"
      ]
     },
     "execution_count": 14,
     "metadata": {},
     "output_type": "execute_result"
    }
   ],
   "source": [
    "bucket_niv_date[-2:]"
   ]
  },
  {
   "cell_type": "markdown",
   "id": "561c1cba",
   "metadata": {},
   "source": [
    "# Read in raw data from S3"
   ]
  },
  {
   "cell_type": "code",
   "execution_count": 15,
   "id": "c72b494f",
   "metadata": {},
   "outputs": [],
   "source": [
    "niv_df_raw = [None] * len_diff"
   ]
  },
  {
   "cell_type": "code",
   "execution_count": 16,
   "id": "e0d91074",
   "metadata": {},
   "outputs": [
    {
     "data": {
      "text/plain": [
       "'niv_2025-02-28.txt'"
      ]
     },
     "execution_count": 16,
     "metadata": {},
     "output_type": "execute_result"
    }
   ],
   "source": [
    "bucket_niv_items[-(0+1)]"
   ]
  },
  {
   "cell_type": "code",
   "execution_count": 17,
   "id": "ad2618fe",
   "metadata": {},
   "outputs": [
    {
     "name": "stdout",
     "output_type": "stream",
     "text": [
      "0\n"
     ]
    }
   ],
   "source": [
    "for i in range(len_diff):\n",
    "    print(i)\n",
    "    file = s3.get_object(Bucket = aws_credential['bucket'],\n",
    "              # offset zero indexing: -(i+1), start from most recent (last in)\n",
    "              Key = 'messy_data/visa_scraped/niv/'+bucket_niv_items[-(i+1)])['Body'].read()\n",
    "    #niv_df_raw[i] = pd.DataFrame(file.decode(\"utf-8\").split('\\n')) # this works\n",
    "    niv_df_raw[i] = pd.read_csv(io.BytesIO(file), delimiter = \"\\t\", header = None) # also works"
   ]
  },
  {
   "cell_type": "code",
   "execution_count": 18,
   "id": "ceed7e53",
   "metadata": {},
   "outputs": [],
   "source": [
    "test_object=s3.get_object(Bucket = aws_credential['bucket'], \n",
    "              Key = 'messy_data/visa_scraped/niv/' + bucket_niv_items[-len_diff])['Body'].read()"
   ]
  },
  {
   "cell_type": "code",
   "execution_count": 19,
   "id": "b823febf",
   "metadata": {},
   "outputs": [
    {
     "data": {
      "text/plain": [
       "bytes"
      ]
     },
     "execution_count": 19,
     "metadata": {},
     "output_type": "execute_result"
    }
   ],
   "source": [
    "type(test_object)"
   ]
  },
  {
   "cell_type": "code",
   "execution_count": 20,
   "id": "64001a0c",
   "metadata": {},
   "outputs": [
    {
     "data": {
      "text/plain": [
       "['Nationality Visa Class Issuances',\n",
       " 'Afghanistan A2 1',\n",
       " 'Afghanistan B1/B2 127',\n",
       " 'Afghanistan F1 18',\n",
       " 'Afghanistan F2 1']"
      ]
     },
     "execution_count": 20,
     "metadata": {},
     "output_type": "execute_result"
    }
   ],
   "source": [
    "test_object.decode(\"utf-8\").split('\\n')[:5]"
   ]
  },
  {
   "cell_type": "code",
   "execution_count": 21,
   "id": "8df003be",
   "metadata": {},
   "outputs": [
    {
     "data": {
      "text/html": [
       "<div>\n",
       "<style scoped>\n",
       "    .dataframe tbody tr th:only-of-type {\n",
       "        vertical-align: middle;\n",
       "    }\n",
       "\n",
       "    .dataframe tbody tr th {\n",
       "        vertical-align: top;\n",
       "    }\n",
       "\n",
       "    .dataframe thead th {\n",
       "        text-align: right;\n",
       "    }\n",
       "</style>\n",
       "<table border=\"1\" class=\"dataframe\">\n",
       "  <thead>\n",
       "    <tr style=\"text-align: right;\">\n",
       "      <th></th>\n",
       "      <th>0</th>\n",
       "    </tr>\n",
       "  </thead>\n",
       "  <tbody>\n",
       "    <tr>\n",
       "      <th>0</th>\n",
       "      <td>Nationality Visa Class Issuances</td>\n",
       "    </tr>\n",
       "    <tr>\n",
       "      <th>1</th>\n",
       "      <td>Afghanistan A2 1</td>\n",
       "    </tr>\n",
       "    <tr>\n",
       "      <th>2</th>\n",
       "      <td>Afghanistan B1/B2 127</td>\n",
       "    </tr>\n",
       "    <tr>\n",
       "      <th>3</th>\n",
       "      <td>Afghanistan F1 18</td>\n",
       "    </tr>\n",
       "    <tr>\n",
       "      <th>4</th>\n",
       "      <td>Afghanistan F2 1</td>\n",
       "    </tr>\n",
       "  </tbody>\n",
       "</table>\n",
       "</div>"
      ],
      "text/plain": [
       "                                  0\n",
       "0  Nationality Visa Class Issuances\n",
       "1                  Afghanistan A2 1\n",
       "2             Afghanistan B1/B2 127\n",
       "3                 Afghanistan F1 18\n",
       "4                  Afghanistan F2 1"
      ]
     },
     "execution_count": 21,
     "metadata": {},
     "output_type": "execute_result"
    }
   ],
   "source": [
    "pd.DataFrame(test_object.decode(\"utf-8\").split('\\n')).iloc[:5]"
   ]
  },
  {
   "cell_type": "code",
   "execution_count": 22,
   "id": "2363dbd1",
   "metadata": {},
   "outputs": [
    {
     "data": {
      "text/html": [
       "<div>\n",
       "<style scoped>\n",
       "    .dataframe tbody tr th:only-of-type {\n",
       "        vertical-align: middle;\n",
       "    }\n",
       "\n",
       "    .dataframe tbody tr th {\n",
       "        vertical-align: top;\n",
       "    }\n",
       "\n",
       "    .dataframe thead th {\n",
       "        text-align: right;\n",
       "    }\n",
       "</style>\n",
       "<table border=\"1\" class=\"dataframe\">\n",
       "  <thead>\n",
       "    <tr style=\"text-align: right;\">\n",
       "      <th></th>\n",
       "      <th>0</th>\n",
       "    </tr>\n",
       "  </thead>\n",
       "  <tbody>\n",
       "    <tr>\n",
       "      <th>0</th>\n",
       "      <td>Nationality Visa Class Issuances</td>\n",
       "    </tr>\n",
       "    <tr>\n",
       "      <th>1</th>\n",
       "      <td>Afghanistan A2 1</td>\n",
       "    </tr>\n",
       "    <tr>\n",
       "      <th>2</th>\n",
       "      <td>Afghanistan B1/B2 127</td>\n",
       "    </tr>\n",
       "    <tr>\n",
       "      <th>3</th>\n",
       "      <td>Afghanistan F1 18</td>\n",
       "    </tr>\n",
       "    <tr>\n",
       "      <th>4</th>\n",
       "      <td>Afghanistan F2 1</td>\n",
       "    </tr>\n",
       "  </tbody>\n",
       "</table>\n",
       "</div>"
      ],
      "text/plain": [
       "                                  0\n",
       "0  Nationality Visa Class Issuances\n",
       "1                  Afghanistan A2 1\n",
       "2             Afghanistan B1/B2 127\n",
       "3                 Afghanistan F1 18\n",
       "4                  Afghanistan F2 1"
      ]
     },
     "execution_count": 22,
     "metadata": {},
     "output_type": "execute_result"
    }
   ],
   "source": [
    "pd.read_csv(io.BytesIO(test_object), delimiter = \"\\t\", header = None).iloc[:5]"
   ]
  },
  {
   "cell_type": "markdown",
   "id": "5f3f771c",
   "metadata": {},
   "source": [
    "# Cleaning"
   ]
  },
  {
   "cell_type": "markdown",
   "id": "5b63ab64",
   "metadata": {},
   "source": [
    "## A list of raw dataframes"
   ]
  },
  {
   "cell_type": "code",
   "execution_count": 23,
   "id": "13be0e87",
   "metadata": {},
   "outputs": [
    {
     "name": "stdout",
     "output_type": "stream",
     "text": [
      "[V    GRAND TOTAL 914,989\n",
      "Name: 3692, dtype: object]\n"
     ]
    }
   ],
   "source": [
    "grand_total = []\n",
    "for i in range(len(niv_df_raw)):\n",
    "    niv_df_raw[i].columns = ['V'] # more robust than .rename\n",
    "    # or use .apply(lambda x: x.strip()), but the following is simple\n",
    "    niv_df_raw[i]['V']=niv_df_raw[0]['V'].str.strip().str.upper()\n",
    "    # insert an iterrows() loop to get the index of the grand total row\n",
    "    for idx,row in niv_df_raw[0].iterrows():\n",
    "        if 'grand total'.upper() in row['V']:\n",
    "            grand_total.append(row)\n",
    "            idx_rm_below = idx\n",
    "    niv_df_raw[i]=niv_df_raw[i].iloc[:idx_rm_below]\n",
    "    # offset zero indexing: -(i+1), start from most recent\n",
    "    niv_df_raw[i]['time'] = niv_date_to_add[-(i+1)]\n",
    "print(grand_total)"
   ]
  },
  {
   "cell_type": "markdown",
   "id": "21d5f5b6",
   "metadata": {},
   "source": [
    "## Concatenated one long dataframe"
   ]
  },
  {
   "cell_type": "code",
   "execution_count": 24,
   "id": "1994ead3",
   "metadata": {},
   "outputs": [],
   "source": [
    "df_raw_niv=pd.concat([df for df in niv_df_raw])\n",
    "df_niv = df_raw_niv.copy(deep = True)"
   ]
  },
  {
   "cell_type": "markdown",
   "id": "0067e963",
   "metadata": {},
   "source": [
    "## Remove non-data rows"
   ]
  },
  {
   "cell_type": "code",
   "execution_count": 25,
   "id": "d1541072",
   "metadata": {},
   "outputs": [
    {
     "data": {
      "text/plain": [
       "'NONIMMIGRANT|NATIONALITY VISA|\\\\(FY|\\\\#SBU|PAGE|SENSITIVE'"
      ]
     },
     "execution_count": 25,
     "metadata": {},
     "output_type": "execute_result"
    }
   ],
   "source": [
    "niv_headers = ['NONIMMIGRANT','NATIONALITY VISA','\\\\(FY', '\\\\#SBU','PAGE','SENSITIVE']\n",
    "'|'.join([h for h in niv_headers])"
   ]
  },
  {
   "cell_type": "code",
   "execution_count": 26,
   "id": "1914ee6c",
   "metadata": {},
   "outputs": [],
   "source": [
    "# df_niv[df_niv['V'].str.len() <=1]\n",
    "df_niv_headers=df_niv[df_niv['V'].str.contains('|'.join(niv_headers))]"
   ]
  },
  {
   "cell_type": "code",
   "execution_count": 27,
   "id": "0dd5bb0e",
   "metadata": {},
   "outputs": [
    {
     "data": {
      "text/plain": [
       "Index([   0,   42,   43,   44,   45,   46,   89,   90,   91,  134,\n",
       "       ...\n",
       "       3556, 3599, 3600, 3601, 3644, 3645, 3646, 3689, 3690, 3691],\n",
       "      dtype='int64', length=249)"
      ]
     },
     "execution_count": 27,
     "metadata": {},
     "output_type": "execute_result"
    }
   ],
   "source": [
    "df_niv_headers.index"
   ]
  },
  {
   "cell_type": "code",
   "execution_count": 28,
   "id": "b9b27ac8",
   "metadata": {},
   "outputs": [],
   "source": [
    "# remove rows that were headers & footers, not final yet\n",
    "df_niv=df_niv.iloc[~df_niv.index.isin(df_niv_headers.index)]"
   ]
  },
  {
   "cell_type": "markdown",
   "id": "23cff598",
   "metadata": {},
   "source": [
    "## Split all-in-one column"
   ]
  },
  {
   "cell_type": "code",
   "execution_count": 29,
   "id": "827d8440",
   "metadata": {},
   "outputs": [
    {
     "data": {
      "text/html": [
       "<div>\n",
       "<style scoped>\n",
       "    .dataframe tbody tr th:only-of-type {\n",
       "        vertical-align: middle;\n",
       "    }\n",
       "\n",
       "    .dataframe tbody tr th {\n",
       "        vertical-align: top;\n",
       "    }\n",
       "\n",
       "    .dataframe thead th {\n",
       "        text-align: right;\n",
       "    }\n",
       "</style>\n",
       "<table border=\"1\" class=\"dataframe\">\n",
       "  <thead>\n",
       "    <tr style=\"text-align: right;\">\n",
       "      <th></th>\n",
       "      <th>V</th>\n",
       "      <th>time</th>\n",
       "    </tr>\n",
       "  </thead>\n",
       "  <tbody>\n",
       "    <tr>\n",
       "      <th>1</th>\n",
       "      <td>AFGHANISTAN A2 1</td>\n",
       "      <td>2025-02-28</td>\n",
       "    </tr>\n",
       "    <tr>\n",
       "      <th>2</th>\n",
       "      <td>AFGHANISTAN B1/B2 127</td>\n",
       "      <td>2025-02-28</td>\n",
       "    </tr>\n",
       "  </tbody>\n",
       "</table>\n",
       "</div>"
      ],
      "text/plain": [
       "                       V        time\n",
       "1       AFGHANISTAN A2 1  2025-02-28\n",
       "2  AFGHANISTAN B1/B2 127  2025-02-28"
      ]
     },
     "execution_count": 29,
     "metadata": {},
     "output_type": "execute_result"
    }
   ],
   "source": [
    "df_niv.head(2)"
   ]
  },
  {
   "cell_type": "code",
   "execution_count": 30,
   "id": "3a2ffa39",
   "metadata": {},
   "outputs": [],
   "source": [
    "# get rid of the warning messages\n",
    "pd.options.mode.copy_on_write = True\n",
    "df_niv['nationality']=[' '.join(row.split(' ')[:-2]).strip() for row in df_niv['V']]\n",
    "# visa class\n",
    "df_niv['visa']=[row.split(' ')[-2].strip() for row in df_niv['V']]\n",
    "# remove thousand separator , from numbers\n",
    "df_niv['issue']=[row.split(' ')[-1].replace(',','').strip() for row in df_niv['V']]"
   ]
  },
  {
   "cell_type": "code",
   "execution_count": 31,
   "id": "2a63d5d8",
   "metadata": {},
   "outputs": [
    {
     "data": {
      "text/html": [
       "<div>\n",
       "<style scoped>\n",
       "    .dataframe tbody tr th:only-of-type {\n",
       "        vertical-align: middle;\n",
       "    }\n",
       "\n",
       "    .dataframe tbody tr th {\n",
       "        vertical-align: top;\n",
       "    }\n",
       "\n",
       "    .dataframe thead th {\n",
       "        text-align: right;\n",
       "    }\n",
       "</style>\n",
       "<table border=\"1\" class=\"dataframe\">\n",
       "  <thead>\n",
       "    <tr style=\"text-align: right;\">\n",
       "      <th></th>\n",
       "      <th>V</th>\n",
       "      <th>time</th>\n",
       "      <th>nationality</th>\n",
       "      <th>visa</th>\n",
       "      <th>issue</th>\n",
       "    </tr>\n",
       "  </thead>\n",
       "  <tbody>\n",
       "    <tr>\n",
       "      <th>1</th>\n",
       "      <td>AFGHANISTAN A2 1</td>\n",
       "      <td>2025-02-28</td>\n",
       "      <td>AFGHANISTAN</td>\n",
       "      <td>A2</td>\n",
       "      <td>1</td>\n",
       "    </tr>\n",
       "    <tr>\n",
       "      <th>2</th>\n",
       "      <td>AFGHANISTAN B1/B2 127</td>\n",
       "      <td>2025-02-28</td>\n",
       "      <td>AFGHANISTAN</td>\n",
       "      <td>B1/B2</td>\n",
       "      <td>127</td>\n",
       "    </tr>\n",
       "  </tbody>\n",
       "</table>\n",
       "</div>"
      ],
      "text/plain": [
       "                       V        time  nationality   visa issue\n",
       "1       AFGHANISTAN A2 1  2025-02-28  AFGHANISTAN     A2     1\n",
       "2  AFGHANISTAN B1/B2 127  2025-02-28  AFGHANISTAN  B1/B2   127"
      ]
     },
     "execution_count": 31,
     "metadata": {},
     "output_type": "execute_result"
    }
   ],
   "source": [
    "df_niv.head(2)"
   ]
  },
  {
   "cell_type": "markdown",
   "id": "53445ebb",
   "metadata": {},
   "source": [
    "# Validation"
   ]
  },
  {
   "cell_type": "markdown",
   "id": "85fee94b",
   "metadata": {},
   "source": [
    "## Data type"
   ]
  },
  {
   "cell_type": "code",
   "execution_count": 32,
   "id": "d098f4bb",
   "metadata": {},
   "outputs": [
    {
     "data": {
      "text/plain": [
       "['a1', 'b ']"
      ]
     },
     "execution_count": 32,
     "metadata": {},
     "output_type": "execute_result"
    }
   ],
   "source": [
    "# test list comprehension with a short and simple list\n",
    "[s for s in ['34',23,'a1','20','b '] if not str(s).isdigit()]"
   ]
  },
  {
   "cell_type": "code",
   "execution_count": 33,
   "id": "d2d38179",
   "metadata": {},
   "outputs": [
    {
     "name": "stdout",
     "output_type": "stream",
     "text": [
      "No non-numeric values were detected in the visa issuance column. Good to proceed.\n"
     ]
    }
   ],
   "source": [
    "# Are there non-numeric values in the visa issuance count column?\n",
    "check_numeric=[s for s in df_niv['issue'] if not str(s).isdigit()]\n",
    "if len(check_numeric)>0:\n",
    "    print(\"At least one row has non-numeric values in the visa issuance column. Go back and check.\")\n",
    "    print(check_numeric)\n",
    "    sys.exit()\n",
    "else:\n",
    "    print(\"No non-numeric values were detected in the visa issuance column. Good to proceed.\")\n",
    "    df_niv['issue'] = df_niv['issue'].astype(int)"
   ]
  },
  {
   "cell_type": "markdown",
   "id": "11d2bb20",
   "metadata": {},
   "source": [
    "## Restoring rows when data got mixed with headers\n",
    "\n",
    "- This is the most challenging part of cleaning this dataset."
   ]
  },
  {
   "cell_type": "code",
   "execution_count": 34,
   "id": "c6b621e1",
   "metadata": {},
   "outputs": [
    {
     "name": "stdout",
     "output_type": "stream",
     "text": [
      "42 V       ALGERIA G2 11NONIMMIGRANT VISA ISSUANCES BY NA...\n",
      "time                                           2025-02-28\n",
      "Name: 42, dtype: object\n"
     ]
    }
   ],
   "source": [
    "restore_idx = []\n",
    "# here's how any() works\n",
    "for idx,row in df_niv_headers.iterrows():\n",
    "    if any(c in row['V'] for c in df_niv.nationality.unique()):\n",
    "        print(idx, row)\n",
    "        restore_idx.append(idx)"
   ]
  },
  {
   "cell_type": "code",
   "execution_count": 35,
   "id": "2ecdaf85",
   "metadata": {},
   "outputs": [],
   "source": [
    "df_restore=df_niv_headers.loc[restore_idx]"
   ]
  },
  {
   "cell_type": "code",
   "execution_count": 36,
   "id": "cf93f4cd",
   "metadata": {},
   "outputs": [
    {
     "data": {
      "text/html": [
       "<div>\n",
       "<style scoped>\n",
       "    .dataframe tbody tr th:only-of-type {\n",
       "        vertical-align: middle;\n",
       "    }\n",
       "\n",
       "    .dataframe tbody tr th {\n",
       "        vertical-align: top;\n",
       "    }\n",
       "\n",
       "    .dataframe thead th {\n",
       "        text-align: right;\n",
       "    }\n",
       "</style>\n",
       "<table border=\"1\" class=\"dataframe\">\n",
       "  <thead>\n",
       "    <tr style=\"text-align: right;\">\n",
       "      <th></th>\n",
       "      <th>V</th>\n",
       "      <th>time</th>\n",
       "    </tr>\n",
       "  </thead>\n",
       "  <tbody>\n",
       "    <tr>\n",
       "      <th>42</th>\n",
       "      <td>ALGERIA G2 11NONIMMIGRANT VISA ISSUANCES BY NA...</td>\n",
       "      <td>2025-02-28</td>\n",
       "    </tr>\n",
       "  </tbody>\n",
       "</table>\n",
       "</div>"
      ],
      "text/plain": [
       "                                                    V        time\n",
       "42  ALGERIA G2 11NONIMMIGRANT VISA ISSUANCES BY NA...  2025-02-28"
      ]
     },
     "execution_count": 36,
     "metadata": {},
     "output_type": "execute_result"
    }
   ],
   "source": [
    "df_restore"
   ]
  },
  {
   "cell_type": "code",
   "execution_count": 37,
   "id": "150ff794",
   "metadata": {},
   "outputs": [],
   "source": [
    "df_restore['nationality']=[' '.join(row.split('NONIMMIGRANT')[0].split(' ')[:-2]).strip() for row in df_restore['V']]\n",
    "df_restore['visa'] = [row.split('NONIMMIGRANT')[0].split(' ')[-2].strip() for row in df_restore['V']]\n",
    "df_restore['issue'] = [row.split('NONIMMIGRANT')[0].split(' ')[-1].strip().replace(',','') for row in df_restore['V']]\n",
    "df_restore['issue'] = df_restore['issue'].astype(int)"
   ]
  },
  {
   "cell_type": "code",
   "execution_count": 38,
   "id": "7b80d2ca",
   "metadata": {
    "scrolled": true
   },
   "outputs": [
    {
     "data": {
      "text/html": [
       "<div>\n",
       "<style scoped>\n",
       "    .dataframe tbody tr th:only-of-type {\n",
       "        vertical-align: middle;\n",
       "    }\n",
       "\n",
       "    .dataframe tbody tr th {\n",
       "        vertical-align: top;\n",
       "    }\n",
       "\n",
       "    .dataframe thead th {\n",
       "        text-align: right;\n",
       "    }\n",
       "</style>\n",
       "<table border=\"1\" class=\"dataframe\">\n",
       "  <thead>\n",
       "    <tr style=\"text-align: right;\">\n",
       "      <th></th>\n",
       "      <th>V</th>\n",
       "      <th>time</th>\n",
       "      <th>nationality</th>\n",
       "      <th>visa</th>\n",
       "      <th>issue</th>\n",
       "    </tr>\n",
       "  </thead>\n",
       "  <tbody>\n",
       "    <tr>\n",
       "      <th>42</th>\n",
       "      <td>ALGERIA G2 11NONIMMIGRANT VISA ISSUANCES BY NA...</td>\n",
       "      <td>2025-02-28</td>\n",
       "      <td>ALGERIA</td>\n",
       "      <td>G2</td>\n",
       "      <td>11</td>\n",
       "    </tr>\n",
       "  </tbody>\n",
       "</table>\n",
       "</div>"
      ],
      "text/plain": [
       "                                                    V        time nationality  \\\n",
       "42  ALGERIA G2 11NONIMMIGRANT VISA ISSUANCES BY NA...  2025-02-28     ALGERIA   \n",
       "\n",
       "   visa  issue  \n",
       "42   G2     11  "
      ]
     },
     "execution_count": 38,
     "metadata": {},
     "output_type": "execute_result"
    }
   ],
   "source": [
    "df_restore"
   ]
  },
  {
   "cell_type": "markdown",
   "id": "89d47d0c",
   "metadata": {},
   "source": [
    "## Concatenating"
   ]
  },
  {
   "cell_type": "code",
   "execution_count": 39,
   "id": "37cd354b",
   "metadata": {},
   "outputs": [],
   "source": [
    "col_order = ['nationality', 'visa', 'issue','time']"
   ]
  },
  {
   "cell_type": "code",
   "execution_count": 40,
   "id": "e2bc96a0",
   "metadata": {},
   "outputs": [],
   "source": [
    "df_niv=pd.concat([df_niv, df_restore]).sort_index().drop(columns = ['V'])[col_order].drop_duplicates()"
   ]
  },
  {
   "cell_type": "code",
   "execution_count": 41,
   "id": "98760228",
   "metadata": {},
   "outputs": [
    {
     "data": {
      "text/html": [
       "<div>\n",
       "<style scoped>\n",
       "    .dataframe tbody tr th:only-of-type {\n",
       "        vertical-align: middle;\n",
       "    }\n",
       "\n",
       "    .dataframe tbody tr th {\n",
       "        vertical-align: top;\n",
       "    }\n",
       "\n",
       "    .dataframe thead th {\n",
       "        text-align: right;\n",
       "    }\n",
       "</style>\n",
       "<table border=\"1\" class=\"dataframe\">\n",
       "  <thead>\n",
       "    <tr style=\"text-align: right;\">\n",
       "      <th></th>\n",
       "      <th>V</th>\n",
       "    </tr>\n",
       "  </thead>\n",
       "  <tbody>\n",
       "    <tr>\n",
       "      <th>3692</th>\n",
       "      <td>GRAND TOTAL 914,989</td>\n",
       "    </tr>\n",
       "  </tbody>\n",
       "</table>\n",
       "</div>"
      ],
      "text/plain": [
       "                        V\n",
       "3692  GRAND TOTAL 914,989"
      ]
     },
     "execution_count": 41,
     "metadata": {},
     "output_type": "execute_result"
    }
   ],
   "source": [
    "pd.DataFrame(grand_total)"
   ]
  },
  {
   "cell_type": "code",
   "execution_count": 42,
   "id": "9c0e69a6",
   "metadata": {},
   "outputs": [
    {
     "data": {
      "text/plain": [
       "914989"
      ]
     },
     "execution_count": 42,
     "metadata": {},
     "output_type": "execute_result"
    }
   ],
   "source": [
    "df_niv['issue'].sum()"
   ]
  }
 ],
 "metadata": {
  "hide_input": false,
  "kernelspec": {
   "display_name": "py-3-12-3-preview",
   "language": "python",
   "name": "python-312-preview"
  },
  "language_info": {
   "codemirror_mode": {
    "name": "ipython",
    "version": 3
   },
   "file_extension": ".py",
   "mimetype": "text/x-python",
   "name": "python",
   "nbconvert_exporter": "python",
   "pygments_lexer": "ipython3",
   "version": "3.12.3"
  },
  "toc": {
   "base_numbering": 1,
   "nav_menu": {},
   "number_sections": true,
   "sideBar": true,
   "skip_h1_title": false,
   "title_cell": "Table of Contents",
   "title_sidebar": "Contents",
   "toc_cell": true,
   "toc_position": {
    "height": "calc(100% - 180px)",
    "left": "10px",
    "top": "150px",
    "width": "205px"
   },
   "toc_section_display": true,
   "toc_window_display": true
  },
  "varInspector": {
   "cols": {
    "lenName": 16,
    "lenType": 16,
    "lenVar": 40
   },
   "kernels_config": {
    "python": {
     "delete_cmd_postfix": "",
     "delete_cmd_prefix": "del ",
     "library": "var_list.py",
     "varRefreshCmd": "print(var_dic_list())"
    },
    "r": {
     "delete_cmd_postfix": ") ",
     "delete_cmd_prefix": "rm(",
     "library": "var_list.r",
     "varRefreshCmd": "cat(var_dic_list()) "
    }
   },
   "types_to_exclude": [
    "module",
    "function",
    "builtin_function_or_method",
    "instance",
    "_Feature"
   ],
   "window_display": false
  }
 },
 "nbformat": 4,
 "nbformat_minor": 5
}
