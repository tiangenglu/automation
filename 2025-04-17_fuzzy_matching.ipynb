{
 "cells": [
  {
   "cell_type": "markdown",
   "id": "266215e9",
   "metadata": {},
   "source": [
    "Built upon previous work [05212023 Country Names Record Linkage Part I (cosine-similarity).ipynb](https://github.com/tiangenglu/recordlinkage/blob/main/05212023%20Country%20Names%20Record%20Linkage%20Part%20I%20\\(cosine-similarity\\).ipynb)"
   ]
  },
  {
   "cell_type": "code",
   "execution_count": 1,
   "id": "a10890e7",
   "metadata": {},
   "outputs": [],
   "source": [
    "import os\n",
    "import numpy as np\n",
    "import pandas as pd\n",
    "import boto3\n",
    "import json\n",
    "import io\n",
    "import sys\n",
    "from sklearn.feature_extraction.text import TfidfVectorizer\n",
    "from sklearn.metrics.pairwise import cosine_similarity\n",
    "from IPython.display import display, HTML"
   ]
  },
  {
   "cell_type": "markdown",
   "id": "fbd1c7c5",
   "metadata": {},
   "source": [
    "# Access data from S3"
   ]
  },
  {
   "cell_type": "code",
   "execution_count": 2,
   "id": "a5a9b21d",
   "metadata": {},
   "outputs": [],
   "source": [
    "with open(\"aws_credential.txt\", 'r') as file:\n",
    "    aws_credential=json.load(file)\n",
    "s3=boto3.Session(\n",
    "    profile_name = None, \n",
    "    region_name = 'us-east-2').client(\n",
    "    's3',\n",
    "    aws_access_key_id=aws_credential['access_key'],\n",
    "    aws_secret_access_key=aws_credential['secret_key'])"
   ]
  },
  {
   "cell_type": "markdown",
   "id": "598af460",
   "metadata": {},
   "source": [
    "## Country codes `.txt` to `bytes` to `pd.DataFrame`"
   ]
  },
  {
   "cell_type": "code",
   "execution_count": 4,
   "id": "1b556b43",
   "metadata": {},
   "outputs": [
    {
     "data": {
      "text/plain": [
       "['resource/country.txt']"
      ]
     },
     "execution_count": 4,
     "metadata": {},
     "output_type": "execute_result"
    }
   ],
   "source": [
    "content_list1=s3.list_objects(Bucket = aws_credential['bucket'], Prefix ='resource/')['Contents']\n",
    "# if size = 0, it's the folder resource/ itself\n",
    "[d['Key'] for d in content_list1 if d['Size']>0] "
   ]
  },
  {
   "cell_type": "code",
   "execution_count": 6,
   "id": "de0cb5db",
   "metadata": {},
   "outputs": [],
   "source": [
    "# call it _bytes because the type of the object retrieved is \"bytes\"\n",
    "country_code_bytes=s3.get_object(\n",
    "    Bucket = aws_credential['bucket'],\n",
    "    Key = 'resource/' + 'country.txt')['Body'].read()"
   ]
  },
  {
   "cell_type": "code",
   "execution_count": 19,
   "id": "2f3e0bec",
   "metadata": {},
   "outputs": [
    {
     "data": {
      "text/html": [
       "<div>\n",
       "<style scoped>\n",
       "    .dataframe tbody tr th:only-of-type {\n",
       "        vertical-align: middle;\n",
       "    }\n",
       "\n",
       "    .dataframe tbody tr th {\n",
       "        vertical-align: top;\n",
       "    }\n",
       "\n",
       "    .dataframe thead th {\n",
       "        text-align: right;\n",
       "    }\n",
       "</style>\n",
       "<table border=\"1\" class=\"dataframe\">\n",
       "  <thead>\n",
       "    <tr style=\"text-align: right;\">\n",
       "      <th></th>\n",
       "      <th>Code     |    Name                                                | ISO Code</th>\n",
       "    </tr>\n",
       "  </thead>\n",
       "  <tbody>\n",
       "    <tr>\n",
       "      <th>1</th>\n",
       "      <td>1000     |    United States of America        ...</td>\n",
       "    </tr>\n",
       "    <tr>\n",
       "      <th>2</th>\n",
       "      <td>1010     |    Greenland                       ...</td>\n",
       "    </tr>\n",
       "  </tbody>\n",
       "</table>\n",
       "</div>"
      ],
      "text/plain": [
       "  Code     |    Name                                                | ISO Code\n",
       "1  1000     |    United States of America        ...                          \n",
       "2  1010     |    Greenland                       ...                          "
      ]
     },
     "execution_count": 19,
     "metadata": {},
     "output_type": "execute_result"
    }
   ],
   "source": [
    "# the header and the iloc selections are specifically for this table\n",
    "country_code_raw=pd.read_csv(io.BytesIO(country_code_bytes), delimiter = \"\\t\", header = 3).iloc[1:241]\n",
    "country_code_raw.head(2)"
   ]
  },
  {
   "cell_type": "code",
   "execution_count": 29,
   "id": "77ad01b1",
   "metadata": {},
   "outputs": [
    {
     "name": "stdout",
     "output_type": "stream",
     "text": [
      "Index(['Code     |    Name                                                | ISO Code'], dtype='object')\n"
     ]
    },
    {
     "data": {
      "text/plain": [
       "['code', 'name', 'iso']"
      ]
     },
     "execution_count": 29,
     "metadata": {},
     "output_type": "execute_result"
    }
   ],
   "source": [
    "print(country_code_raw.columns)\n",
    "new_cols_country_code=[col.strip().split(' ')[0].lower() for col in country_code_raw.columns[0].split('|')]\n",
    "new_cols_country_code"
   ]
  },
  {
   "cell_type": "code",
   "execution_count": 48,
   "id": "e41d10e4",
   "metadata": {},
   "outputs": [
    {
     "data": {
      "text/html": [
       "<div>\n",
       "<style scoped>\n",
       "    .dataframe tbody tr th:only-of-type {\n",
       "        vertical-align: middle;\n",
       "    }\n",
       "\n",
       "    .dataframe tbody tr th {\n",
       "        vertical-align: top;\n",
       "    }\n",
       "\n",
       "    .dataframe thead th {\n",
       "        text-align: right;\n",
       "    }\n",
       "</style>\n",
       "<table border=\"1\" class=\"dataframe\">\n",
       "  <thead>\n",
       "    <tr style=\"text-align: right;\">\n",
       "      <th></th>\n",
       "      <th>code</th>\n",
       "      <th>name</th>\n",
       "      <th>iso</th>\n",
       "    </tr>\n",
       "  </thead>\n",
       "  <tbody>\n",
       "    <tr>\n",
       "      <th>0</th>\n",
       "      <td>1000</td>\n",
       "      <td>United States of America</td>\n",
       "      <td>US</td>\n",
       "    </tr>\n",
       "    <tr>\n",
       "      <th>1</th>\n",
       "      <td>1010</td>\n",
       "      <td>Greenland</td>\n",
       "      <td>GL</td>\n",
       "    </tr>\n",
       "  </tbody>\n",
       "</table>\n",
       "</div>"
      ],
      "text/plain": [
       "   code                      name iso\n",
       "0  1000  United States of America  US\n",
       "1  1010                 Greenland  GL"
      ]
     },
     "execution_count": 48,
     "metadata": {},
     "output_type": "execute_result"
    }
   ],
   "source": [
    "# data frame from NESTED LIST(series) COMPREHENSION\n",
    "country_code=pd.DataFrame(data = [[e.strip() for e in row] # remove excessive spaces in every element in a row\n",
    "                     for row in country_code_raw.iloc[:,0].str.split('|')], # split each row by | into columns\n",
    "             columns=new_cols_country_code)\n",
    "country_code.head(2)"
   ]
  },
  {
   "cell_type": "markdown",
   "id": "644168e2",
   "metadata": {},
   "source": [
    "## Messy country label data"
   ]
  },
  {
   "cell_type": "code",
   "execution_count": 49,
   "id": "12983e2f",
   "metadata": {},
   "outputs": [
    {
     "name": "stdout",
     "output_type": "stream",
     "text": [
      "<class 'bytes'>\n"
     ]
    }
   ],
   "source": [
    "country_messy_bytes=s3.get_object(\n",
    "    Bucket = aws_credential['bucket'],\n",
    "    Key = 'visa_output/' + 'country_list.txt')['Body'].read()\n",
    "print(type(country_messy_bytes))"
   ]
  },
  {
   "cell_type": "code",
   "execution_count": 54,
   "id": "75162f77",
   "metadata": {},
   "outputs": [
    {
     "data": {
      "text/html": [
       "<div>\n",
       "<style scoped>\n",
       "    .dataframe tbody tr th:only-of-type {\n",
       "        vertical-align: middle;\n",
       "    }\n",
       "\n",
       "    .dataframe tbody tr th {\n",
       "        vertical-align: top;\n",
       "    }\n",
       "\n",
       "    .dataframe thead th {\n",
       "        text-align: right;\n",
       "    }\n",
       "</style>\n",
       "<table border=\"1\" class=\"dataframe\">\n",
       "  <thead>\n",
       "    <tr style=\"text-align: right;\">\n",
       "      <th></th>\n",
       "      <th>country</th>\n",
       "    </tr>\n",
       "  </thead>\n",
       "  <tbody>\n",
       "    <tr>\n",
       "      <th>0</th>\n",
       "      <td>COTE D'IVOIRE</td>\n",
       "    </tr>\n",
       "    <tr>\n",
       "      <th>1</th>\n",
       "      <td>GREAT BRITAIN AND NORTHERN IRELAND</td>\n",
       "    </tr>\n",
       "  </tbody>\n",
       "</table>\n",
       "</div>"
      ],
      "text/plain": [
       "                              country\n",
       "0                       COTE D'IVOIRE\n",
       "1  GREAT BRITAIN AND NORTHERN IRELAND"
      ]
     },
     "execution_count": 54,
     "metadata": {},
     "output_type": "execute_result"
    }
   ],
   "source": [
    "country_messy=pd.read_csv(io.BytesIO(country_messy_bytes), delimiter = \"\\t\", names = ['country'])\n",
    "country_messy.head(2)"
   ]
  },
  {
   "cell_type": "markdown",
   "id": "5e6d893d",
   "metadata": {},
   "source": [
    "# Record linkage"
   ]
  },
  {
   "cell_type": "markdown",
   "id": "7643459f",
   "metadata": {},
   "source": [
    "## TfidfVectorizer"
   ]
  },
  {
   "cell_type": "code",
   "execution_count": 56,
   "id": "820847f2",
   "metadata": {},
   "outputs": [
    {
     "data": {
      "text/plain": [
       "scipy.sparse._csr.csr_matrix"
      ]
     },
     "execution_count": 56,
     "metadata": {},
     "output_type": "execute_result"
    }
   ],
   "source": [
    "tfidf_vectorizer = TfidfVectorizer(stop_words = 'english')\n",
    "corpus = tfidf_vectorizer.fit_transform(country_code['name'])\n",
    "type(corpus)"
   ]
  },
  {
   "cell_type": "code",
   "execution_count": 70,
   "id": "4a1bcf21",
   "metadata": {},
   "outputs": [
    {
     "name": "stdout",
     "output_type": "stream",
     "text": [
      "corpus.shape: (240, 298)\n"
     ]
    },
    {
     "data": {
      "text/plain": [
       "array([[0., 0., 0., ..., 0., 0., 0.],\n",
       "       [0., 0., 0., ..., 0., 0., 0.],\n",
       "       [0., 0., 0., ..., 0., 0., 0.],\n",
       "       ...,\n",
       "       [0., 0., 0., ..., 0., 0., 0.],\n",
       "       [0., 0., 0., ..., 0., 0., 0.],\n",
       "       [0., 0., 0., ..., 0., 0., 0.]])"
      ]
     },
     "execution_count": 70,
     "metadata": {},
     "output_type": "execute_result"
    }
   ],
   "source": [
    "print(f'corpus.shape: {corpus.shape}')\n",
    "corpus.toarray()"
   ]
  },
  {
   "cell_type": "code",
   "execution_count": 63,
   "id": "64bc33c0",
   "metadata": {},
   "outputs": [
    {
     "name": "stdout",
     "output_type": "stream",
     "text": [
      "The type of `tfidf_vectorizer.get_feature_names_out()` is <class 'numpy.ndarray'>. \n",
      "The length of `tfidf_vectorizer.get_feature_names_out()` is 298.\n",
      "First few items in it are: ['administered' 'afghanistan' 'africa' 'african' 'albania' 'algeria'\n",
      " 'america' 'american' 'andorra' 'angola' 'anguilla' 'antarctic' 'antigua'\n",
      " 'arab' 'arabia' 'argentina' 'armenia' 'aruba' 'australia' 'austria']\n"
     ]
    }
   ],
   "source": [
    "print(f\"\"\"The type of `tfidf_vectorizer.get_feature_names_out()` is \\\n",
    "{type(tfidf_vectorizer.get_feature_names_out())}. \n",
    "The length of `tfidf_vectorizer.get_feature_names_out()` is \\\n",
    "{len(tfidf_vectorizer.get_feature_names_out())}.\n",
    "First few items in it are: {tfidf_vectorizer.get_feature_names_out()[:20]}\"\"\")"
   ]
  },
  {
   "cell_type": "markdown",
   "id": "e3688c94",
   "metadata": {},
   "source": [
    "## Tfidf Matrix"
   ]
  },
  {
   "cell_type": "code",
   "execution_count": 68,
   "id": "d3caf89d",
   "metadata": {},
   "outputs": [],
   "source": [
    "# Create a data frame of the tfidf matrix, column names are the features\n",
    "tfidf_matrix_df = pd.DataFrame(corpus.toarray(),\\\n",
    "                               columns = tfidf_vectorizer.get_feature_names_out())"
   ]
  },
  {
   "cell_type": "markdown",
   "id": "3786aeed",
   "metadata": {},
   "source": [
    "## Cosine-similarity"
   ]
  },
  {
   "cell_type": "code",
   "execution_count": 71,
   "id": "7b10e844",
   "metadata": {},
   "outputs": [],
   "source": [
    "n = 2 # Keep top 2 best matches\n",
    "# transform the messy data to be matched\n",
    "for i in range(len(country_messy['country'])):\n",
    "    # loop over every row in the messy data\n",
    "    query = country_messy['country'].iloc[i]\n",
    "    # tokenize and vectorize each individual query row, must be wrap with []\n",
    "    query_vector = tfidf_vectorizer.transform([query])\n",
    "    # run cosine-similarity, corpus is the fitted and transformed(vectorized) label dictionary data\n",
    "    cosine_sim = pd.DataFrame(cosine_similarity(corpus, query_vector),\\\n",
    "                             columns = ['cosine_similarity'],\\\n",
    "                             index = country_code.index) # use index of label dictionary data\n",
    "    cosine_sim = cosine_sim.sort_values(by = ['cosine_similarity'], ascending = False)\n",
    "    # Keep top n best matches, and keep all columns(`,:]`) in the coded/labeled/dictionary\n",
    "    # output gives potential matches as country names\n",
    "    output = country_code.loc[cosine_sim.index[0:n],:]\n",
    "    output.index = ['match_1','match_2']\n",
    "    # scores report the cosine similarity score of these matches\n",
    "    scores = cosine_sim[0:n]\n",
    "    \n",
    "    # NOW, CREATE FINAL OUTPUTS\n",
    "    if i == 0:\n",
    "        # `deep = True`, a new object will be created with a copy of the calling object’s data and indices\n",
    "        all_outputs = output.copy(deep = True) # for the first iteration, just copy the result\n",
    "        all_scores = scores.copy(deep = True)\n",
    "    else:\n",
    "        # from the 2nd iteration onwards\n",
    "        all_outputs = pd.concat([all_outputs,output]) # append new rows as iterations continue\n",
    "        all_scores = pd.concat([all_scores, scores])"
   ]
  },
  {
   "cell_type": "code",
   "execution_count": 74,
   "id": "b48fd64c",
   "metadata": {},
   "outputs": [
    {
     "data": {
      "text/html": [
       "<div>\n",
       "<style scoped>\n",
       "    .dataframe tbody tr th:only-of-type {\n",
       "        vertical-align: middle;\n",
       "    }\n",
       "\n",
       "    .dataframe tbody tr th {\n",
       "        vertical-align: top;\n",
       "    }\n",
       "\n",
       "    .dataframe thead th {\n",
       "        text-align: right;\n",
       "    }\n",
       "</style>\n",
       "<table border=\"1\" class=\"dataframe\">\n",
       "  <thead>\n",
       "    <tr style=\"text-align: right;\">\n",
       "      <th></th>\n",
       "      <th>code</th>\n",
       "      <th>name</th>\n",
       "      <th>iso</th>\n",
       "      <th>rank</th>\n",
       "    </tr>\n",
       "  </thead>\n",
       "  <tbody>\n",
       "    <tr>\n",
       "      <th>0</th>\n",
       "      <td>7480</td>\n",
       "      <td>Cote d'Ivoire</td>\n",
       "      <td>CI</td>\n",
       "      <td>match_1</td>\n",
       "    </tr>\n",
       "    <tr>\n",
       "      <th>1</th>\n",
       "      <td>1000</td>\n",
       "      <td>United States of America</td>\n",
       "      <td>US</td>\n",
       "      <td>match_2</td>\n",
       "    </tr>\n",
       "    <tr>\n",
       "      <th>2</th>\n",
       "      <td>4190</td>\n",
       "      <td>Ireland</td>\n",
       "      <td>IE</td>\n",
       "      <td>match_1</td>\n",
       "    </tr>\n",
       "    <tr>\n",
       "      <th>3</th>\n",
       "      <td>9610</td>\n",
       "      <td>Northern Mariana Islands</td>\n",
       "      <td>MP</td>\n",
       "      <td>match_2</td>\n",
       "    </tr>\n",
       "    <tr>\n",
       "      <th>4</th>\n",
       "      <td>7880</td>\n",
       "      <td>Madagascar</td>\n",
       "      <td>MG</td>\n",
       "      <td>match_1</td>\n",
       "    </tr>\n",
       "  </tbody>\n",
       "</table>\n",
       "</div>"
      ],
      "text/plain": [
       "   code                      name iso     rank\n",
       "0  7480             Cote d'Ivoire  CI  match_1\n",
       "1  1000  United States of America  US  match_2\n",
       "2  4190                   Ireland  IE  match_1\n",
       "3  9610  Northern Mariana Islands  MP  match_2\n",
       "4  7880                Madagascar  MG  match_1"
      ]
     },
     "execution_count": 74,
     "metadata": {},
     "output_type": "execute_result"
    }
   ],
   "source": [
    "# Convert the indeces to a regular column\n",
    "all_outputs['rank'] = all_outputs.index\n",
    "# Must reset index for all dataframes before merging\n",
    "all_outputs = all_outputs.reset_index(drop = True)\n",
    "all_outputs.head()"
   ]
  },
  {
   "cell_type": "code",
   "execution_count": 75,
   "id": "f0a8e4d0",
   "metadata": {},
   "outputs": [
    {
     "data": {
      "text/html": [
       "<div>\n",
       "<style scoped>\n",
       "    .dataframe tbody tr th:only-of-type {\n",
       "        vertical-align: middle;\n",
       "    }\n",
       "\n",
       "    .dataframe tbody tr th {\n",
       "        vertical-align: top;\n",
       "    }\n",
       "\n",
       "    .dataframe thead th {\n",
       "        text-align: right;\n",
       "    }\n",
       "</style>\n",
       "<table border=\"1\" class=\"dataframe\">\n",
       "  <thead>\n",
       "    <tr style=\"text-align: right;\">\n",
       "      <th></th>\n",
       "      <th>cosine_similarity</th>\n",
       "    </tr>\n",
       "  </thead>\n",
       "  <tbody>\n",
       "    <tr>\n",
       "      <th>0</th>\n",
       "      <td>1.000000</td>\n",
       "    </tr>\n",
       "    <tr>\n",
       "      <th>1</th>\n",
       "      <td>0.000000</td>\n",
       "    </tr>\n",
       "    <tr>\n",
       "      <th>2</th>\n",
       "      <td>0.707107</td>\n",
       "    </tr>\n",
       "    <tr>\n",
       "      <th>3</th>\n",
       "      <td>0.454054</td>\n",
       "    </tr>\n",
       "    <tr>\n",
       "      <th>4</th>\n",
       "      <td>1.000000</td>\n",
       "    </tr>\n",
       "  </tbody>\n",
       "</table>\n",
       "</div>"
      ],
      "text/plain": [
       "   cosine_similarity\n",
       "0           1.000000\n",
       "1           0.000000\n",
       "2           0.707107\n",
       "3           0.454054\n",
       "4           1.000000"
      ]
     },
     "execution_count": 75,
     "metadata": {},
     "output_type": "execute_result"
    }
   ],
   "source": [
    "# Must reset index for all dataframes before merging\n",
    "all_scores = all_scores.reset_index(drop = True)\n",
    "all_scores.head()"
   ]
  },
  {
   "cell_type": "code",
   "execution_count": 87,
   "id": "04251334",
   "metadata": {},
   "outputs": [
    {
     "data": {
      "text/html": [
       "<div>\n",
       "<style scoped>\n",
       "    .dataframe tbody tr th:only-of-type {\n",
       "        vertical-align: middle;\n",
       "    }\n",
       "\n",
       "    .dataframe tbody tr th {\n",
       "        vertical-align: top;\n",
       "    }\n",
       "\n",
       "    .dataframe thead th {\n",
       "        text-align: right;\n",
       "    }\n",
       "</style>\n",
       "<table border=\"1\" class=\"dataframe\">\n",
       "  <thead>\n",
       "    <tr style=\"text-align: right;\">\n",
       "      <th></th>\n",
       "      <th>query</th>\n",
       "    </tr>\n",
       "  </thead>\n",
       "  <tbody>\n",
       "    <tr>\n",
       "      <th>511</th>\n",
       "      <td>SINT MAARTEN</td>\n",
       "    </tr>\n",
       "    <tr>\n",
       "      <th>512</th>\n",
       "      <td>SERBIA</td>\n",
       "    </tr>\n",
       "    <tr>\n",
       "      <th>513</th>\n",
       "      <td>SERBIA</td>\n",
       "    </tr>\n",
       "    <tr>\n",
       "      <th>514</th>\n",
       "      <td>SRI LANKA</td>\n",
       "    </tr>\n",
       "    <tr>\n",
       "      <th>515</th>\n",
       "      <td>SRI LANKA</td>\n",
       "    </tr>\n",
       "  </tbody>\n",
       "</table>\n",
       "</div>"
      ],
      "text/plain": [
       "            query\n",
       "511  SINT MAARTEN\n",
       "512        SERBIA\n",
       "513        SERBIA\n",
       "514     SRI LANKA\n",
       "515     SRI LANKA"
      ]
     },
     "execution_count": 87,
     "metadata": {},
     "output_type": "execute_result"
    }
   ],
   "source": [
    "# without .values, still creates a data frame but has repetitive index 0,0,1,1,...\n",
    "messy_repeat_n=pd.DataFrame(np.repeat(country_messy[['country']].values, n, axis = 0),columns=['query'])\n",
    "messy_repeat_n.tail()"
   ]
  },
  {
   "cell_type": "code",
   "execution_count": 109,
   "id": "1b5c5bf9",
   "metadata": {},
   "outputs": [],
   "source": [
    "# combine columns from 3 data frames:\n",
    "# (1)messy labels * n, (2)matched results, and (3)cosine similarity values\n",
    "all_matches=pd.concat(\n",
    "    [messy_repeat_n,all_outputs,all_scores],axis=1).\\\n",
    "rename(columns={'name':'match'}).\\\n",
    "sort_values(by=['cosine_similarity','query'], ascending=[False, True]).\\\n",
    "reset_index(drop=True)\n",
    "# filter values\n",
    "all_matches = all_matches.loc[\n",
    "    (all_matches['rank'] == 'match_1')&(all_matches['cosine_similarity']>0.5)].\\\n",
    "reset_index(drop=True)"
   ]
  },
  {
   "cell_type": "code",
   "execution_count": 110,
   "id": "7c8cf743",
   "metadata": {},
   "outputs": [
    {
     "data": {
      "text/html": [
       "<div>\n",
       "<style scoped>\n",
       "    .dataframe tbody tr th:only-of-type {\n",
       "        vertical-align: middle;\n",
       "    }\n",
       "\n",
       "    .dataframe tbody tr th {\n",
       "        vertical-align: top;\n",
       "    }\n",
       "\n",
       "    .dataframe thead th {\n",
       "        text-align: right;\n",
       "    }\n",
       "</style>\n",
       "<table border=\"1\" class=\"dataframe\">\n",
       "  <thead>\n",
       "    <tr style=\"text-align: right;\">\n",
       "      <th></th>\n",
       "      <th>query</th>\n",
       "      <th>code</th>\n",
       "      <th>match</th>\n",
       "      <th>iso</th>\n",
       "      <th>rank</th>\n",
       "      <th>cosine_similarity</th>\n",
       "    </tr>\n",
       "  </thead>\n",
       "  <tbody>\n",
       "    <tr>\n",
       "      <th>0</th>\n",
       "      <td>ANTIGUA AND BARBUDA</td>\n",
       "      <td>2484</td>\n",
       "      <td>Antigua and Barbuda</td>\n",
       "      <td>AG</td>\n",
       "      <td>match_1</td>\n",
       "      <td>1.000000</td>\n",
       "    </tr>\n",
       "    <tr>\n",
       "      <th>1</th>\n",
       "      <td>BOSNIA AND HERZEGOVINA</td>\n",
       "      <td>4793</td>\n",
       "      <td>Bosnia and Herzegovina</td>\n",
       "      <td>BA</td>\n",
       "      <td>match_1</td>\n",
       "      <td>1.000000</td>\n",
       "    </tr>\n",
       "    <tr>\n",
       "      <th>2</th>\n",
       "      <td>BOSNIA HERZEGOVINA</td>\n",
       "      <td>4793</td>\n",
       "      <td>Bosnia and Herzegovina</td>\n",
       "      <td>BA</td>\n",
       "      <td>match_1</td>\n",
       "      <td>1.000000</td>\n",
       "    </tr>\n",
       "    <tr>\n",
       "      <th>3</th>\n",
       "      <td>BRITISH VIRGIN ISLANDS</td>\n",
       "      <td>2482</td>\n",
       "      <td>British Virgin Islands</td>\n",
       "      <td>VG</td>\n",
       "      <td>match_1</td>\n",
       "      <td>1.000000</td>\n",
       "    </tr>\n",
       "    <tr>\n",
       "      <th>4</th>\n",
       "      <td>BURKINA FASO</td>\n",
       "      <td>7600</td>\n",
       "      <td>Burkina Faso</td>\n",
       "      <td>BF</td>\n",
       "      <td>match_1</td>\n",
       "      <td>1.000000</td>\n",
       "    </tr>\n",
       "    <tr>\n",
       "      <th>...</th>\n",
       "      <td>...</td>\n",
       "      <td>...</td>\n",
       "      <td>...</td>\n",
       "      <td>...</td>\n",
       "      <td>...</td>\n",
       "      <td>...</td>\n",
       "    </tr>\n",
       "    <tr>\n",
       "      <th>240</th>\n",
       "      <td>SAINT MARTIN</td>\n",
       "      <td>2487</td>\n",
       "      <td>Saint Lucia</td>\n",
       "      <td>LC</td>\n",
       "      <td>match_1</td>\n",
       "      <td>0.629568</td>\n",
       "    </tr>\n",
       "    <tr>\n",
       "      <th>241</th>\n",
       "      <td>MICRONESIA</td>\n",
       "      <td>6820</td>\n",
       "      <td>Micronesia, Federated States of</td>\n",
       "      <td>FM</td>\n",
       "      <td>match_1</td>\n",
       "      <td>0.607612</td>\n",
       "    </tr>\n",
       "    <tr>\n",
       "      <th>242</th>\n",
       "      <td>CZEC REPUBLIC</td>\n",
       "      <td>4351</td>\n",
       "      <td>Czech Republic</td>\n",
       "      <td>CZ</td>\n",
       "      <td>match_1</td>\n",
       "      <td>0.553170</td>\n",
       "    </tr>\n",
       "    <tr>\n",
       "      <th>243</th>\n",
       "      <td>SYRIA</td>\n",
       "      <td>5020</td>\n",
       "      <td>Syria (Syrian Arab Republic)</td>\n",
       "      <td>SY</td>\n",
       "      <td>match_1</td>\n",
       "      <td>0.549999</td>\n",
       "    </tr>\n",
       "    <tr>\n",
       "      <th>244</th>\n",
       "      <td>SAINT MAARTEN</td>\n",
       "      <td>2774</td>\n",
       "      <td>Sint Maarten</td>\n",
       "      <td>SX</td>\n",
       "      <td>match_1</td>\n",
       "      <td>0.549384</td>\n",
       "    </tr>\n",
       "  </tbody>\n",
       "</table>\n",
       "<p>245 rows × 6 columns</p>\n",
       "</div>"
      ],
      "text/plain": [
       "                      query  code                            match iso  \\\n",
       "0       ANTIGUA AND BARBUDA  2484              Antigua and Barbuda  AG   \n",
       "1    BOSNIA AND HERZEGOVINA  4793           Bosnia and Herzegovina  BA   \n",
       "2        BOSNIA HERZEGOVINA  4793           Bosnia and Herzegovina  BA   \n",
       "3    BRITISH VIRGIN ISLANDS  2482           British Virgin Islands  VG   \n",
       "4              BURKINA FASO  7600                     Burkina Faso  BF   \n",
       "..                      ...   ...                              ...  ..   \n",
       "240            SAINT MARTIN  2487                      Saint Lucia  LC   \n",
       "241              MICRONESIA  6820  Micronesia, Federated States of  FM   \n",
       "242           CZEC REPUBLIC  4351                   Czech Republic  CZ   \n",
       "243                   SYRIA  5020     Syria (Syrian Arab Republic)  SY   \n",
       "244           SAINT MAARTEN  2774                     Sint Maarten  SX   \n",
       "\n",
       "        rank  cosine_similarity  \n",
       "0    match_1           1.000000  \n",
       "1    match_1           1.000000  \n",
       "2    match_1           1.000000  \n",
       "3    match_1           1.000000  \n",
       "4    match_1           1.000000  \n",
       "..       ...                ...  \n",
       "240  match_1           0.629568  \n",
       "241  match_1           0.607612  \n",
       "242  match_1           0.553170  \n",
       "243  match_1           0.549999  \n",
       "244  match_1           0.549384  \n",
       "\n",
       "[245 rows x 6 columns]"
      ]
     },
     "execution_count": 110,
     "metadata": {},
     "output_type": "execute_result"
    }
   ],
   "source": [
    "all_matches"
   ]
  },
  {
   "cell_type": "code",
   "execution_count": null,
   "id": "91154811",
   "metadata": {},
   "outputs": [],
   "source": []
  }
 ],
 "metadata": {
  "hide_input": false,
  "kernelspec": {
   "display_name": "py-3-12-3-preview",
   "language": "python",
   "name": "python-312-preview"
  },
  "language_info": {
   "codemirror_mode": {
    "name": "ipython",
    "version": 3
   },
   "file_extension": ".py",
   "mimetype": "text/x-python",
   "name": "python",
   "nbconvert_exporter": "python",
   "pygments_lexer": "ipython3",
   "version": "3.12.3"
  },
  "toc": {
   "base_numbering": 1,
   "nav_menu": {},
   "number_sections": true,
   "sideBar": true,
   "skip_h1_title": false,
   "title_cell": "Table of Contents",
   "title_sidebar": "Contents",
   "toc_cell": false,
   "toc_position": {
    "height": "calc(100% - 180px)",
    "left": "10px",
    "top": "150px",
    "width": "231px"
   },
   "toc_section_display": true,
   "toc_window_display": true
  },
  "varInspector": {
   "cols": {
    "lenName": 16,
    "lenType": 16,
    "lenVar": 40
   },
   "kernels_config": {
    "python": {
     "delete_cmd_postfix": "",
     "delete_cmd_prefix": "del ",
     "library": "var_list.py",
     "varRefreshCmd": "print(var_dic_list())"
    },
    "r": {
     "delete_cmd_postfix": ") ",
     "delete_cmd_prefix": "rm(",
     "library": "var_list.r",
     "varRefreshCmd": "cat(var_dic_list()) "
    }
   },
   "oldHeight": 122.852,
   "position": {
    "height": "144.852px",
    "left": "1053px",
    "right": "20px",
    "top": "121px",
    "width": "350px"
   },
   "types_to_exclude": [
    "module",
    "function",
    "builtin_function_or_method",
    "instance",
    "_Feature"
   ],
   "varInspector_section_display": "block",
   "window_display": false
  }
 },
 "nbformat": 4,
 "nbformat_minor": 5
}
