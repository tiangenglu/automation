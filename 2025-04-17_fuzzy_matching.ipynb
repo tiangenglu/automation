{
 "cells": [
  {
   "cell_type": "markdown",
   "id": "266215e9",
   "metadata": {},
   "source": [
    "Built upon previous work [05212023 Country Names Record Linkage Part I (cosine-similarity).ipynb](https://github.com/tiangenglu/recordlinkage/blob/main/05212023%20Country%20Names%20Record%20Linkage%20Part%20I%20(cosine-similarity).ipynb)"
   ]
  },
  {
   "cell_type": "code",
   "execution_count": 1,
   "id": "a10890e7",
   "metadata": {},
   "outputs": [],
   "source": [
    "import os\n",
    "import numpy as np\n",
    "import pandas as pd\n",
    "import boto3\n",
    "import json\n",
    "import io\n",
    "import sys\n",
    "from sklearn.feature_extraction.text import TfidfVectorizer\n",
    "from sklearn.metrics.pairwise import cosine_similarity\n",
    "from IPython.display import display, HTML"
   ]
  },
  {
   "cell_type": "markdown",
   "id": "fbd1c7c5",
   "metadata": {},
   "source": [
    "# Access data from S3"
   ]
  },
  {
   "cell_type": "code",
   "execution_count": 2,
   "id": "a5a9b21d",
   "metadata": {},
   "outputs": [],
   "source": [
    "with open(\"aws_credential.txt\", 'r') as file:\n",
    "    aws_credential=json.load(file)\n",
    "s3=boto3.Session(\n",
    "    profile_name = None, \n",
    "    region_name = 'us-east-2').client(\n",
    "    's3',\n",
    "    aws_access_key_id=aws_credential['access_key'],\n",
    "    aws_secret_access_key=aws_credential['secret_key'])"
   ]
  },
  {
   "cell_type": "markdown",
   "id": "598af460",
   "metadata": {},
   "source": [
    "## Country codes `.txt` to `bytes` to `pd.DataFrame`"
   ]
  },
  {
   "cell_type": "code",
   "execution_count": 4,
   "id": "1b556b43",
   "metadata": {},
   "outputs": [
    {
     "data": {
      "text/plain": [
       "['resource/country.txt']"
      ]
     },
     "execution_count": 4,
     "metadata": {},
     "output_type": "execute_result"
    }
   ],
   "source": [
    "content_list1=s3.list_objects(Bucket = aws_credential['bucket'], Prefix ='resource/')['Contents']\n",
    "# if size = 0, it's the folder resource/ itself\n",
    "[d['Key'] for d in content_list1 if d['Size']>0] "
   ]
  },
  {
   "cell_type": "code",
   "execution_count": 6,
   "id": "de0cb5db",
   "metadata": {},
   "outputs": [],
   "source": [
    "# call it _bytes because the type of the object retrieved is \"bytes\"\n",
    "country_code_bytes=s3.get_object(\n",
    "    Bucket = aws_credential['bucket'],\n",
    "    Key = 'resource/' + 'country.txt')['Body'].read()"
   ]
  },
  {
   "cell_type": "code",
   "execution_count": 19,
   "id": "2f3e0bec",
   "metadata": {},
   "outputs": [
    {
     "data": {
      "text/html": [
       "<div>\n",
       "<style scoped>\n",
       "    .dataframe tbody tr th:only-of-type {\n",
       "        vertical-align: middle;\n",
       "    }\n",
       "\n",
       "    .dataframe tbody tr th {\n",
       "        vertical-align: top;\n",
       "    }\n",
       "\n",
       "    .dataframe thead th {\n",
       "        text-align: right;\n",
       "    }\n",
       "</style>\n",
       "<table border=\"1\" class=\"dataframe\">\n",
       "  <thead>\n",
       "    <tr style=\"text-align: right;\">\n",
       "      <th></th>\n",
       "      <th>Code     |    Name                                                | ISO Code</th>\n",
       "    </tr>\n",
       "  </thead>\n",
       "  <tbody>\n",
       "    <tr>\n",
       "      <th>1</th>\n",
       "      <td>1000     |    United States of America        ...</td>\n",
       "    </tr>\n",
       "    <tr>\n",
       "      <th>2</th>\n",
       "      <td>1010     |    Greenland                       ...</td>\n",
       "    </tr>\n",
       "  </tbody>\n",
       "</table>\n",
       "</div>"
      ],
      "text/plain": [
       "  Code     |    Name                                                | ISO Code\n",
       "1  1000     |    United States of America        ...                          \n",
       "2  1010     |    Greenland                       ...                          "
      ]
     },
     "execution_count": 19,
     "metadata": {},
     "output_type": "execute_result"
    }
   ],
   "source": [
    "# the header and the iloc selections are specifically for this table\n",
    "country_code_raw=pd.read_csv(io.BytesIO(country_code_bytes), delimiter = \"\\t\", header = 3).iloc[1:241]\n",
    "country_code_raw.head(2)"
   ]
  },
  {
   "cell_type": "code",
   "execution_count": 29,
   "id": "77ad01b1",
   "metadata": {},
   "outputs": [
    {
     "name": "stdout",
     "output_type": "stream",
     "text": [
      "Index(['Code     |    Name                                                | ISO Code'], dtype='object')\n"
     ]
    },
    {
     "data": {
      "text/plain": [
       "['code', 'name', 'iso']"
      ]
     },
     "execution_count": 29,
     "metadata": {},
     "output_type": "execute_result"
    }
   ],
   "source": [
    "print(country_code_raw.columns)\n",
    "new_cols_country_code=[col.strip().split(' ')[0].lower() for col in country_code_raw.columns[0].split('|')]\n",
    "new_cols_country_code"
   ]
  },
  {
   "cell_type": "code",
   "execution_count": 48,
   "id": "e41d10e4",
   "metadata": {},
   "outputs": [
    {
     "data": {
      "text/html": [
       "<div>\n",
       "<style scoped>\n",
       "    .dataframe tbody tr th:only-of-type {\n",
       "        vertical-align: middle;\n",
       "    }\n",
       "\n",
       "    .dataframe tbody tr th {\n",
       "        vertical-align: top;\n",
       "    }\n",
       "\n",
       "    .dataframe thead th {\n",
       "        text-align: right;\n",
       "    }\n",
       "</style>\n",
       "<table border=\"1\" class=\"dataframe\">\n",
       "  <thead>\n",
       "    <tr style=\"text-align: right;\">\n",
       "      <th></th>\n",
       "      <th>code</th>\n",
       "      <th>name</th>\n",
       "      <th>iso</th>\n",
       "    </tr>\n",
       "  </thead>\n",
       "  <tbody>\n",
       "    <tr>\n",
       "      <th>0</th>\n",
       "      <td>1000</td>\n",
       "      <td>United States of America</td>\n",
       "      <td>US</td>\n",
       "    </tr>\n",
       "    <tr>\n",
       "      <th>1</th>\n",
       "      <td>1010</td>\n",
       "      <td>Greenland</td>\n",
       "      <td>GL</td>\n",
       "    </tr>\n",
       "  </tbody>\n",
       "</table>\n",
       "</div>"
      ],
      "text/plain": [
       "   code                      name iso\n",
       "0  1000  United States of America  US\n",
       "1  1010                 Greenland  GL"
      ]
     },
     "execution_count": 48,
     "metadata": {},
     "output_type": "execute_result"
    }
   ],
   "source": [
    "# data frame from NESTED LIST(series) COMPREHENSION\n",
    "country_code=pd.DataFrame(data = [[e.strip() for e in row] # remove excessive spaces in every element in a row\n",
    "                     for row in country_code_raw.iloc[:,0].str.split('|')], # split each row by | into columns\n",
    "             columns=new_cols_country_code)\n",
    "country_code.head(2)"
   ]
  },
  {
   "cell_type": "markdown",
   "id": "644168e2",
   "metadata": {},
   "source": [
    "## Messy country label data"
   ]
  },
  {
   "cell_type": "code",
   "execution_count": 49,
   "id": "12983e2f",
   "metadata": {},
   "outputs": [
    {
     "name": "stdout",
     "output_type": "stream",
     "text": [
      "<class 'bytes'>\n"
     ]
    }
   ],
   "source": [
    "country_messy_bytes=s3.get_object(\n",
    "    Bucket = aws_credential['bucket'],\n",
    "    Key = 'visa_output/' + 'country_list.txt')['Body'].read()\n",
    "print(type(country_messy_bytes))"
   ]
  },
  {
   "cell_type": "code",
   "execution_count": 54,
   "id": "75162f77",
   "metadata": {},
   "outputs": [
    {
     "data": {
      "text/html": [
       "<div>\n",
       "<style scoped>\n",
       "    .dataframe tbody tr th:only-of-type {\n",
       "        vertical-align: middle;\n",
       "    }\n",
       "\n",
       "    .dataframe tbody tr th {\n",
       "        vertical-align: top;\n",
       "    }\n",
       "\n",
       "    .dataframe thead th {\n",
       "        text-align: right;\n",
       "    }\n",
       "</style>\n",
       "<table border=\"1\" class=\"dataframe\">\n",
       "  <thead>\n",
       "    <tr style=\"text-align: right;\">\n",
       "      <th></th>\n",
       "      <th>country</th>\n",
       "    </tr>\n",
       "  </thead>\n",
       "  <tbody>\n",
       "    <tr>\n",
       "      <th>0</th>\n",
       "      <td>COTE D'IVOIRE</td>\n",
       "    </tr>\n",
       "    <tr>\n",
       "      <th>1</th>\n",
       "      <td>GREAT BRITAIN AND NORTHERN IRELAND</td>\n",
       "    </tr>\n",
       "  </tbody>\n",
       "</table>\n",
       "</div>"
      ],
      "text/plain": [
       "                              country\n",
       "0                       COTE D'IVOIRE\n",
       "1  GREAT BRITAIN AND NORTHERN IRELAND"
      ]
     },
     "execution_count": 54,
     "metadata": {},
     "output_type": "execute_result"
    }
   ],
   "source": [
    "country_messy=pd.read_csv(io.BytesIO(country_messy_bytes), delimiter = \"\\t\", names = ['country'])\n",
    "country_messy.head(2)"
   ]
  },
  {
   "cell_type": "markdown",
   "id": "8b1c4fc5",
   "metadata": {},
   "source": [
    "# Record linkage"
   ]
  },
  {
   "cell_type": "markdown",
   "id": "e4263fb2",
   "metadata": {},
   "source": [
    "## TfidfVectorizer"
   ]
  },
  {
   "cell_type": "code",
   "execution_count": 56,
   "id": "63629f6d",
   "metadata": {},
   "outputs": [
    {
     "data": {
      "text/plain": [
       "scipy.sparse._csr.csr_matrix"
      ]
     },
     "execution_count": 56,
     "metadata": {},
     "output_type": "execute_result"
    }
   ],
   "source": [
    "tfidf_vectorizer = TfidfVectorizer(stop_words = 'english')\n",
    "corpus = tfidf_vectorizer.fit_transform(country_code['name'])\n",
    "type(corpus)"
   ]
  },
  {
   "cell_type": "code",
   "execution_count": 70,
   "id": "2fb450c4",
   "metadata": {},
   "outputs": [
    {
     "name": "stdout",
     "output_type": "stream",
     "text": [
      "corpus.shape: (240, 298)\n"
     ]
    },
    {
     "data": {
      "text/plain": [
       "array([[0., 0., 0., ..., 0., 0., 0.],\n",
       "       [0., 0., 0., ..., 0., 0., 0.],\n",
       "       [0., 0., 0., ..., 0., 0., 0.],\n",
       "       ...,\n",
       "       [0., 0., 0., ..., 0., 0., 0.],\n",
       "       [0., 0., 0., ..., 0., 0., 0.],\n",
       "       [0., 0., 0., ..., 0., 0., 0.]])"
      ]
     },
     "execution_count": 70,
     "metadata": {},
     "output_type": "execute_result"
    }
   ],
   "source": [
    "print(f'corpus.shape: {corpus.shape}')\n",
    "corpus.toarray()"
   ]
  },
  {
   "cell_type": "code",
   "execution_count": 63,
   "id": "f0250783",
   "metadata": {},
   "outputs": [
    {
     "name": "stdout",
     "output_type": "stream",
     "text": [
      "The type of `tfidf_vectorizer.get_feature_names_out()` is <class 'numpy.ndarray'>. \n",
      "The length of `tfidf_vectorizer.get_feature_names_out()` is 298.\n",
      "First few items in it are: ['administered' 'afghanistan' 'africa' 'african' 'albania' 'algeria'\n",
      " 'america' 'american' 'andorra' 'angola' 'anguilla' 'antarctic' 'antigua'\n",
      " 'arab' 'arabia' 'argentina' 'armenia' 'aruba' 'australia' 'austria']\n"
     ]
    }
   ],
   "source": [
    "print(f\"\"\"The type of `tfidf_vectorizer.get_feature_names_out()` is \\\n",
    "{type(tfidf_vectorizer.get_feature_names_out())}. \n",
    "The length of `tfidf_vectorizer.get_feature_names_out()` is \\\n",
    "{len(tfidf_vectorizer.get_feature_names_out())}.\n",
    "First few items in it are: {tfidf_vectorizer.get_feature_names_out()[:20]}\"\"\")"
   ]
  },
  {
   "cell_type": "markdown",
   "id": "420b5b9a",
   "metadata": {},
   "source": [
    "## Tfidf Matrix"
   ]
  },
  {
   "cell_type": "code",
   "execution_count": 68,
   "id": "bd6f3b4a",
   "metadata": {},
   "outputs": [],
   "source": [
    "# Create a data frame of the tfidf matrix, column names are the features\n",
    "tfidf_matrix_df = pd.DataFrame(corpus.toarray(),\\\n",
    "                               columns = tfidf_vectorizer.get_feature_names_out())"
   ]
  },
  {
   "cell_type": "code",
   "execution_count": null,
   "id": "ad123120",
   "metadata": {},
   "outputs": [],
   "source": []
  }
 ],
 "metadata": {
  "hide_input": false,
  "kernelspec": {
   "display_name": "py-3-12-3-preview",
   "language": "python",
   "name": "python-312-preview"
  },
  "language_info": {
   "codemirror_mode": {
    "name": "ipython",
    "version": 3
   },
   "file_extension": ".py",
   "mimetype": "text/x-python",
   "name": "python",
   "nbconvert_exporter": "python",
   "pygments_lexer": "ipython3",
   "version": "3.12.3"
  },
  "toc": {
   "base_numbering": 1,
   "nav_menu": {},
   "number_sections": true,
   "sideBar": true,
   "skip_h1_title": false,
   "title_cell": "Table of Contents",
   "title_sidebar": "Contents",
   "toc_cell": false,
   "toc_position": {
    "height": "calc(100% - 180px)",
    "left": "10px",
    "top": "150px",
    "width": "231px"
   },
   "toc_section_display": true,
   "toc_window_display": true
  },
  "varInspector": {
   "cols": {
    "lenName": 16,
    "lenType": 16,
    "lenVar": 40
   },
   "kernels_config": {
    "python": {
     "delete_cmd_postfix": "",
     "delete_cmd_prefix": "del ",
     "library": "var_list.py",
     "varRefreshCmd": "print(var_dic_list())"
    },
    "r": {
     "delete_cmd_postfix": ") ",
     "delete_cmd_prefix": "rm(",
     "library": "var_list.r",
     "varRefreshCmd": "cat(var_dic_list()) "
    }
   },
   "types_to_exclude": [
    "module",
    "function",
    "builtin_function_or_method",
    "instance",
    "_Feature"
   ],
   "window_display": false
  }
 },
 "nbformat": 4,
 "nbformat_minor": 5
}
