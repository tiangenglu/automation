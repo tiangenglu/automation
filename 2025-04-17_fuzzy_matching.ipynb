{
 "cells": [
  {
   "cell_type": "markdown",
   "id": "266215e9",
   "metadata": {},
   "source": [
    "Built upon previous work [05212023 Country Names Record Linkage Part I (cosine-similarity).ipynb](https://github.com/tiangenglu/recordlinkage/blob/main/05212023%20Country%20Names%20Record%20Linkage%20Part%20I%20\\(cosine-similarity\\).ipynb)"
   ]
  },
  {
   "cell_type": "code",
   "execution_count": 1,
   "id": "a10890e7",
   "metadata": {},
   "outputs": [],
   "source": [
    "import os\n",
    "import numpy as np\n",
    "import pandas as pd\n",
    "import boto3\n",
    "import json\n",
    "import io\n",
    "import sys\n",
    "from sklearn.feature_extraction.text import TfidfVectorizer\n",
    "from sklearn.metrics.pairwise import cosine_similarity"
   ]
  },
  {
   "cell_type": "markdown",
   "id": "fbd1c7c5",
   "metadata": {},
   "source": [
    "# Access data from S3"
   ]
  },
  {
   "cell_type": "code",
   "execution_count": 2,
   "id": "a5a9b21d",
   "metadata": {},
   "outputs": [],
   "source": [
    "with open(\"aws_credential.txt\", 'r') as file:\n",
    "    aws_credential=json.load(file)\n",
    "s3=boto3.Session(\n",
    "    profile_name = None, \n",
    "    region_name = 'us-east-2').client(\n",
    "    's3',\n",
    "    aws_access_key_id=aws_credential['access_key'],\n",
    "    aws_secret_access_key=aws_credential['secret_key'])"
   ]
  },
  {
   "cell_type": "markdown",
   "id": "598af460",
   "metadata": {},
   "source": [
    "## Country codes `.txt` to `bytes` to `pd.DataFrame`"
   ]
  },
  {
   "cell_type": "code",
   "execution_count": 3,
   "id": "1b556b43",
   "metadata": {},
   "outputs": [
    {
     "data": {
      "text/plain": [
       "['resource/country.txt']"
      ]
     },
     "execution_count": 3,
     "metadata": {},
     "output_type": "execute_result"
    }
   ],
   "source": [
    "content_list1=s3.list_objects(Bucket = aws_credential['bucket'], Prefix ='resource/')['Contents']\n",
    "# if size = 0, it's the folder resource/ itself\n",
    "[d['Key'] for d in content_list1 if d['Size']>0] "
   ]
  },
  {
   "cell_type": "code",
   "execution_count": 4,
   "id": "de0cb5db",
   "metadata": {},
   "outputs": [],
   "source": [
    "# call it _bytes because the type of the object retrieved is \"bytes\"\n",
    "country_code_bytes=s3.get_object(\n",
    "    Bucket = aws_credential['bucket'],\n",
    "    Key = 'resource/' + 'country.txt')['Body'].read()"
   ]
  },
  {
   "cell_type": "code",
   "execution_count": 5,
   "id": "2f3e0bec",
   "metadata": {},
   "outputs": [
    {
     "data": {
      "text/html": [
       "<div>\n",
       "<style scoped>\n",
       "    .dataframe tbody tr th:only-of-type {\n",
       "        vertical-align: middle;\n",
       "    }\n",
       "\n",
       "    .dataframe tbody tr th {\n",
       "        vertical-align: top;\n",
       "    }\n",
       "\n",
       "    .dataframe thead th {\n",
       "        text-align: right;\n",
       "    }\n",
       "</style>\n",
       "<table border=\"1\" class=\"dataframe\">\n",
       "  <thead>\n",
       "    <tr style=\"text-align: right;\">\n",
       "      <th></th>\n",
       "      <th>Code     |    Name                                                | ISO Code</th>\n",
       "    </tr>\n",
       "  </thead>\n",
       "  <tbody>\n",
       "    <tr>\n",
       "      <th>1</th>\n",
       "      <td>1000     |    United States of America        ...</td>\n",
       "    </tr>\n",
       "    <tr>\n",
       "      <th>2</th>\n",
       "      <td>1010     |    Greenland                       ...</td>\n",
       "    </tr>\n",
       "  </tbody>\n",
       "</table>\n",
       "</div>"
      ],
      "text/plain": [
       "  Code     |    Name                                                | ISO Code\n",
       "1  1000     |    United States of America        ...                          \n",
       "2  1010     |    Greenland                       ...                          "
      ]
     },
     "execution_count": 5,
     "metadata": {},
     "output_type": "execute_result"
    }
   ],
   "source": [
    "# the header and the iloc selections are specifically for this table\n",
    "country_code_raw=pd.read_csv(io.BytesIO(country_code_bytes), delimiter = \"\\t\", header = 3).iloc[1:241]\n",
    "country_code_raw.head(2)"
   ]
  },
  {
   "cell_type": "code",
   "execution_count": 6,
   "id": "77ad01b1",
   "metadata": {},
   "outputs": [
    {
     "name": "stdout",
     "output_type": "stream",
     "text": [
      "Index(['Code     |    Name                                                | ISO Code'], dtype='object')\n"
     ]
    },
    {
     "data": {
      "text/plain": [
       "['code', 'name', 'iso']"
      ]
     },
     "execution_count": 6,
     "metadata": {},
     "output_type": "execute_result"
    }
   ],
   "source": [
    "print(country_code_raw.columns)\n",
    "new_cols_country_code=[col.strip().split(' ')[0].lower() for col in country_code_raw.columns[0].split('|')]\n",
    "new_cols_country_code"
   ]
  },
  {
   "cell_type": "code",
   "execution_count": 7,
   "id": "e41d10e4",
   "metadata": {},
   "outputs": [
    {
     "data": {
      "text/html": [
       "<div>\n",
       "<style scoped>\n",
       "    .dataframe tbody tr th:only-of-type {\n",
       "        vertical-align: middle;\n",
       "    }\n",
       "\n",
       "    .dataframe tbody tr th {\n",
       "        vertical-align: top;\n",
       "    }\n",
       "\n",
       "    .dataframe thead th {\n",
       "        text-align: right;\n",
       "    }\n",
       "</style>\n",
       "<table border=\"1\" class=\"dataframe\">\n",
       "  <thead>\n",
       "    <tr style=\"text-align: right;\">\n",
       "      <th></th>\n",
       "      <th>code</th>\n",
       "      <th>name</th>\n",
       "      <th>iso</th>\n",
       "    </tr>\n",
       "  </thead>\n",
       "  <tbody>\n",
       "    <tr>\n",
       "      <th>0</th>\n",
       "      <td>1000</td>\n",
       "      <td>United States of America</td>\n",
       "      <td>US</td>\n",
       "    </tr>\n",
       "    <tr>\n",
       "      <th>1</th>\n",
       "      <td>1010</td>\n",
       "      <td>Greenland</td>\n",
       "      <td>GL</td>\n",
       "    </tr>\n",
       "  </tbody>\n",
       "</table>\n",
       "</div>"
      ],
      "text/plain": [
       "   code                      name iso\n",
       "0  1000  United States of America  US\n",
       "1  1010                 Greenland  GL"
      ]
     },
     "execution_count": 7,
     "metadata": {},
     "output_type": "execute_result"
    }
   ],
   "source": [
    "# data frame from NESTED LIST(series) COMPREHENSION\n",
    "country_code=pd.DataFrame(data = [[e.strip() for e in row] # remove excessive spaces in every element in a row\n",
    "                     for row in country_code_raw.iloc[:,0].str.split('|')], # split each row by | into columns\n",
    "             columns=new_cols_country_code)\n",
    "country_code.head(2)"
   ]
  },
  {
   "cell_type": "markdown",
   "id": "8daef94f",
   "metadata": {},
   "source": [
    "### Best practices\n",
    "\n",
    "- Try to make the label dictionary data, the table that provides standardized country names and codes, more inclusive.\n",
    "- Manually add \"Great Britain and Northern Ireland\" to United Kingdom"
   ]
  },
  {
   "cell_type": "code",
   "execution_count": 8,
   "id": "27ff4304",
   "metadata": {},
   "outputs": [
    {
     "data": {
      "text/html": [
       "<div>\n",
       "<style scoped>\n",
       "    .dataframe tbody tr th:only-of-type {\n",
       "        vertical-align: middle;\n",
       "    }\n",
       "\n",
       "    .dataframe tbody tr th {\n",
       "        vertical-align: top;\n",
       "    }\n",
       "\n",
       "    .dataframe thead th {\n",
       "        text-align: right;\n",
       "    }\n",
       "</style>\n",
       "<table border=\"1\" class=\"dataframe\">\n",
       "  <thead>\n",
       "    <tr style=\"text-align: right;\">\n",
       "      <th></th>\n",
       "      <th>code</th>\n",
       "      <th>name</th>\n",
       "      <th>iso</th>\n",
       "    </tr>\n",
       "  </thead>\n",
       "  <tbody>\n",
       "    <tr>\n",
       "      <th>57</th>\n",
       "      <td>4120</td>\n",
       "      <td>United Kingdom (Great Britain and Northern Ire...</td>\n",
       "      <td>GB</td>\n",
       "    </tr>\n",
       "  </tbody>\n",
       "</table>\n",
       "</div>"
      ],
      "text/plain": [
       "    code                                               name iso\n",
       "57  4120  United Kingdom (Great Britain and Northern Ire...  GB"
      ]
     },
     "execution_count": 8,
     "metadata": {},
     "output_type": "execute_result"
    }
   ],
   "source": [
    "# manually edit the label dictionary, adding Great Britain to United Kingdom\n",
    "uk_idx=country_code[country_code['name'].str.contains('United Kingdom')].index[0]\n",
    "country_code['name'].loc[uk_idx] = 'United Kingdom (Great Britain and Northern Ireland)'\n",
    "country_code[country_code['name'].str.contains('United Kingdom')]"
   ]
  },
  {
   "cell_type": "markdown",
   "id": "644168e2",
   "metadata": {},
   "source": [
    "## Messy country label data"
   ]
  },
  {
   "cell_type": "code",
   "execution_count": 9,
   "id": "12983e2f",
   "metadata": {},
   "outputs": [
    {
     "name": "stdout",
     "output_type": "stream",
     "text": [
      "<class 'bytes'>\n"
     ]
    }
   ],
   "source": [
    "country_messy_bytes=s3.get_object(\n",
    "    Bucket = aws_credential['bucket'],\n",
    "    Key = 'visa_output/' + 'country_list.txt')['Body'].read()\n",
    "print(type(country_messy_bytes))"
   ]
  },
  {
   "cell_type": "code",
   "execution_count": 10,
   "id": "75162f77",
   "metadata": {},
   "outputs": [
    {
     "data": {
      "text/html": [
       "<div>\n",
       "<style scoped>\n",
       "    .dataframe tbody tr th:only-of-type {\n",
       "        vertical-align: middle;\n",
       "    }\n",
       "\n",
       "    .dataframe tbody tr th {\n",
       "        vertical-align: top;\n",
       "    }\n",
       "\n",
       "    .dataframe thead th {\n",
       "        text-align: right;\n",
       "    }\n",
       "</style>\n",
       "<table border=\"1\" class=\"dataframe\">\n",
       "  <thead>\n",
       "    <tr style=\"text-align: right;\">\n",
       "      <th></th>\n",
       "      <th>country</th>\n",
       "    </tr>\n",
       "  </thead>\n",
       "  <tbody>\n",
       "    <tr>\n",
       "      <th>0</th>\n",
       "      <td>COTE D'IVOIRE</td>\n",
       "    </tr>\n",
       "    <tr>\n",
       "      <th>1</th>\n",
       "      <td>GREAT BRITAIN AND NORTHERN IRELAND</td>\n",
       "    </tr>\n",
       "  </tbody>\n",
       "</table>\n",
       "</div>"
      ],
      "text/plain": [
       "                              country\n",
       "0                       COTE D'IVOIRE\n",
       "1  GREAT BRITAIN AND NORTHERN IRELAND"
      ]
     },
     "execution_count": 10,
     "metadata": {},
     "output_type": "execute_result"
    }
   ],
   "source": [
    "country_messy=pd.read_csv(io.BytesIO(country_messy_bytes), delimiter = \"\\t\", names = ['country'])\n",
    "country_messy.head(2)"
   ]
  },
  {
   "cell_type": "markdown",
   "id": "a3d6ddb2",
   "metadata": {},
   "source": [
    "# Record linkage"
   ]
  },
  {
   "cell_type": "markdown",
   "id": "9f4eabe2",
   "metadata": {},
   "source": [
    "## TfidfVectorizer"
   ]
  },
  {
   "cell_type": "code",
   "execution_count": 11,
   "id": "6dac03b0",
   "metadata": {},
   "outputs": [
    {
     "data": {
      "text/plain": [
       "scipy.sparse._csr.csr_matrix"
      ]
     },
     "execution_count": 11,
     "metadata": {},
     "output_type": "execute_result"
    }
   ],
   "source": [
    "tfidf_vectorizer = TfidfVectorizer(stop_words = 'english')\n",
    "corpus = tfidf_vectorizer.fit_transform(country_code['name'])\n",
    "type(corpus)"
   ]
  },
  {
   "cell_type": "code",
   "execution_count": 12,
   "id": "b0ff1895",
   "metadata": {},
   "outputs": [
    {
     "name": "stdout",
     "output_type": "stream",
     "text": [
      "corpus.shape: (240, 300)\n"
     ]
    },
    {
     "data": {
      "text/plain": [
       "array([[0., 0., 0., ..., 0., 0., 0.],\n",
       "       [0., 0., 0., ..., 0., 0., 0.],\n",
       "       [0., 0., 0., ..., 0., 0., 0.],\n",
       "       ...,\n",
       "       [0., 0., 0., ..., 0., 0., 0.],\n",
       "       [0., 0., 0., ..., 0., 0., 0.],\n",
       "       [0., 0., 0., ..., 0., 0., 0.]])"
      ]
     },
     "execution_count": 12,
     "metadata": {},
     "output_type": "execute_result"
    }
   ],
   "source": [
    "print(f'corpus.shape: {corpus.shape}')\n",
    "corpus.toarray()"
   ]
  },
  {
   "cell_type": "code",
   "execution_count": 13,
   "id": "04271882",
   "metadata": {},
   "outputs": [
    {
     "name": "stdout",
     "output_type": "stream",
     "text": [
      "The type of `tfidf_vectorizer.get_feature_names_out()` is <class 'numpy.ndarray'>. \n",
      "The length of `tfidf_vectorizer.get_feature_names_out()` is 300.\n",
      "First few items in it are: ['administered' 'afghanistan' 'africa' 'african' 'albania' 'algeria'\n",
      " 'america' 'american' 'andorra' 'angola' 'anguilla' 'antarctic' 'antigua'\n",
      " 'arab' 'arabia' 'argentina' 'armenia' 'aruba' 'australia' 'austria']\n"
     ]
    }
   ],
   "source": [
    "print(f\"\"\"The type of `tfidf_vectorizer.get_feature_names_out()` is \\\n",
    "{type(tfidf_vectorizer.get_feature_names_out())}. \n",
    "The length of `tfidf_vectorizer.get_feature_names_out()` is \\\n",
    "{len(tfidf_vectorizer.get_feature_names_out())}.\n",
    "First few items in it are: {tfidf_vectorizer.get_feature_names_out()[:20]}\"\"\")"
   ]
  },
  {
   "cell_type": "markdown",
   "id": "2528679e",
   "metadata": {},
   "source": [
    "## Tfidf Matrix"
   ]
  },
  {
   "cell_type": "code",
   "execution_count": 14,
   "id": "8dbec20d",
   "metadata": {},
   "outputs": [],
   "source": [
    "# Create a data frame of the tfidf matrix, column names are the features\n",
    "tfidf_matrix_df = pd.DataFrame(corpus.toarray(),\\\n",
    "                               columns = tfidf_vectorizer.get_feature_names_out())"
   ]
  },
  {
   "cell_type": "markdown",
   "id": "f84c894d",
   "metadata": {},
   "source": [
    "## Cosine-similarity"
   ]
  },
  {
   "cell_type": "code",
   "execution_count": 15,
   "id": "fff0db46",
   "metadata": {},
   "outputs": [],
   "source": [
    "n = 2 # Keep top 2 best matches\n",
    "# transform the messy data to be matched\n",
    "for i in range(len(country_messy['country'])):\n",
    "    # loop over every row in the messy data\n",
    "    query = country_messy['country'].iloc[i]\n",
    "    # tokenize and vectorize each individual query row, must be wrap with []\n",
    "    query_vector = tfidf_vectorizer.transform([query])\n",
    "    # run cosine-similarity, corpus is the fitted and transformed(vectorized) label dictionary data\n",
    "    cosine_sim = pd.DataFrame(cosine_similarity(corpus, query_vector),\\\n",
    "                             columns = ['cosine_similarity'],\\\n",
    "                             index = country_code.index) # use index of label dictionary data\n",
    "    cosine_sim = cosine_sim.sort_values(by = ['cosine_similarity'], ascending = False)\n",
    "    # Keep top n best matches, and keep all columns(`,:]`) in the coded/labeled/dictionary\n",
    "    # output gives potential matches as country names\n",
    "    output = country_code.loc[cosine_sim.index[0:n],:]\n",
    "    output.index = ['match_1','match_2']\n",
    "    # scores report the cosine similarity score of these matches\n",
    "    scores = cosine_sim[0:n]\n",
    "    \n",
    "    # NOW, CREATE FINAL OUTPUTS\n",
    "    if i == 0:\n",
    "        # `deep = True`, a new object will be created with a copy of the calling object’s data and indices\n",
    "        all_outputs = output.copy(deep = True) # for the first iteration, just copy the result\n",
    "        all_scores = scores.copy(deep = True)\n",
    "    else:\n",
    "        # from the 2nd iteration onwards\n",
    "        all_outputs = pd.concat([all_outputs,output]) # append new rows as iterations continue\n",
    "        all_scores = pd.concat([all_scores, scores])"
   ]
  },
  {
   "cell_type": "code",
   "execution_count": 16,
   "id": "c3aa18ce",
   "metadata": {},
   "outputs": [
    {
     "data": {
      "text/html": [
       "<div>\n",
       "<style scoped>\n",
       "    .dataframe tbody tr th:only-of-type {\n",
       "        vertical-align: middle;\n",
       "    }\n",
       "\n",
       "    .dataframe tbody tr th {\n",
       "        vertical-align: top;\n",
       "    }\n",
       "\n",
       "    .dataframe thead th {\n",
       "        text-align: right;\n",
       "    }\n",
       "</style>\n",
       "<table border=\"1\" class=\"dataframe\">\n",
       "  <thead>\n",
       "    <tr style=\"text-align: right;\">\n",
       "      <th></th>\n",
       "      <th>code</th>\n",
       "      <th>name</th>\n",
       "      <th>iso</th>\n",
       "      <th>rank</th>\n",
       "    </tr>\n",
       "  </thead>\n",
       "  <tbody>\n",
       "    <tr>\n",
       "      <th>0</th>\n",
       "      <td>7480</td>\n",
       "      <td>Cote d'Ivoire</td>\n",
       "      <td>CI</td>\n",
       "      <td>match_1</td>\n",
       "    </tr>\n",
       "    <tr>\n",
       "      <th>1</th>\n",
       "      <td>1000</td>\n",
       "      <td>United States of America</td>\n",
       "      <td>US</td>\n",
       "      <td>match_2</td>\n",
       "    </tr>\n",
       "    <tr>\n",
       "      <th>2</th>\n",
       "      <td>4120</td>\n",
       "      <td>United Kingdom (Great Britain and Northern Ire...</td>\n",
       "      <td>GB</td>\n",
       "      <td>match_1</td>\n",
       "    </tr>\n",
       "    <tr>\n",
       "      <th>3</th>\n",
       "      <td>4190</td>\n",
       "      <td>Ireland</td>\n",
       "      <td>IE</td>\n",
       "      <td>match_2</td>\n",
       "    </tr>\n",
       "    <tr>\n",
       "      <th>4</th>\n",
       "      <td>7880</td>\n",
       "      <td>Madagascar</td>\n",
       "      <td>MG</td>\n",
       "      <td>match_1</td>\n",
       "    </tr>\n",
       "  </tbody>\n",
       "</table>\n",
       "</div>"
      ],
      "text/plain": [
       "   code                                               name iso     rank\n",
       "0  7480                                      Cote d'Ivoire  CI  match_1\n",
       "1  1000                           United States of America  US  match_2\n",
       "2  4120  United Kingdom (Great Britain and Northern Ire...  GB  match_1\n",
       "3  4190                                            Ireland  IE  match_2\n",
       "4  7880                                         Madagascar  MG  match_1"
      ]
     },
     "execution_count": 16,
     "metadata": {},
     "output_type": "execute_result"
    }
   ],
   "source": [
    "# Convert the indeces to a regular column\n",
    "all_outputs['rank'] = all_outputs.index\n",
    "# Must reset index for all dataframes before merging\n",
    "all_outputs = all_outputs.reset_index(drop = True)\n",
    "all_outputs.head()"
   ]
  },
  {
   "cell_type": "code",
   "execution_count": 17,
   "id": "5619eb24",
   "metadata": {},
   "outputs": [
    {
     "data": {
      "text/html": [
       "<div>\n",
       "<style scoped>\n",
       "    .dataframe tbody tr th:only-of-type {\n",
       "        vertical-align: middle;\n",
       "    }\n",
       "\n",
       "    .dataframe tbody tr th {\n",
       "        vertical-align: top;\n",
       "    }\n",
       "\n",
       "    .dataframe thead th {\n",
       "        text-align: right;\n",
       "    }\n",
       "</style>\n",
       "<table border=\"1\" class=\"dataframe\">\n",
       "  <thead>\n",
       "    <tr style=\"text-align: right;\">\n",
       "      <th></th>\n",
       "      <th>cosine_similarity</th>\n",
       "    </tr>\n",
       "  </thead>\n",
       "  <tbody>\n",
       "    <tr>\n",
       "      <th>0</th>\n",
       "      <td>1.000000</td>\n",
       "    </tr>\n",
       "    <tr>\n",
       "      <th>1</th>\n",
       "      <td>0.000000</td>\n",
       "    </tr>\n",
       "    <tr>\n",
       "      <th>2</th>\n",
       "      <td>0.835430</td>\n",
       "    </tr>\n",
       "    <tr>\n",
       "      <th>3</th>\n",
       "      <td>0.481546</td>\n",
       "    </tr>\n",
       "    <tr>\n",
       "      <th>4</th>\n",
       "      <td>1.000000</td>\n",
       "    </tr>\n",
       "  </tbody>\n",
       "</table>\n",
       "</div>"
      ],
      "text/plain": [
       "   cosine_similarity\n",
       "0           1.000000\n",
       "1           0.000000\n",
       "2           0.835430\n",
       "3           0.481546\n",
       "4           1.000000"
      ]
     },
     "execution_count": 17,
     "metadata": {},
     "output_type": "execute_result"
    }
   ],
   "source": [
    "# Must reset index for all dataframes before merging\n",
    "all_scores = all_scores.reset_index(drop = True)\n",
    "all_scores.head()"
   ]
  },
  {
   "cell_type": "code",
   "execution_count": 18,
   "id": "1366682f",
   "metadata": {},
   "outputs": [
    {
     "data": {
      "text/html": [
       "<div>\n",
       "<style scoped>\n",
       "    .dataframe tbody tr th:only-of-type {\n",
       "        vertical-align: middle;\n",
       "    }\n",
       "\n",
       "    .dataframe tbody tr th {\n",
       "        vertical-align: top;\n",
       "    }\n",
       "\n",
       "    .dataframe thead th {\n",
       "        text-align: right;\n",
       "    }\n",
       "</style>\n",
       "<table border=\"1\" class=\"dataframe\">\n",
       "  <thead>\n",
       "    <tr style=\"text-align: right;\">\n",
       "      <th></th>\n",
       "      <th>query</th>\n",
       "    </tr>\n",
       "  </thead>\n",
       "  <tbody>\n",
       "    <tr>\n",
       "      <th>511</th>\n",
       "      <td>SINT MAARTEN</td>\n",
       "    </tr>\n",
       "    <tr>\n",
       "      <th>512</th>\n",
       "      <td>SERBIA</td>\n",
       "    </tr>\n",
       "    <tr>\n",
       "      <th>513</th>\n",
       "      <td>SERBIA</td>\n",
       "    </tr>\n",
       "    <tr>\n",
       "      <th>514</th>\n",
       "      <td>SRI LANKA</td>\n",
       "    </tr>\n",
       "    <tr>\n",
       "      <th>515</th>\n",
       "      <td>SRI LANKA</td>\n",
       "    </tr>\n",
       "  </tbody>\n",
       "</table>\n",
       "</div>"
      ],
      "text/plain": [
       "            query\n",
       "511  SINT MAARTEN\n",
       "512        SERBIA\n",
       "513        SERBIA\n",
       "514     SRI LANKA\n",
       "515     SRI LANKA"
      ]
     },
     "execution_count": 18,
     "metadata": {},
     "output_type": "execute_result"
    }
   ],
   "source": [
    "# without .values, still creates a data frame but has repetitive index 0,0,1,1,...\n",
    "messy_repeat_n=pd.DataFrame(np.repeat(country_messy['country'].values, n, axis = 0),columns=['query'])\n",
    "messy_repeat_n.tail()"
   ]
  },
  {
   "cell_type": "code",
   "execution_count": 19,
   "id": "b7fbeda6",
   "metadata": {},
   "outputs": [],
   "source": [
    "# combine columns from 3 data frames:\n",
    "# (1)messy labels * n, (2)matched results, and (3)cosine similarity values\n",
    "all_matches=pd.concat(\n",
    "    [messy_repeat_n,all_outputs,all_scores],axis=1).\\\n",
    "rename(columns={'name':'match'}).\\\n",
    "sort_values(by=['cosine_similarity','query'], ascending=[False, True]).\\\n",
    "reset_index(drop=True)\n",
    "# filter values\n",
    "all_matches = all_matches.loc[(all_matches['rank'] == 'match_1')&(all_matches['cosine_similarity']>0.5)].\\\n",
    "reset_index(drop=True)"
   ]
  },
  {
   "cell_type": "code",
   "execution_count": 20,
   "id": "620fca1c",
   "metadata": {},
   "outputs": [
    {
     "data": {
      "text/html": [
       "<div>\n",
       "<style scoped>\n",
       "    .dataframe tbody tr th:only-of-type {\n",
       "        vertical-align: middle;\n",
       "    }\n",
       "\n",
       "    .dataframe tbody tr th {\n",
       "        vertical-align: top;\n",
       "    }\n",
       "\n",
       "    .dataframe thead th {\n",
       "        text-align: right;\n",
       "    }\n",
       "</style>\n",
       "<table border=\"1\" class=\"dataframe\">\n",
       "  <thead>\n",
       "    <tr style=\"text-align: right;\">\n",
       "      <th></th>\n",
       "      <th>query</th>\n",
       "      <th>code</th>\n",
       "      <th>match</th>\n",
       "      <th>iso</th>\n",
       "      <th>rank</th>\n",
       "      <th>cosine_similarity</th>\n",
       "    </tr>\n",
       "  </thead>\n",
       "  <tbody>\n",
       "    <tr>\n",
       "      <th>214</th>\n",
       "      <td>TANZANIA</td>\n",
       "      <td>7830</td>\n",
       "      <td>Tanzania (United Republic of Tanzania)</td>\n",
       "      <td>TZ</td>\n",
       "      <td>match_1</td>\n",
       "      <td>0.889540</td>\n",
       "    </tr>\n",
       "    <tr>\n",
       "      <th>215</th>\n",
       "      <td>SAMOA</td>\n",
       "      <td>6150</td>\n",
       "      <td>Samoa (Western Samoa)</td>\n",
       "      <td>WS</td>\n",
       "      <td>match_1</td>\n",
       "      <td>0.880773</td>\n",
       "    </tr>\n",
       "    <tr>\n",
       "      <th>216</th>\n",
       "      <td>MARSHALL ISLANDS, REPUBLIC OF THE</td>\n",
       "      <td>6810</td>\n",
       "      <td>Marshall Islands</td>\n",
       "      <td>MH</td>\n",
       "      <td>match_1</td>\n",
       "      <td>0.873917</td>\n",
       "    </tr>\n",
       "    <tr>\n",
       "      <th>217</th>\n",
       "      <td>ST KITTS AND NEVIS</td>\n",
       "      <td>2483</td>\n",
       "      <td>Saint Kitts and Nevis</td>\n",
       "      <td>KN</td>\n",
       "      <td>match_1</td>\n",
       "      <td>0.867664</td>\n",
       "    </tr>\n",
       "    <tr>\n",
       "      <th>218</th>\n",
       "      <td>ST PIERRE AND MIQUELON</td>\n",
       "      <td>1610</td>\n",
       "      <td>Saint Pierre and Miquelon</td>\n",
       "      <td>PM</td>\n",
       "      <td>match_1</td>\n",
       "      <td>0.867664</td>\n",
       "    </tr>\n",
       "    <tr>\n",
       "      <th>219</th>\n",
       "      <td>ST VINCENT AND THE GRENADINES</td>\n",
       "      <td>2488</td>\n",
       "      <td>Saint Vincent and the Grenadines</td>\n",
       "      <td>VC</td>\n",
       "      <td>match_1</td>\n",
       "      <td>0.867664</td>\n",
       "    </tr>\n",
       "    <tr>\n",
       "      <th>220</th>\n",
       "      <td>GERMANY</td>\n",
       "      <td>4280</td>\n",
       "      <td>Germany (Federal Republic of Germany)</td>\n",
       "      <td>DE</td>\n",
       "      <td>match_1</td>\n",
       "      <td>0.857421</td>\n",
       "    </tr>\n",
       "    <tr>\n",
       "      <th>221</th>\n",
       "      <td>CONGO, DEMOCRATIC REPUBLIC OF THE</td>\n",
       "      <td>7660</td>\n",
       "      <td>Congo, Democratic Republic of the Congo (forme...</td>\n",
       "      <td>rCD</td>\n",
       "      <td>match_1</td>\n",
       "      <td>0.857177</td>\n",
       "    </tr>\n",
       "    <tr>\n",
       "      <th>222</th>\n",
       "      <td>DEMOCRATIC REPUBLIC OF THE CONGO</td>\n",
       "      <td>7660</td>\n",
       "      <td>Congo, Democratic Republic of the Congo (forme...</td>\n",
       "      <td>rCD</td>\n",
       "      <td>match_1</td>\n",
       "      <td>0.857177</td>\n",
       "    </tr>\n",
       "    <tr>\n",
       "      <th>223</th>\n",
       "      <td>PITCAIRN</td>\n",
       "      <td>6225</td>\n",
       "      <td>Pitcairn Islands</td>\n",
       "      <td>PN</td>\n",
       "      <td>match_1</td>\n",
       "      <td>0.837638</td>\n",
       "    </tr>\n",
       "    <tr>\n",
       "      <th>224</th>\n",
       "      <td>BRITISH NATIONAL OVERSEAS HONG KONG PASSPORT</td>\n",
       "      <td>5820</td>\n",
       "      <td>Hong Kong</td>\n",
       "      <td>HK</td>\n",
       "      <td>match_1</td>\n",
       "      <td>0.835529</td>\n",
       "    </tr>\n",
       "    <tr>\n",
       "      <th>225</th>\n",
       "      <td>GREAT BRITAIN AND NORTHERN IRELAND</td>\n",
       "      <td>4120</td>\n",
       "      <td>United Kingdom (Great Britain and Northern Ire...</td>\n",
       "      <td>GB</td>\n",
       "      <td>match_1</td>\n",
       "      <td>0.835430</td>\n",
       "    </tr>\n",
       "    <tr>\n",
       "      <th>226</th>\n",
       "      <td>GREAT BRITAIN NORTHERN IRELAND</td>\n",
       "      <td>4120</td>\n",
       "      <td>United Kingdom (Great Britain and Northern Ire...</td>\n",
       "      <td>GB</td>\n",
       "      <td>match_1</td>\n",
       "      <td>0.835430</td>\n",
       "    </tr>\n",
       "    <tr>\n",
       "      <th>227</th>\n",
       "      <td>REPUBLIC OF PALAU</td>\n",
       "      <td>6830</td>\n",
       "      <td>Palau</td>\n",
       "      <td>PW</td>\n",
       "      <td>match_1</td>\n",
       "      <td>0.833069</td>\n",
       "    </tr>\n",
       "    <tr>\n",
       "      <th>228</th>\n",
       "      <td>VATICAN CITY</td>\n",
       "      <td>4752</td>\n",
       "      <td>Holy See (Vatican City)</td>\n",
       "      <td>VA</td>\n",
       "      <td>match_1</td>\n",
       "      <td>0.816497</td>\n",
       "    </tr>\n",
       "    <tr>\n",
       "      <th>229</th>\n",
       "      <td>KOREA, NORTH</td>\n",
       "      <td>5790</td>\n",
       "      <td>North Korea (Democratic People's Republic of K...</td>\n",
       "      <td>KP</td>\n",
       "      <td>match_1</td>\n",
       "      <td>0.779506</td>\n",
       "    </tr>\n",
       "    <tr>\n",
       "      <th>230</th>\n",
       "      <td>NORTH KOREA</td>\n",
       "      <td>5790</td>\n",
       "      <td>North Korea (Democratic People's Republic of K...</td>\n",
       "      <td>KP</td>\n",
       "      <td>match_1</td>\n",
       "      <td>0.779506</td>\n",
       "    </tr>\n",
       "    <tr>\n",
       "      <th>231</th>\n",
       "      <td>ST HELENA</td>\n",
       "      <td>7580</td>\n",
       "      <td>Saint Helena</td>\n",
       "      <td>SH</td>\n",
       "      <td>match_1</td>\n",
       "      <td>0.776946</td>\n",
       "    </tr>\n",
       "    <tr>\n",
       "      <th>232</th>\n",
       "      <td>ST LUCIA</td>\n",
       "      <td>2487</td>\n",
       "      <td>Saint Lucia</td>\n",
       "      <td>LC</td>\n",
       "      <td>match_1</td>\n",
       "      <td>0.776946</td>\n",
       "    </tr>\n",
       "    <tr>\n",
       "      <th>233</th>\n",
       "      <td>COCOS ISLANDS</td>\n",
       "      <td>6023</td>\n",
       "      <td>Cocos (Keeling) Islands</td>\n",
       "      <td>CC</td>\n",
       "      <td>match_1</td>\n",
       "      <td>0.766596</td>\n",
       "    </tr>\n",
       "    <tr>\n",
       "      <th>234</th>\n",
       "      <td>DENMARK</td>\n",
       "      <td>4099</td>\n",
       "      <td>Denmark, except Greenland</td>\n",
       "      <td>DK</td>\n",
       "      <td>match_1</td>\n",
       "      <td>0.732275</td>\n",
       "    </tr>\n",
       "    <tr>\n",
       "      <th>235</th>\n",
       "      <td>MACEDONIA</td>\n",
       "      <td>4794</td>\n",
       "      <td>North Macedonia</td>\n",
       "      <td>MK</td>\n",
       "      <td>match_1</td>\n",
       "      <td>0.732275</td>\n",
       "    </tr>\n",
       "    <tr>\n",
       "      <th>236</th>\n",
       "      <td>CHRISTMAS ISLAND</td>\n",
       "      <td>6024</td>\n",
       "      <td>Christmas Island (in the Indian Ocean)</td>\n",
       "      <td>CX</td>\n",
       "      <td>match_1</td>\n",
       "      <td>0.711651</td>\n",
       "    </tr>\n",
       "    <tr>\n",
       "      <th>237</th>\n",
       "      <td>BURMA</td>\n",
       "      <td>5460</td>\n",
       "      <td>Burma (Myanmar)</td>\n",
       "      <td>MM</td>\n",
       "      <td>match_1</td>\n",
       "      <td>0.707107</td>\n",
       "    </tr>\n",
       "    <tr>\n",
       "      <th>238</th>\n",
       "      <td>CHINA TAIWAN</td>\n",
       "      <td>5830</td>\n",
       "      <td>Taiwan</td>\n",
       "      <td>TW</td>\n",
       "      <td>match_1</td>\n",
       "      <td>0.707107</td>\n",
       "    </tr>\n",
       "    <tr>\n",
       "      <th>239</th>\n",
       "      <td>NORTHERN IRELAND DV ONLY</td>\n",
       "      <td>4190</td>\n",
       "      <td>Ireland</td>\n",
       "      <td>IE</td>\n",
       "      <td>match_1</td>\n",
       "      <td>0.707107</td>\n",
       "    </tr>\n",
       "    <tr>\n",
       "      <th>240</th>\n",
       "      <td>SAINT MARTIN</td>\n",
       "      <td>2487</td>\n",
       "      <td>Saint Lucia</td>\n",
       "      <td>LC</td>\n",
       "      <td>match_1</td>\n",
       "      <td>0.629568</td>\n",
       "    </tr>\n",
       "    <tr>\n",
       "      <th>241</th>\n",
       "      <td>MICRONESIA</td>\n",
       "      <td>6820</td>\n",
       "      <td>Micronesia, Federated States of</td>\n",
       "      <td>FM</td>\n",
       "      <td>match_1</td>\n",
       "      <td>0.607612</td>\n",
       "    </tr>\n",
       "    <tr>\n",
       "      <th>242</th>\n",
       "      <td>CZEC REPUBLIC</td>\n",
       "      <td>4351</td>\n",
       "      <td>Czech Republic</td>\n",
       "      <td>CZ</td>\n",
       "      <td>match_1</td>\n",
       "      <td>0.553170</td>\n",
       "    </tr>\n",
       "    <tr>\n",
       "      <th>243</th>\n",
       "      <td>SYRIA</td>\n",
       "      <td>5020</td>\n",
       "      <td>Syria (Syrian Arab Republic)</td>\n",
       "      <td>SY</td>\n",
       "      <td>match_1</td>\n",
       "      <td>0.549999</td>\n",
       "    </tr>\n",
       "    <tr>\n",
       "      <th>244</th>\n",
       "      <td>SAINT MAARTEN</td>\n",
       "      <td>2774</td>\n",
       "      <td>Sint Maarten</td>\n",
       "      <td>SX</td>\n",
       "      <td>match_1</td>\n",
       "      <td>0.549384</td>\n",
       "    </tr>\n",
       "  </tbody>\n",
       "</table>\n",
       "</div>"
      ],
      "text/plain": [
       "                                            query  code  \\\n",
       "214                                      TANZANIA  7830   \n",
       "215                                         SAMOA  6150   \n",
       "216             MARSHALL ISLANDS, REPUBLIC OF THE  6810   \n",
       "217                            ST KITTS AND NEVIS  2483   \n",
       "218                        ST PIERRE AND MIQUELON  1610   \n",
       "219                 ST VINCENT AND THE GRENADINES  2488   \n",
       "220                                       GERMANY  4280   \n",
       "221             CONGO, DEMOCRATIC REPUBLIC OF THE  7660   \n",
       "222              DEMOCRATIC REPUBLIC OF THE CONGO  7660   \n",
       "223                                      PITCAIRN  6225   \n",
       "224  BRITISH NATIONAL OVERSEAS HONG KONG PASSPORT  5820   \n",
       "225            GREAT BRITAIN AND NORTHERN IRELAND  4120   \n",
       "226                GREAT BRITAIN NORTHERN IRELAND  4120   \n",
       "227                             REPUBLIC OF PALAU  6830   \n",
       "228                                  VATICAN CITY  4752   \n",
       "229                                  KOREA, NORTH  5790   \n",
       "230                                   NORTH KOREA  5790   \n",
       "231                                     ST HELENA  7580   \n",
       "232                                      ST LUCIA  2487   \n",
       "233                                 COCOS ISLANDS  6023   \n",
       "234                                       DENMARK  4099   \n",
       "235                                     MACEDONIA  4794   \n",
       "236                              CHRISTMAS ISLAND  6024   \n",
       "237                                         BURMA  5460   \n",
       "238                                  CHINA TAIWAN  5830   \n",
       "239                      NORTHERN IRELAND DV ONLY  4190   \n",
       "240                                  SAINT MARTIN  2487   \n",
       "241                                    MICRONESIA  6820   \n",
       "242                                 CZEC REPUBLIC  4351   \n",
       "243                                         SYRIA  5020   \n",
       "244                                 SAINT MAARTEN  2774   \n",
       "\n",
       "                                                 match  iso     rank  \\\n",
       "214             Tanzania (United Republic of Tanzania)   TZ  match_1   \n",
       "215                              Samoa (Western Samoa)   WS  match_1   \n",
       "216                                   Marshall Islands   MH  match_1   \n",
       "217                              Saint Kitts and Nevis   KN  match_1   \n",
       "218                          Saint Pierre and Miquelon   PM  match_1   \n",
       "219                   Saint Vincent and the Grenadines   VC  match_1   \n",
       "220              Germany (Federal Republic of Germany)   DE  match_1   \n",
       "221  Congo, Democratic Republic of the Congo (forme...  rCD  match_1   \n",
       "222  Congo, Democratic Republic of the Congo (forme...  rCD  match_1   \n",
       "223                                   Pitcairn Islands   PN  match_1   \n",
       "224                                          Hong Kong   HK  match_1   \n",
       "225  United Kingdom (Great Britain and Northern Ire...   GB  match_1   \n",
       "226  United Kingdom (Great Britain and Northern Ire...   GB  match_1   \n",
       "227                                              Palau   PW  match_1   \n",
       "228                            Holy See (Vatican City)   VA  match_1   \n",
       "229  North Korea (Democratic People's Republic of K...   KP  match_1   \n",
       "230  North Korea (Democratic People's Republic of K...   KP  match_1   \n",
       "231                                       Saint Helena   SH  match_1   \n",
       "232                                        Saint Lucia   LC  match_1   \n",
       "233                            Cocos (Keeling) Islands   CC  match_1   \n",
       "234                          Denmark, except Greenland   DK  match_1   \n",
       "235                                    North Macedonia   MK  match_1   \n",
       "236             Christmas Island (in the Indian Ocean)   CX  match_1   \n",
       "237                                    Burma (Myanmar)   MM  match_1   \n",
       "238                                             Taiwan   TW  match_1   \n",
       "239                                            Ireland   IE  match_1   \n",
       "240                                        Saint Lucia   LC  match_1   \n",
       "241                    Micronesia, Federated States of   FM  match_1   \n",
       "242                                     Czech Republic   CZ  match_1   \n",
       "243                       Syria (Syrian Arab Republic)   SY  match_1   \n",
       "244                                       Sint Maarten   SX  match_1   \n",
       "\n",
       "     cosine_similarity  \n",
       "214           0.889540  \n",
       "215           0.880773  \n",
       "216           0.873917  \n",
       "217           0.867664  \n",
       "218           0.867664  \n",
       "219           0.867664  \n",
       "220           0.857421  \n",
       "221           0.857177  \n",
       "222           0.857177  \n",
       "223           0.837638  \n",
       "224           0.835529  \n",
       "225           0.835430  \n",
       "226           0.835430  \n",
       "227           0.833069  \n",
       "228           0.816497  \n",
       "229           0.779506  \n",
       "230           0.779506  \n",
       "231           0.776946  \n",
       "232           0.776946  \n",
       "233           0.766596  \n",
       "234           0.732275  \n",
       "235           0.732275  \n",
       "236           0.711651  \n",
       "237           0.707107  \n",
       "238           0.707107  \n",
       "239           0.707107  \n",
       "240           0.629568  \n",
       "241           0.607612  \n",
       "242           0.553170  \n",
       "243           0.549999  \n",
       "244           0.549384  "
      ]
     },
     "execution_count": 20,
     "metadata": {},
     "output_type": "execute_result"
    }
   ],
   "source": [
    "all_matches[all_matches['cosine_similarity']<0.9]"
   ]
  },
  {
   "cell_type": "markdown",
   "id": "e7b152cc",
   "metadata": {},
   "source": [
    "# Manual Corrections"
   ]
  },
  {
   "cell_type": "code",
   "execution_count": 21,
   "id": "847810b4",
   "metadata": {},
   "outputs": [
    {
     "data": {
      "text/html": [
       "<div>\n",
       "<style scoped>\n",
       "    .dataframe tbody tr th:only-of-type {\n",
       "        vertical-align: middle;\n",
       "    }\n",
       "\n",
       "    .dataframe tbody tr th {\n",
       "        vertical-align: top;\n",
       "    }\n",
       "\n",
       "    .dataframe thead th {\n",
       "        text-align: right;\n",
       "    }\n",
       "</style>\n",
       "<table border=\"1\" class=\"dataframe\">\n",
       "  <thead>\n",
       "    <tr style=\"text-align: right;\">\n",
       "      <th></th>\n",
       "      <th>query</th>\n",
       "      <th>code</th>\n",
       "      <th>match</th>\n",
       "      <th>iso</th>\n",
       "      <th>rank</th>\n",
       "      <th>cosine_similarity</th>\n",
       "    </tr>\n",
       "  </thead>\n",
       "  <tbody>\n",
       "    <tr>\n",
       "      <th>239</th>\n",
       "      <td>NORTHERN IRELAND DV ONLY</td>\n",
       "      <td>4120</td>\n",
       "      <td>United Kingdom (Great Britain and Northern Ire...</td>\n",
       "      <td>GB</td>\n",
       "      <td>match_1</td>\n",
       "      <td>0.707107</td>\n",
       "    </tr>\n",
       "  </tbody>\n",
       "</table>\n",
       "</div>"
      ],
      "text/plain": [
       "                        query  code  \\\n",
       "239  NORTHERN IRELAND DV ONLY  4120   \n",
       "\n",
       "                                                 match iso     rank  \\\n",
       "239  United Kingdom (Great Britain and Northern Ire...  GB  match_1   \n",
       "\n",
       "     cosine_similarity  \n",
       "239           0.707107  "
      ]
     },
     "execution_count": 21,
     "metadata": {},
     "output_type": "execute_result"
    }
   ],
   "source": [
    "all_matches.loc[all_matches['query']=='NORTHERN IRELAND DV ONLY',\n",
    "                ['code','match','iso']] = ('4120',\n",
    "                                           'United Kingdom (Great Britain and Northern Ireland)',\n",
    "                                           'GB')\n",
    "all_matches.loc[all_matches['query']=='NORTHERN IRELAND DV ONLY']"
   ]
  },
  {
   "cell_type": "code",
   "execution_count": 22,
   "id": "0ebf76c2",
   "metadata": {},
   "outputs": [
    {
     "data": {
      "text/html": [
       "<div>\n",
       "<style scoped>\n",
       "    .dataframe tbody tr th:only-of-type {\n",
       "        vertical-align: middle;\n",
       "    }\n",
       "\n",
       "    .dataframe tbody tr th {\n",
       "        vertical-align: top;\n",
       "    }\n",
       "\n",
       "    .dataframe thead th {\n",
       "        text-align: right;\n",
       "    }\n",
       "</style>\n",
       "<table border=\"1\" class=\"dataframe\">\n",
       "  <thead>\n",
       "    <tr style=\"text-align: right;\">\n",
       "      <th></th>\n",
       "      <th>query</th>\n",
       "      <th>code</th>\n",
       "      <th>match</th>\n",
       "      <th>iso</th>\n",
       "      <th>rank</th>\n",
       "      <th>cosine_similarity</th>\n",
       "    </tr>\n",
       "  </thead>\n",
       "  <tbody>\n",
       "    <tr>\n",
       "      <th>240</th>\n",
       "      <td>SAINT MARTIN</td>\n",
       "      <td>2774</td>\n",
       "      <td>Sint Maarten</td>\n",
       "      <td>SX</td>\n",
       "      <td>match_1</td>\n",
       "      <td>0.629568</td>\n",
       "    </tr>\n",
       "  </tbody>\n",
       "</table>\n",
       "</div>"
      ],
      "text/plain": [
       "            query  code         match iso     rank  cosine_similarity\n",
       "240  SAINT MARTIN  2774  Sint Maarten  SX  match_1           0.629568"
      ]
     },
     "execution_count": 22,
     "metadata": {},
     "output_type": "execute_result"
    }
   ],
   "source": [
    "all_matches.loc[all_matches['query']=='SAINT MARTIN',\n",
    "                ['code','match','iso']] = ('2774',\n",
    "                                           'Sint Maarten',\n",
    "                                           'SX')\n",
    "all_matches.loc[all_matches['query']=='SAINT MARTIN']"
   ]
  },
  {
   "cell_type": "code",
   "execution_count": 23,
   "id": "a90939b9",
   "metadata": {},
   "outputs": [
    {
     "data": {
      "text/plain": [
       "219"
      ]
     },
     "execution_count": 23,
     "metadata": {},
     "output_type": "execute_result"
    }
   ],
   "source": [
    "len(all_matches['match'].unique())"
   ]
  },
  {
   "cell_type": "code",
   "execution_count": 24,
   "id": "5c9715e8",
   "metadata": {},
   "outputs": [
    {
     "data": {
      "text/plain": [
       "240"
      ]
     },
     "execution_count": 24,
     "metadata": {},
     "output_type": "execute_result"
    }
   ],
   "source": [
    "len(country_code)"
   ]
  },
  {
   "cell_type": "code",
   "execution_count": 25,
   "id": "9f3ddfa4",
   "metadata": {},
   "outputs": [
    {
     "name": "stdout",
     "output_type": "stream",
     "text": [
      "These are the unused country labels, assign manually if needed: ['United States of America', 'Martinique', 'French Guiana', 'Falkland Islands (Islas Malvinas)', 'Svalbard and Jan Mayen', 'Gaza Strip administered by Israel', 'West Bank administered by Israel', \"Laos (Lao People's Democratic Republic)\", 'Macao', 'Norfolk Island', 'Heard Island and McDonald Islands', 'Tokelau', 'Mayotte', 'Reunion', 'French Southern and Antarctic Lands', 'Puerto Rico', 'Virgin Islands of the United States', 'Guam', 'American Samoa', 'Northern Mariana Islands', 'United States Minor Outlying Islands']\n"
     ]
    }
   ],
   "source": [
    "unused_countries=[c for c in country_code['name'] if c not in all_matches['match'].unique()]\n",
    "print(f'These are the unused country labels, assign manually if needed: {unused_countries}')"
   ]
  },
  {
   "cell_type": "code",
   "execution_count": 26,
   "id": "5fc64f56",
   "metadata": {},
   "outputs": [
    {
     "name": "stdout",
     "output_type": "stream",
     "text": [
      "The following names from the messy data didn't find a match, needs manual efforts: ['KYRGYSTAN', 'UNKNOWN', 'LAOS', 'NON NATIONLITY BASED ISSUANCES', 'JERUSALEM', 'PALESTINIAN AUTHORITY TRAVEL DOCUMENT', 'MACAU', 'SWAZILAND', 'NON NATIONALITY BASED ISSUANCES', 'WESTERN SAHARA', 'MACAU S A R', 'OTHER', 'NO NATIONALITY']\n"
     ]
    }
   ],
   "source": [
    "needs_manual_match=[c for c in country_messy['country'] if c not in all_matches['query'].unique()]\n",
    "print(f\"The following names from the messy data didn't find a match, needs manual efforts: {needs_manual_match}\")"
   ]
  },
  {
   "cell_type": "code",
   "execution_count": 27,
   "id": "39a58acb",
   "metadata": {},
   "outputs": [],
   "source": [
    "# need to look up the entire label data dictionary for matches\n",
    "manual_matches_dict={'KYRGYSTAN':'Kyrgyzstan',\n",
    "                     'LAOS':\"Laos (Lao People's Democratic Republic)\",\n",
    "                     'MACAU':'Macao',\n",
    "                     'SWAZILAND':'Eswatini',\n",
    "                     'MACAU S A R':'Macao'}"
   ]
  },
  {
   "cell_type": "code",
   "execution_count": 28,
   "id": "82290a4e",
   "metadata": {},
   "outputs": [
    {
     "data": {
      "text/html": [
       "<div>\n",
       "<style scoped>\n",
       "    .dataframe tbody tr th:only-of-type {\n",
       "        vertical-align: middle;\n",
       "    }\n",
       "\n",
       "    .dataframe tbody tr th {\n",
       "        vertical-align: top;\n",
       "    }\n",
       "\n",
       "    .dataframe thead th {\n",
       "        text-align: right;\n",
       "    }\n",
       "</style>\n",
       "<table border=\"1\" class=\"dataframe\">\n",
       "  <thead>\n",
       "    <tr style=\"text-align: right;\">\n",
       "      <th></th>\n",
       "      <th>query</th>\n",
       "      <th>match</th>\n",
       "    </tr>\n",
       "  </thead>\n",
       "  <tbody>\n",
       "    <tr>\n",
       "      <th>0</th>\n",
       "      <td>KYRGYSTAN</td>\n",
       "      <td>Kyrgyzstan</td>\n",
       "    </tr>\n",
       "    <tr>\n",
       "      <th>1</th>\n",
       "      <td>LAOS</td>\n",
       "      <td>Laos (Lao People's Democratic Republic)</td>\n",
       "    </tr>\n",
       "    <tr>\n",
       "      <th>2</th>\n",
       "      <td>MACAU</td>\n",
       "      <td>Macao</td>\n",
       "    </tr>\n",
       "    <tr>\n",
       "      <th>3</th>\n",
       "      <td>SWAZILAND</td>\n",
       "      <td>Eswatini</td>\n",
       "    </tr>\n",
       "    <tr>\n",
       "      <th>4</th>\n",
       "      <td>MACAU S A R</td>\n",
       "      <td>Macao</td>\n",
       "    </tr>\n",
       "  </tbody>\n",
       "</table>\n",
       "</div>"
      ],
      "text/plain": [
       "         query                                    match\n",
       "0    KYRGYSTAN                               Kyrgyzstan\n",
       "1         LAOS  Laos (Lao People's Democratic Republic)\n",
       "2        MACAU                                    Macao\n",
       "3    SWAZILAND                                 Eswatini\n",
       "4  MACAU S A R                                    Macao"
      ]
     },
     "execution_count": 28,
     "metadata": {},
     "output_type": "execute_result"
    }
   ],
   "source": [
    "manual_matches=pd.DataFrame.from_dict(data=manual_matches_dict,orient='index')\\\n",
    ".reset_index()\\\n",
    ".rename(columns={'index':'query',0:'match'})\n",
    "manual_matches"
   ]
  },
  {
   "cell_type": "code",
   "execution_count": 29,
   "id": "f9f21b37",
   "metadata": {},
   "outputs": [
    {
     "data": {
      "text/html": [
       "<div>\n",
       "<style scoped>\n",
       "    .dataframe tbody tr th:only-of-type {\n",
       "        vertical-align: middle;\n",
       "    }\n",
       "\n",
       "    .dataframe tbody tr th {\n",
       "        vertical-align: top;\n",
       "    }\n",
       "\n",
       "    .dataframe thead th {\n",
       "        text-align: right;\n",
       "    }\n",
       "</style>\n",
       "<table border=\"1\" class=\"dataframe\">\n",
       "  <thead>\n",
       "    <tr style=\"text-align: right;\">\n",
       "      <th></th>\n",
       "      <th>query</th>\n",
       "      <th>match</th>\n",
       "      <th>code</th>\n",
       "      <th>iso</th>\n",
       "    </tr>\n",
       "  </thead>\n",
       "  <tbody>\n",
       "    <tr>\n",
       "      <th>0</th>\n",
       "      <td>KYRGYSTAN</td>\n",
       "      <td>Kyrgyzstan</td>\n",
       "      <td>4635</td>\n",
       "      <td>KG</td>\n",
       "    </tr>\n",
       "    <tr>\n",
       "      <th>1</th>\n",
       "      <td>LAOS</td>\n",
       "      <td>Laos (Lao People's Democratic Republic)</td>\n",
       "      <td>5530</td>\n",
       "      <td>LA</td>\n",
       "    </tr>\n",
       "    <tr>\n",
       "      <th>2</th>\n",
       "      <td>MACAU</td>\n",
       "      <td>Macao</td>\n",
       "      <td>5660</td>\n",
       "      <td>MO</td>\n",
       "    </tr>\n",
       "    <tr>\n",
       "      <th>3</th>\n",
       "      <td>SWAZILAND</td>\n",
       "      <td>Eswatini</td>\n",
       "      <td>7950</td>\n",
       "      <td>SZ</td>\n",
       "    </tr>\n",
       "    <tr>\n",
       "      <th>4</th>\n",
       "      <td>MACAU S A R</td>\n",
       "      <td>Macao</td>\n",
       "      <td>5660</td>\n",
       "      <td>MO</td>\n",
       "    </tr>\n",
       "  </tbody>\n",
       "</table>\n",
       "</div>"
      ],
      "text/plain": [
       "         query                                    match  code iso\n",
       "0    KYRGYSTAN                               Kyrgyzstan  4635  KG\n",
       "1         LAOS  Laos (Lao People's Democratic Republic)  5530  LA\n",
       "2        MACAU                                    Macao  5660  MO\n",
       "3    SWAZILAND                                 Eswatini  7950  SZ\n",
       "4  MACAU S A R                                    Macao  5660  MO"
      ]
     },
     "execution_count": 29,
     "metadata": {},
     "output_type": "execute_result"
    }
   ],
   "source": [
    "manual_matches_merge=manual_matches.merge(country_code, \n",
    "                     how='inner',\n",
    "                     left_on='match',\n",
    "                     right_on='name').drop(columns=['name'])\n",
    "manual_matches_merge"
   ]
  },
  {
   "cell_type": "code",
   "execution_count": 30,
   "id": "cf1ecb4c",
   "metadata": {},
   "outputs": [
    {
     "data": {
      "text/html": [
       "<div>\n",
       "<style scoped>\n",
       "    .dataframe tbody tr th:only-of-type {\n",
       "        vertical-align: middle;\n",
       "    }\n",
       "\n",
       "    .dataframe tbody tr th {\n",
       "        vertical-align: top;\n",
       "    }\n",
       "\n",
       "    .dataframe thead th {\n",
       "        text-align: right;\n",
       "    }\n",
       "</style>\n",
       "<table border=\"1\" class=\"dataframe\">\n",
       "  <thead>\n",
       "    <tr style=\"text-align: right;\">\n",
       "      <th></th>\n",
       "      <th>query</th>\n",
       "      <th>match</th>\n",
       "      <th>code</th>\n",
       "      <th>iso</th>\n",
       "    </tr>\n",
       "  </thead>\n",
       "  <tbody>\n",
       "    <tr>\n",
       "      <th>0</th>\n",
       "      <td>AFGHANISTAN</td>\n",
       "      <td>Afghanistan</td>\n",
       "      <td>5310</td>\n",
       "      <td>AF</td>\n",
       "    </tr>\n",
       "    <tr>\n",
       "      <th>1</th>\n",
       "      <td>ALBANIA</td>\n",
       "      <td>Albania</td>\n",
       "      <td>4810</td>\n",
       "      <td>AL</td>\n",
       "    </tr>\n",
       "    <tr>\n",
       "      <th>2</th>\n",
       "      <td>ALGERIA</td>\n",
       "      <td>Algeria</td>\n",
       "      <td>7210</td>\n",
       "      <td>DZ</td>\n",
       "    </tr>\n",
       "    <tr>\n",
       "      <th>3</th>\n",
       "      <td>ANDORRA</td>\n",
       "      <td>Andorra</td>\n",
       "      <td>4271</td>\n",
       "      <td>AD</td>\n",
       "    </tr>\n",
       "    <tr>\n",
       "      <th>4</th>\n",
       "      <td>ANGOLA</td>\n",
       "      <td>Angola</td>\n",
       "      <td>7620</td>\n",
       "      <td>AO</td>\n",
       "    </tr>\n",
       "    <tr>\n",
       "      <th>...</th>\n",
       "      <td>...</td>\n",
       "      <td>...</td>\n",
       "      <td>...</td>\n",
       "      <td>...</td>\n",
       "    </tr>\n",
       "    <tr>\n",
       "      <th>245</th>\n",
       "      <td>VIETNAM</td>\n",
       "      <td>Vietnam</td>\n",
       "      <td>5520</td>\n",
       "      <td>VN</td>\n",
       "    </tr>\n",
       "    <tr>\n",
       "      <th>246</th>\n",
       "      <td>WALLIS AND FUTUNA</td>\n",
       "      <td>Wallis and Futuna</td>\n",
       "      <td>6413</td>\n",
       "      <td>WF</td>\n",
       "    </tr>\n",
       "    <tr>\n",
       "      <th>247</th>\n",
       "      <td>YEMEN</td>\n",
       "      <td>Yemen (Republic of Yemen)</td>\n",
       "      <td>5210</td>\n",
       "      <td>YE</td>\n",
       "    </tr>\n",
       "    <tr>\n",
       "      <th>248</th>\n",
       "      <td>ZAMBIA</td>\n",
       "      <td>Zambia</td>\n",
       "      <td>7940</td>\n",
       "      <td>ZM</td>\n",
       "    </tr>\n",
       "    <tr>\n",
       "      <th>249</th>\n",
       "      <td>ZIMBABWE</td>\n",
       "      <td>Zimbabwe</td>\n",
       "      <td>7960</td>\n",
       "      <td>ZW</td>\n",
       "    </tr>\n",
       "  </tbody>\n",
       "</table>\n",
       "<p>250 rows × 4 columns</p>\n",
       "</div>"
      ],
      "text/plain": [
       "                 query                      match  code iso\n",
       "0          AFGHANISTAN                Afghanistan  5310  AF\n",
       "1              ALBANIA                    Albania  4810  AL\n",
       "2              ALGERIA                    Algeria  7210  DZ\n",
       "3              ANDORRA                    Andorra  4271  AD\n",
       "4               ANGOLA                     Angola  7620  AO\n",
       "..                 ...                        ...   ...  ..\n",
       "245            VIETNAM                    Vietnam  5520  VN\n",
       "246  WALLIS AND FUTUNA          Wallis and Futuna  6413  WF\n",
       "247              YEMEN  Yemen (Republic of Yemen)  5210  YE\n",
       "248             ZAMBIA                     Zambia  7940  ZM\n",
       "249           ZIMBABWE                   Zimbabwe  7960  ZW\n",
       "\n",
       "[250 rows x 4 columns]"
      ]
     },
     "execution_count": 30,
     "metadata": {},
     "output_type": "execute_result"
    }
   ],
   "source": [
    "matches_to_use=pd.concat([manual_matches_merge,all_matches[manual_matches_merge.columns]])\n",
    "matches_to_use=matches_to_use.sort_values(\n",
    "    by=['query','match','iso','code']).reset_index(drop=True)\n",
    "matches_to_use"
   ]
  },
  {
   "cell_type": "markdown",
   "id": "018bc9e4",
   "metadata": {},
   "source": [
    "# Output results to S3"
   ]
  },
  {
   "cell_type": "code",
   "execution_count": 31,
   "id": "8e6b1aa3",
   "metadata": {},
   "outputs": [
    {
     "name": "stdout",
     "output_type": "stream",
     "text": [
      "Output to S3 completed.\n"
     ]
    }
   ],
   "source": [
    "# upload pandas dataframe to s3\n",
    "csv_buffer = io.StringIO()\n",
    "matches_to_use.to_csv(csv_buffer, index=False)\n",
    "s3.put_object(Body = csv_buffer.getvalue(), \n",
    "              Bucket = aws_credential['bucket'], \n",
    "              Key = 'visa_output/country_code_matches.csv')\n",
    "print('Output to S3 completed.')"
   ]
  },
  {
   "cell_type": "code",
   "execution_count": 32,
   "id": "a7556b78",
   "metadata": {},
   "outputs": [],
   "source": [
    "matches_to_use.to_csv('country_code_matches.csv',index=False)"
   ]
  }
 ],
 "metadata": {
  "hide_input": false,
  "kernelspec": {
   "display_name": "py-3-12-3-preview",
   "language": "python",
   "name": "python-312-preview"
  },
  "language_info": {
   "codemirror_mode": {
    "name": "ipython",
    "version": 3
   },
   "file_extension": ".py",
   "mimetype": "text/x-python",
   "name": "python",
   "nbconvert_exporter": "python",
   "pygments_lexer": "ipython3",
   "version": "3.12.3"
  },
  "toc": {
   "base_numbering": 1,
   "nav_menu": {},
   "number_sections": true,
   "sideBar": true,
   "skip_h1_title": false,
   "title_cell": "Table of Contents",
   "title_sidebar": "Contents",
   "toc_cell": false,
   "toc_position": {
    "height": "calc(100% - 180px)",
    "left": "10px",
    "top": "150px",
    "width": "231px"
   },
   "toc_section_display": true,
   "toc_window_display": true
  },
  "varInspector": {
   "cols": {
    "lenName": 16,
    "lenType": 16,
    "lenVar": 40
   },
   "kernels_config": {
    "python": {
     "delete_cmd_postfix": "",
     "delete_cmd_prefix": "del ",
     "library": "var_list.py",
     "varRefreshCmd": "print(var_dic_list())"
    },
    "r": {
     "delete_cmd_postfix": ") ",
     "delete_cmd_prefix": "rm(",
     "library": "var_list.r",
     "varRefreshCmd": "cat(var_dic_list()) "
    }
   },
   "oldHeight": 122.852,
   "position": {
    "height": "144.852px",
    "left": "1053px",
    "right": "20px",
    "top": "121px",
    "width": "350px"
   },
   "types_to_exclude": [
    "module",
    "function",
    "builtin_function_or_method",
    "instance",
    "_Feature"
   ],
   "varInspector_section_display": "block",
   "window_display": false
  }
 },
 "nbformat": 4,
 "nbformat_minor": 5
}
